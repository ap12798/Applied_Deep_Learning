{
  "nbformat": 4,
  "nbformat_minor": 0,
  "metadata": {
    "colab": {
      "name": "Project_1.ipynb",
      "provenance": [],
      "collapsed_sections": [],
      "toc_visible": true,
      "authorship_tag": "ABX9TyOdTc9CKKzB0H447FPyMAzv",
      "include_colab_link": true
    },
    "kernelspec": {
      "name": "python3",
      "display_name": "Python 3"
    },
    "language_info": {
      "name": "python"
    }
  },
  "cells": [
    {
      "cell_type": "markdown",
      "metadata": {
        "id": "view-in-github",
        "colab_type": "text"
      },
      "source": [
        "<a href=\"https://colab.research.google.com/github/ap12798/Applied_Deep_Learning/blob/main/Project_1.ipynb\" target=\"_parent\"><img src=\"https://colab.research.google.com/assets/colab-badge.svg\" alt=\"Open In Colab\"/></a>"
      ]
    },
    {
      "cell_type": "markdown",
      "metadata": {
        "id": "EGDex4-BA1EE"
      },
      "source": [
        "### This Applied Deep Learning Project will be to determine the stock trend of Deere (stock abrev DE) for the beginning of 2021. The notebook will make use of the library yfinance to access Deere's beginning day stock price for the past 10 years. Stacked LSTM, dropout, adam optimizer\n",
        "\n",
        "\n",
        "\n",
        "1.   Best Model Stacked LSTM with 60 days of reference prices\n",
        "2.   Stacked LSTM with 30 and 90 days of reference prices\n",
        "3.   Alternate RNN models (Simple RNN, Layered RNN, Bidrectional RNN)\n",
        "\n"
      ]
    },
    {
      "cell_type": "code",
      "metadata": {
        "id": "MvM4LJuDWP9Q",
        "colab": {
          "base_uri": "https://localhost:8080/"
        },
        "outputId": "540f02eb-de42-4382-ee7b-611efdff68aa"
      },
      "source": [
        "!pip install yfinance"
      ],
      "execution_count": 286,
      "outputs": [
        {
          "output_type": "stream",
          "text": [
            "Requirement already satisfied: yfinance in /usr/local/lib/python3.7/dist-packages (0.1.63)\n",
            "Requirement already satisfied: numpy>=1.15 in /usr/local/lib/python3.7/dist-packages (from yfinance) (1.19.5)\n",
            "Requirement already satisfied: lxml>=4.5.1 in /usr/local/lib/python3.7/dist-packages (from yfinance) (4.6.3)\n",
            "Requirement already satisfied: multitasking>=0.0.7 in /usr/local/lib/python3.7/dist-packages (from yfinance) (0.0.9)\n",
            "Requirement already satisfied: requests>=2.20 in /usr/local/lib/python3.7/dist-packages (from yfinance) (2.23.0)\n",
            "Requirement already satisfied: pandas>=0.24 in /usr/local/lib/python3.7/dist-packages (from yfinance) (1.1.5)\n",
            "Requirement already satisfied: python-dateutil>=2.7.3 in /usr/local/lib/python3.7/dist-packages (from pandas>=0.24->yfinance) (2.8.1)\n",
            "Requirement already satisfied: pytz>=2017.2 in /usr/local/lib/python3.7/dist-packages (from pandas>=0.24->yfinance) (2018.9)\n",
            "Requirement already satisfied: six>=1.5 in /usr/local/lib/python3.7/dist-packages (from python-dateutil>=2.7.3->pandas>=0.24->yfinance) (1.15.0)\n",
            "Requirement already satisfied: urllib3!=1.25.0,!=1.25.1,<1.26,>=1.21.1 in /usr/local/lib/python3.7/dist-packages (from requests>=2.20->yfinance) (1.24.3)\n",
            "Requirement already satisfied: chardet<4,>=3.0.2 in /usr/local/lib/python3.7/dist-packages (from requests>=2.20->yfinance) (3.0.4)\n",
            "Requirement already satisfied: idna<3,>=2.5 in /usr/local/lib/python3.7/dist-packages (from requests>=2.20->yfinance) (2.10)\n",
            "Requirement already satisfied: certifi>=2017.4.17 in /usr/local/lib/python3.7/dist-packages (from requests>=2.20->yfinance) (2021.5.30)\n"
          ],
          "name": "stdout"
        }
      ]
    },
    {
      "cell_type": "code",
      "metadata": {
        "id": "8iMqkH9_mFUU"
      },
      "source": [
        "import numpy as np\n",
        "import matplotlib.pyplot as plt\n",
        "import pandas as pd\n",
        "import datetime\n",
        "import time\n",
        "import yfinance as yf\n",
        "from sklearn.preprocessing import MinMaxScaler\n",
        "import statistics as stat\n",
        "from keras.models import Sequential\n",
        "from keras.layers import Dense\n",
        "from keras.layers import LSTM, SimpleRNN, Bidirectional\n",
        "from keras.layers import Dropout"
      ],
      "execution_count": 287,
      "outputs": []
    },
    {
      "cell_type": "markdown",
      "metadata": {
        "id": "5d4vmDU3pqpx"
      },
      "source": [
        "Training Set and Test set. Test set isn't used until later."
      ]
    },
    {
      "cell_type": "code",
      "metadata": {
        "colab": {
          "base_uri": "https://localhost:8080/"
        },
        "id": "gF90oH2ems-e",
        "outputId": "174d3875-44e0-4cef-a2b5-c27410866dca"
      },
      "source": [
        "data_train = yf.download(\"DE\", start=\"2010-01-01\", end=\"2020-12-31\") # defaults to one price per day\n",
        "data_test = yf.download(\"DE\", start=\"2021-01-01\", end=\"2021-05-31\")"
      ],
      "execution_count": 288,
      "outputs": [
        {
          "output_type": "stream",
          "text": [
            "[*********************100%***********************]  1 of 1 completed\n",
            "[*********************100%***********************]  1 of 1 completed\n"
          ],
          "name": "stdout"
        }
      ]
    },
    {
      "cell_type": "markdown",
      "metadata": {
        "id": "vuLggLIIqEti"
      },
      "source": [
        "**Looking at the pandas output complete from yahoo, will trim down to just open price**"
      ]
    },
    {
      "cell_type": "code",
      "metadata": {
        "colab": {
          "base_uri": "https://localhost:8080/",
          "height": 232
        },
        "id": "Zu0K_GQrEQih",
        "outputId": "8322fd6f-65d8-40cb-de96-d352d1ab6ef0"
      },
      "source": [
        "data_train.head()"
      ],
      "execution_count": 290,
      "outputs": [
        {
          "output_type": "execute_result",
          "data": {
            "text/html": [
              "<div>\n",
              "<style scoped>\n",
              "    .dataframe tbody tr th:only-of-type {\n",
              "        vertical-align: middle;\n",
              "    }\n",
              "\n",
              "    .dataframe tbody tr th {\n",
              "        vertical-align: top;\n",
              "    }\n",
              "\n",
              "    .dataframe thead th {\n",
              "        text-align: right;\n",
              "    }\n",
              "</style>\n",
              "<table border=\"1\" class=\"dataframe\">\n",
              "  <thead>\n",
              "    <tr style=\"text-align: right;\">\n",
              "      <th></th>\n",
              "      <th>Open</th>\n",
              "      <th>High</th>\n",
              "      <th>Low</th>\n",
              "      <th>Close</th>\n",
              "      <th>Adj Close</th>\n",
              "      <th>Volume</th>\n",
              "    </tr>\n",
              "    <tr>\n",
              "      <th>Date</th>\n",
              "      <th></th>\n",
              "      <th></th>\n",
              "      <th></th>\n",
              "      <th></th>\n",
              "      <th></th>\n",
              "      <th></th>\n",
              "    </tr>\n",
              "  </thead>\n",
              "  <tbody>\n",
              "    <tr>\n",
              "      <th>2010-01-04</th>\n",
              "      <td>54.740002</td>\n",
              "      <td>56.200001</td>\n",
              "      <td>54.340000</td>\n",
              "      <td>56.060001</td>\n",
              "      <td>43.838268</td>\n",
              "      <td>3974600</td>\n",
              "    </tr>\n",
              "    <tr>\n",
              "      <th>2010-01-05</th>\n",
              "      <td>56.189999</td>\n",
              "      <td>56.560001</td>\n",
              "      <td>55.599998</td>\n",
              "      <td>55.849998</td>\n",
              "      <td>43.674049</td>\n",
              "      <td>3007400</td>\n",
              "    </tr>\n",
              "    <tr>\n",
              "      <th>2010-01-06</th>\n",
              "      <td>55.570000</td>\n",
              "      <td>56.040001</td>\n",
              "      <td>55.220001</td>\n",
              "      <td>55.700001</td>\n",
              "      <td>43.556759</td>\n",
              "      <td>2854500</td>\n",
              "    </tr>\n",
              "    <tr>\n",
              "      <th>2010-01-07</th>\n",
              "      <td>55.380001</td>\n",
              "      <td>56.130001</td>\n",
              "      <td>55.169998</td>\n",
              "      <td>56.099998</td>\n",
              "      <td>43.869537</td>\n",
              "      <td>2694000</td>\n",
              "    </tr>\n",
              "    <tr>\n",
              "      <th>2010-01-08</th>\n",
              "      <td>55.779999</td>\n",
              "      <td>57.750000</td>\n",
              "      <td>55.299999</td>\n",
              "      <td>57.630001</td>\n",
              "      <td>45.065994</td>\n",
              "      <td>4165500</td>\n",
              "    </tr>\n",
              "  </tbody>\n",
              "</table>\n",
              "</div>"
            ],
            "text/plain": [
              "                 Open       High        Low      Close  Adj Close   Volume\n",
              "Date                                                                      \n",
              "2010-01-04  54.740002  56.200001  54.340000  56.060001  43.838268  3974600\n",
              "2010-01-05  56.189999  56.560001  55.599998  55.849998  43.674049  3007400\n",
              "2010-01-06  55.570000  56.040001  55.220001  55.700001  43.556759  2854500\n",
              "2010-01-07  55.380001  56.130001  55.169998  56.099998  43.869537  2694000\n",
              "2010-01-08  55.779999  57.750000  55.299999  57.630001  45.065994  4165500"
            ]
          },
          "metadata": {
            "tags": []
          },
          "execution_count": 290
        }
      ]
    },
    {
      "cell_type": "code",
      "metadata": {
        "colab": {
          "base_uri": "https://localhost:8080/"
        },
        "id": "HkNuTfEjsRth",
        "outputId": "a5ef2a31-b73b-412c-f2dc-489c67b70002"
      },
      "source": [
        "data_train.shape, data_test.shape "
      ],
      "execution_count": 149,
      "outputs": [
        {
          "output_type": "execute_result",
          "data": {
            "text/plain": [
              "((2768, 6), (102, 6))"
            ]
          },
          "metadata": {
            "tags": []
          },
          "execution_count": 149
        }
      ]
    },
    {
      "cell_type": "code",
      "metadata": {
        "id": "c5Ftj4RPvt4a"
      },
      "source": [
        "train_set = data_train.iloc[:, 1:2].values # grabbing just the stock open price, iloc used to get right index for opening (creating a numpy array)\n",
        "test_set = data_test.iloc[:, 1:2].values"
      ],
      "execution_count": 291,
      "outputs": []
    },
    {
      "cell_type": "code",
      "metadata": {
        "colab": {
          "base_uri": "https://localhost:8080/"
        },
        "id": "fjPwETU3wje9",
        "outputId": "da347955-94bf-42ed-e738-53024e7e15c5"
      },
      "source": [
        "train_set.shape, test_set.shape"
      ],
      "execution_count": 152,
      "outputs": [
        {
          "output_type": "execute_result",
          "data": {
            "text/plain": [
              "((2768, 1), (102, 1))"
            ]
          },
          "metadata": {
            "tags": []
          },
          "execution_count": 152
        }
      ]
    },
    {
      "cell_type": "code",
      "metadata": {
        "colab": {
          "base_uri": "https://localhost:8080/",
          "height": 312
        },
        "id": "VVrM6nANpFdn",
        "outputId": "81df5523-53d5-4ff6-fa66-480941ba6d33"
      },
      "source": [
        "plt.plot(train_set, color = 'green')\n",
        "plt.title('Stock Price')\n",
        "plt.xlabel('Time in Days')\n",
        "plt.ylabel('Stock Price')\n",
        "plt.legend()\n",
        "plt.show()"
      ],
      "execution_count": 279,
      "outputs": [
        {
          "output_type": "stream",
          "text": [
            "No handles with labels found to put in legend.\n"
          ],
          "name": "stderr"
        },
        {
          "output_type": "display_data",
          "data": {
            "image/png": "[encoded data removed]",
            "text/plain": [
              "<Figure size 432x288 with 1 Axes>"
            ]
          },
          "metadata": {
            "tags": [],
            "needs_background": "light"
          }
        }
      ]
    },
    {
      "cell_type": "code",
      "metadata": {
        "id": "8vrW6LLZwxWU"
      },
      "source": [
        "# normalizing the test data\n",
        "sc = MinMaxScaler() # defaults to zero and one\n",
        "train_set_scaled = sc.fit_transform(train_set) # applying fit transform method to sc\n",
        "\n",
        "X_train = [] # empty list that will be populated with the 60 previous stock prices and the next one\n",
        "y_train = [] \n",
        "for i in range(60, 2768): #l en(train_set) # need to start at the 60th \n",
        "  X_train.append(train_set_scaled[i-60:i, 0]) # adding data to X_train (60 previous stock price before i'th day)\n",
        "  y_train.append(train_set_scaled[i,0]) # adding data to y_train (time at t+1) - i because indexes start at zero\n",
        "X_train = np.array(X_train) # convert list to numpy array\n",
        "y_train = np.array(y_train) # convert list to numpy array\n",
        "\n",
        "X_train = np.reshape(X_train, (X_train.shape[0], X_train.shape[1], 1)) # reshaping data and adding a dimension for the single indicator we are trying to predict\n",
        "\n",
        "\n",
        "# need to get roughly 3 months (20 per month) 60 previous stock prices from the original data\n",
        "# data_set_total = yf.download(\"DE\", start = \"2010-01-01\", end = \"2021-05-31\")\n",
        "# data_set_total = data_set_total['Open']\n",
        "\n",
        "data_set_total = pd.concat((data_train['Open'], data_test['Open']), axis = 0)\n",
        "\n",
        "inputs = data_set_total[len(data_set_total) - len(data_test) - 60:].values # using the previous 60 days to predict the 61st day\n",
        "inputs = inputs.reshape(-1,1)\n",
        "inputs = sc.transform(inputs) # rnn is expecting this format\n",
        "X_test = []\n",
        "for i in range(60, 162): # 60 previous inputs + length of data_test (was 162 when 60)\n",
        "  X_test.append(inputs[i-60:i, 0])\n",
        "X_test = np.array(X_test)\n",
        "X_test = np.reshape(X_test, (X_test.shape[0], X_test.shape[1], 1)) # 3D structure for input"
      ],
      "execution_count": 292,
      "outputs": []
    },
    {
      "cell_type": "markdown",
      "metadata": {
        "id": "_1aOU3OnrSyP"
      },
      "source": [
        "**Taking a look at our new training set that is normalized from zero to one. Makes sense that the later values are closer to one after looking at the upward trend from above graph.**"
      ]
    },
    {
      "cell_type": "markdown",
      "metadata": {
        "id": "tLXw9Tf4rii8"
      },
      "source": [
        "**At each time 't' the RNN will look at the 60 previous stock prices before time 't' and time 't' and based on the trend, try to predict the best output at t+1**\n",
        "\n",
        "*Tried 30 timesteps and 90 timesteps and landed on 60 (3 months)being the best based on output**\n"
      ]
    },
    {
      "cell_type": "code",
      "metadata": {
        "colab": {
          "base_uri": "https://localhost:8080/"
        },
        "id": "DSVbl6Ertj3s",
        "outputId": "8ef8cc7f-3e47-4057-cc9c-16c5b8f84d68"
      },
      "source": [
        "len(train_set)"
      ],
      "execution_count": 156,
      "outputs": [
        {
          "output_type": "execute_result",
          "data": {
            "text/plain": [
              "2768"
            ]
          },
          "metadata": {
            "tags": []
          },
          "execution_count": 156
        }
      ]
    },
    {
      "cell_type": "code",
      "metadata": {
        "colab": {
          "base_uri": "https://localhost:8080/"
        },
        "id": "Of78Pk-vWKDP",
        "outputId": "abae8b70-f457-4d0c-e689-19fcb37cc412"
      },
      "source": [
        "X_train.shape"
      ],
      "execution_count": 158,
      "outputs": [
        {
          "output_type": "execute_result",
          "data": {
            "text/plain": [
              "(2708, 60)"
            ]
          },
          "metadata": {
            "tags": []
          },
          "execution_count": 158
        }
      ]
    },
    {
      "cell_type": "code",
      "metadata": {
        "colab": {
          "base_uri": "https://localhost:8080/"
        },
        "id": "UYo7EBEYZsLz",
        "outputId": "789976ee-54c0-4c52-a8ab-3961027d6791"
      },
      "source": [
        "X_train.shape # new 3-d array"
      ],
      "execution_count": 160,
      "outputs": [
        {
          "output_type": "execute_result",
          "data": {
            "text/plain": [
              "(2708, 60, 1)"
            ]
          },
          "metadata": {
            "tags": []
          },
          "execution_count": 160
        }
      ]
    },
    {
      "cell_type": "code",
      "metadata": {
        "id": "ANS4EFJZ2yqi"
      },
      "source": [
        "# hyperparameters\n",
        "dropout = 0.2\n",
        "neurons = 128 # tried 64\n",
        "epochs = 16 # tried 50 and mean square error didn't do much after 16\n",
        "batch_size = 32\n",
        "optimizer = 'adam'\n",
        "loss = 'mean_squared_error'"
      ],
      "execution_count": 295,
      "outputs": []
    },
    {
      "cell_type": "markdown",
      "metadata": {
        "id": "zFiwPAPQs2Hl"
      },
      "source": [
        "### **1. Stacked LSTM**\n",
        "\n",
        " \n",
        "\n",
        "*   #### Model seems to perform well and catches most of the stock price changes.\n",
        "*   #### Also the average % error is low\n"
      ]
    },
    {
      "cell_type": "code",
      "metadata": {
        "id": "EwHbR2WacDtX"
      },
      "source": [
        "model_stacked_LSTM = Sequential()\n",
        "model_stacked_LSTM.add(LSTM(units = neurons, return_sequences = True, input_shape = (X_train.shape[1], 1))) # first layer\n",
        "model_stacked_LSTM.add(Dropout(dropout))\n",
        "model_stacked_LSTM.add(LSTM(units = neurons, return_sequences = True))\n",
        "model_stacked_LSTM.add(Dropout(dropout))\n",
        "model_stacked_LSTM.add(LSTM(units = neurons, return_sequences = True))\n",
        "model_stacked_LSTM.add(Dropout(dropout))\n",
        "model_stacked_LSTM.add(LSTM(units = neurons))\n",
        "model_stacked_LSTM.add(Dropout(dropout))\n",
        "model_stacked_LSTM.add(Dense(1))"
      ],
      "execution_count": 296,
      "outputs": []
    },
    {
      "cell_type": "code",
      "metadata": {
        "id": "v1W3_lkua7LO"
      },
      "source": [
        "model_stacked_LSTM.compile(optimizer = optimizer, loss = loss)"
      ],
      "execution_count": 297,
      "outputs": []
    },
    {
      "cell_type": "code",
      "metadata": {
        "colab": {
          "base_uri": "https://localhost:8080/"
        },
        "id": "jH3vboUubOGV",
        "outputId": "b73b97cd-3a95-4429-88c3-7247e64a7c0b"
      },
      "source": [
        "model_stacked_LSTM.fit(X_train, y_train, epochs = epochs, batch_size = batch_size)"
      ],
      "execution_count": 298,
      "outputs": [
        {
          "output_type": "stream",
          "text": [
            "Epoch 1/16\n",
            "85/85 [==============================] - 29s 255ms/step - loss: 0.0105\n",
            "Epoch 2/16\n",
            "85/85 [==============================] - 22s 255ms/step - loss: 0.0018\n",
            "Epoch 3/16\n",
            "85/85 [==============================] - 22s 255ms/step - loss: 0.0017\n",
            "Epoch 4/16\n",
            "85/85 [==============================] - 22s 255ms/step - loss: 0.0013\n",
            "Epoch 5/16\n",
            "85/85 [==============================] - 22s 256ms/step - loss: 0.0011\n",
            "Epoch 6/16\n",
            "85/85 [==============================] - 22s 257ms/step - loss: 0.0010\n",
            "Epoch 7/16\n",
            "85/85 [==============================] - 22s 258ms/step - loss: 0.0011\n",
            "Epoch 8/16\n",
            "85/85 [==============================] - 22s 258ms/step - loss: 0.0011\n",
            "Epoch 9/16\n",
            "85/85 [==============================] - 22s 259ms/step - loss: 7.6658e-04\n",
            "Epoch 10/16\n",
            "85/85 [==============================] - 22s 260ms/step - loss: 8.9471e-04\n",
            "Epoch 11/16\n",
            "85/85 [==============================] - 22s 265ms/step - loss: 6.5101e-04\n",
            "Epoch 12/16\n",
            "85/85 [==============================] - 22s 259ms/step - loss: 7.4383e-04\n",
            "Epoch 13/16\n",
            "85/85 [==============================] - 22s 258ms/step - loss: 9.1923e-04\n",
            "Epoch 14/16\n",
            "85/85 [==============================] - 22s 258ms/step - loss: 8.8531e-04\n",
            "Epoch 15/16\n",
            "85/85 [==============================] - 22s 256ms/step - loss: 6.1417e-04\n",
            "Epoch 16/16\n",
            "85/85 [==============================] - 22s 256ms/step - loss: 6.3653e-04\n"
          ],
          "name": "stdout"
        },
        {
          "output_type": "execute_result",
          "data": {
            "text/plain": [
              "<keras.callbacks.History at 0x7ffaa18e8190>"
            ]
          },
          "metadata": {
            "tags": []
          },
          "execution_count": 298
        }
      ]
    },
    {
      "cell_type": "code",
      "metadata": {
        "id": "vZY1EyroimFn"
      },
      "source": [
        "predicted_stock_price_stacked_LSTM = model_stacked_LSTM.predict(X_test)\n",
        "predicted_stock_price_stacked_LSTM = sc.inverse_transform(predicted_stock_price_stacked_LSTM) # going back from normalizing"
      ],
      "execution_count": 300,
      "outputs": []
    },
    {
      "cell_type": "markdown",
      "metadata": {
        "id": "aySkuPt9paKB"
      },
      "source": [
        "Chart below shows the actual stock price in green and predicted stock price in blue. No training data is displayed here."
      ]
    },
    {
      "cell_type": "code",
      "metadata": {
        "colab": {
          "base_uri": "https://localhost:8080/",
          "height": 294
        },
        "id": "ImHMM0iei9SN",
        "outputId": "9c32fb5c-9a47-4bc5-ce75-f966867137d6"
      },
      "source": [
        "plt.plot(test_set, color = 'green', label = 'Deere Real Stock Price')\n",
        "plt.plot(predicted_stock_price_stacked_LSTM, color = 'blue', label = 'Deere Predicted Stock Price')\n",
        "plt.title('Stock Price Prediction Stacked LSTM 60 previous time steps')\n",
        "plt.xlabel('Time in Days')\n",
        "plt.ylabel('Stock Price')\n",
        "plt.legend()\n",
        "plt.show()"
      ],
      "execution_count": 301,
      "outputs": [
        {
          "output_type": "display_data",
          "data": {
            "image/png": "[encoded data removed]",
            "text/plain": [
              "<Figure size 432x288 with 1 Axes>"
            ]
          },
          "metadata": {
            "tags": [],
            "needs_background": "light"
          }
        }
      ]
    },
    {
      "cell_type": "markdown",
      "metadata": {
        "id": "S5AoO0T5jiS7"
      },
      "source": [
        "## Model tracks well over time but doesn't do a great job of finding all peaks. Accuracy is the best compared to the 30 and 90 day trials"
      ]
    },
    {
      "cell_type": "code",
      "metadata": {
        "id": "Ps6Jh434vkMg"
      },
      "source": [
        "# Function to calculate the percentage\n",
        "def percent_error(a, b) :\n",
        "    result = int(((b - a) * 100) / a)\n",
        "    return result"
      ],
      "execution_count": 302,
      "outputs": []
    },
    {
      "cell_type": "code",
      "metadata": {
        "colab": {
          "base_uri": "https://localhost:8080/"
        },
        "id": "q1B38PFAxeiy",
        "outputId": "bb814f35-a6f5-4c46-d257-572c4ccf66bf"
      },
      "source": [
        "print(percent_error(predicted_stock_price_stacked_LSTM[20],test_set[20]), \"%\")"
      ],
      "execution_count": 303,
      "outputs": [
        {
          "output_type": "stream",
          "text": [
            "2 %\n"
          ],
          "name": "stdout"
        }
      ]
    },
    {
      "cell_type": "code",
      "metadata": {
        "colab": {
          "base_uri": "https://localhost:8080/"
        },
        "id": "hPboD-GB_cVY",
        "outputId": "ba64ae29-3414-49c9-c6aa-5445ab220df7"
      },
      "source": [
        "print(percent_error(predicted_stock_price_stacked_LSTM[50],test_set[50]), \"%\")"
      ],
      "execution_count": 304,
      "outputs": [
        {
          "output_type": "stream",
          "text": [
            "5 %\n"
          ],
          "name": "stdout"
        }
      ]
    },
    {
      "cell_type": "code",
      "metadata": {
        "id": "qESyki8DDq00",
        "colab": {
          "base_uri": "https://localhost:8080/"
        },
        "outputId": "9572ef96-718a-4786-d152-901dace089fa"
      },
      "source": [
        "c = [abs(i-j)/i*100 for i,j in zip(predicted_stock_price_stacked_LSTM, test_set)]\n",
        "(sum(c)/len(c))[0]"
      ],
      "execution_count": 305,
      "outputs": [
        {
          "output_type": "execute_result",
          "data": {
            "text/plain": [
              "2.8087891753126804"
            ]
          },
          "metadata": {
            "tags": []
          },
          "execution_count": 305
        }
      ]
    },
    {
      "cell_type": "markdown",
      "metadata": {
        "id": "Yz0AeqtD2kNm"
      },
      "source": [
        "### **2.Below are simulations with different time steps, all stacked LSTMs**\n"
      ]
    },
    {
      "cell_type": "markdown",
      "metadata": {
        "id": "16bvPbvr2HR1"
      },
      "source": [
        "* 30 time steps loss: .00056840\n",
        "* 30 time steps accuracy: 2.9%\n",
        "* 60 time steps loss: .00063653\n",
        "* 60 time steps accuracy: 2.8%\n",
        "* 90 time steps loss: .00069412\n",
        "* 90 time steps accuracy: 6.6%"
      ]
    },
    {
      "cell_type": "code",
      "metadata": {
        "id": "vOamk5D1yK-D"
      },
      "source": [
        "X_train = [] # empty list that will be populated with the 60 previous stock prices and the next one\n",
        "y_train = [] \n",
        "for i in range(30, 2768): #len(train_set) # need to start at the 60th \n",
        "  X_train.append(train_set_scaled[i-30:i, 0])\n",
        "  y_train.append(train_set_scaled[i,0])\n",
        "X_train = np.array(X_train)\n",
        "y_train = np.array(y_train)\n",
        "\n",
        "X_train = np.reshape(X_train, (X_train.shape[0], X_train.shape[1],1))\n",
        "\n",
        "data_set_total = pd.concat((data_train['Open'], data_test['Open']), axis = 0)\n",
        "\n",
        "inputs = data_set_total[len(data_set_total) - len(data_test) - 30:].values # using the previous 60 days to predict the 61st day\n",
        "inputs = inputs.reshape(-1,1)\n",
        "inputs = sc.transform(inputs) # rnn is expecting this format\n",
        "X_test = []\n",
        "for i in range(30, 132): # 30 previous inputs + length of data_test (was 162 when 60)\n",
        "  X_test.append(inputs[i-30:i, 0])\n",
        "X_test = np.array(X_test)\n",
        "X_test = np.reshape(X_test, (X_test.shape[0], X_test.shape[1], 1)) # 3D structure for input"
      ],
      "execution_count": 306,
      "outputs": []
    },
    {
      "cell_type": "code",
      "metadata": {
        "id": "SkecDwM0237f"
      },
      "source": [
        "model_stacked_LSTM_30 = Sequential()\n",
        "model_stacked_LSTM_30.add(LSTM(units = neurons, return_sequences = True, input_shape = (X_train.shape[1], 1)))\n",
        "model_stacked_LSTM_30.add(Dropout(dropout))\n",
        "model_stacked_LSTM_30.add(LSTM(units = neurons, return_sequences = True))\n",
        "model_stacked_LSTM_30.add(Dropout(dropout))\n",
        "model_stacked_LSTM_30.add(LSTM(units = neurons, return_sequences = True))\n",
        "model_stacked_LSTM_30.add(Dropout(dropout))\n",
        "model_stacked_LSTM_30.add(LSTM(units = neurons))\n",
        "model_stacked_LSTM_30.add(Dropout(dropout))\n",
        "model_stacked_LSTM_30.add(Dense(1))"
      ],
      "execution_count": 307,
      "outputs": []
    },
    {
      "cell_type": "code",
      "metadata": {
        "id": "e7950gCt3BWw"
      },
      "source": [
        "model_stacked_LSTM_30.compile(optimizer = optimizer, loss = loss)"
      ],
      "execution_count": 308,
      "outputs": []
    },
    {
      "cell_type": "code",
      "metadata": {
        "colab": {
          "base_uri": "https://localhost:8080/"
        },
        "id": "utva_AeR3Dc2",
        "outputId": "748bed0f-95c5-4fd5-dcd9-459c7059bd79"
      },
      "source": [
        "model_stacked_LSTM_30.fit(X_train, y_train, epochs = epochs, batch_size = batch_size)"
      ],
      "execution_count": 309,
      "outputs": [
        {
          "output_type": "stream",
          "text": [
            "Epoch 1/16\n",
            "86/86 [==============================] - 18s 135ms/step - loss: 0.0157\n",
            "Epoch 2/16\n",
            "86/86 [==============================] - 12s 134ms/step - loss: 0.0017\n",
            "Epoch 3/16\n",
            "86/86 [==============================] - 11s 132ms/step - loss: 0.0017\n",
            "Epoch 4/16\n",
            "86/86 [==============================] - 11s 133ms/step - loss: 0.0014\n",
            "Epoch 5/16\n",
            "86/86 [==============================] - 12s 134ms/step - loss: 0.0012\n",
            "Epoch 6/16\n",
            "86/86 [==============================] - 12s 134ms/step - loss: 0.0011\n",
            "Epoch 7/16\n",
            "86/86 [==============================] - 11s 133ms/step - loss: 8.8782e-04\n",
            "Epoch 8/16\n",
            "86/86 [==============================] - 11s 133ms/step - loss: 8.1120e-04\n",
            "Epoch 9/16\n",
            "86/86 [==============================] - 11s 133ms/step - loss: 8.4385e-04\n",
            "Epoch 10/16\n",
            "86/86 [==============================] - 11s 132ms/step - loss: 9.2445e-04\n",
            "Epoch 11/16\n",
            "86/86 [==============================] - 12s 136ms/step - loss: 7.5619e-04\n",
            "Epoch 12/16\n",
            "86/86 [==============================] - 12s 136ms/step - loss: 7.7117e-04\n",
            "Epoch 13/16\n",
            "86/86 [==============================] - 12s 136ms/step - loss: 9.3373e-04\n",
            "Epoch 14/16\n",
            "86/86 [==============================] - 12s 136ms/step - loss: 6.8744e-04\n",
            "Epoch 15/16\n",
            "86/86 [==============================] - 12s 134ms/step - loss: 6.2761e-04\n",
            "Epoch 16/16\n",
            "86/86 [==============================] - 12s 135ms/step - loss: 5.6840e-04\n"
          ],
          "name": "stdout"
        },
        {
          "output_type": "execute_result",
          "data": {
            "text/plain": [
              "<keras.callbacks.History at 0x7ffaa1d7b950>"
            ]
          },
          "metadata": {
            "tags": []
          },
          "execution_count": 309
        }
      ]
    },
    {
      "cell_type": "code",
      "metadata": {
        "id": "HmNTR9o33H-W"
      },
      "source": [
        "predicted_stock_price_stacked_LSTM_30 = model_stacked_LSTM_30.predict(X_test)\n",
        "predicted_stock_price_stacked_LSTM_30 = sc.inverse_transform(predicted_stock_price_stacked_LSTM_30) # going back from normalizing"
      ],
      "execution_count": 310,
      "outputs": []
    },
    {
      "cell_type": "code",
      "metadata": {
        "colab": {
          "base_uri": "https://localhost:8080/",
          "height": 294
        },
        "id": "-E8_Wc9E3JLj",
        "outputId": "c69d1674-2362-4601-f365-01a7cb84eea9"
      },
      "source": [
        "plt.plot(test_set, color = 'green', label = 'Deere Real Stock Price')\n",
        "plt.plot(predicted_stock_price_stacked_LSTM_30, color = 'blue', label = 'Deere Predicted Stock Price')\n",
        "plt.title('Stock Price Prediction LSTM Stacked 30 previous time steps')\n",
        "plt.xlabel('Time in Days')\n",
        "plt.ylabel('Stock Price')\n",
        "plt.legend()\n",
        "plt.show()"
      ],
      "execution_count": 322,
      "outputs": [
        {
          "output_type": "display_data",
          "data": {
            "image/png": "[encoded data removed]",
            "text/plain": [
              "<Figure size 432x288 with 1 Axes>"
            ]
          },
          "metadata": {
            "tags": [],
            "needs_background": "light"
          }
        }
      ]
    },
    {
      "cell_type": "markdown",
      "metadata": {
        "id": "xjmh7DaijUt7"
      },
      "source": [
        "## It seems like this model is slightly slower to respond to changes in stock price, still good accuracy but doesn't track as well as the 60 day model"
      ]
    },
    {
      "cell_type": "code",
      "metadata": {
        "colab": {
          "base_uri": "https://localhost:8080/"
        },
        "id": "VOaWDiTU3ZII",
        "outputId": "f889b73d-e281-41f8-f764-a6f294321a83"
      },
      "source": [
        "print(abs(percent_error(predicted_stock_price_stacked_LSTM_30[20],test_set[20])), \"%\")"
      ],
      "execution_count": 315,
      "outputs": [
        {
          "output_type": "stream",
          "text": [
            "1 %\n"
          ],
          "name": "stdout"
        }
      ]
    },
    {
      "cell_type": "code",
      "metadata": {
        "colab": {
          "base_uri": "https://localhost:8080/"
        },
        "id": "j4LNtOTm3avG",
        "outputId": "f89ae290-a336-44fd-e3b8-a475549cb351"
      },
      "source": [
        "print(abs(percent_error(predicted_stock_price_stacked_LSTM_30[50],test_set[50])), \"%\")"
      ],
      "execution_count": 320,
      "outputs": [
        {
          "output_type": "stream",
          "text": [
            "4 %\n"
          ],
          "name": "stdout"
        }
      ]
    },
    {
      "cell_type": "code",
      "metadata": {
        "colab": {
          "base_uri": "https://localhost:8080/"
        },
        "id": "yO_cHv393cV-",
        "outputId": "a484eef0-6b64-49f5-8857-80912b2c4b2d"
      },
      "source": [
        "c = [abs(i-j)/i*100 for i,j in zip(predicted_stock_price_stacked_LSTM_30,test_set)]\n",
        "(sum(c)/len(c))[0]"
      ],
      "execution_count": 321,
      "outputs": [
        {
          "output_type": "execute_result",
          "data": {
            "text/plain": [
              "2.9222895548364223"
            ]
          },
          "metadata": {
            "tags": []
          },
          "execution_count": 321
        }
      ]
    },
    {
      "cell_type": "markdown",
      "metadata": {
        "id": "w9R4y2BXph9p"
      },
      "source": [
        "### 90 day window"
      ]
    },
    {
      "cell_type": "code",
      "metadata": {
        "id": "RawamKBy5wyL"
      },
      "source": [
        "X_train = [] # empty list that will be populated with the 60 previous stock prices and the next one\n",
        "y_train = [] \n",
        "for i in range(90, 2768): #len(train_set) # need to start at the 60th \n",
        "  X_train.append(train_set_scaled[i-90:i, 0])\n",
        "  y_train.append(train_set_scaled[i,0])\n",
        "X_train = np.array(X_train)\n",
        "y_train = np.array(y_train)\n",
        "\n",
        "X_train = np.reshape(X_train, (X_train.shape[0], X_train.shape[1], 1)) # reshaping data\n",
        "\n",
        "data_set_total = pd.concat((data_train['Open'], data_test['Open']), axis = 0)\n",
        "\n",
        "\n",
        "inputs = data_set_total[len(data_set_total) - len(data_test) - 90:].values # using the previous 60 days to predict the 61st day\n",
        "inputs = inputs.reshape(-1,1)\n",
        "inputs = sc.transform(inputs) # rnn is expecting this format\n",
        "X_test = []\n",
        "for i in range(90, 192): # 90 previous inputs + length of data_test (was 162 when 60)\n",
        "  X_test.append(inputs[i-90:i, 0])\n",
        "X_test = np.array(X_test)\n",
        "X_test = np.reshape(X_test, (X_test.shape[0], X_test.shape[1], 1)) # 3D structure for input"
      ],
      "execution_count": 323,
      "outputs": []
    },
    {
      "cell_type": "code",
      "metadata": {
        "id": "z_m3YXuF50nN"
      },
      "source": [
        "model_stacked_LSTM_90 = Sequential()\n",
        "model_stacked_LSTM_90.add(LSTM(units = neurons, return_sequences = True, input_shape = (X_train.shape[1], 1)))\n",
        "model_stacked_LSTM_90.add(Dropout(dropout))\n",
        "model_stacked_LSTM_90.add(LSTM(units = neurons, return_sequences = True))\n",
        "model_stacked_LSTM_90.add(Dropout(dropout))\n",
        "model_stacked_LSTM_90.add(LSTM(units = neurons, return_sequences = True))\n",
        "model_stacked_LSTM_90.add(Dropout(dropout))\n",
        "model_stacked_LSTM_90.add(LSTM(units = neurons))\n",
        "model_stacked_LSTM_90.add(Dropout(dropout))\n",
        "model_stacked_LSTM_90.add(Dense(1))"
      ],
      "execution_count": 324,
      "outputs": []
    },
    {
      "cell_type": "code",
      "metadata": {
        "id": "suEdgefH50lD"
      },
      "source": [
        "model_stacked_LSTM_90.compile(optimizer = optimizer, loss = loss)"
      ],
      "execution_count": 325,
      "outputs": []
    },
    {
      "cell_type": "code",
      "metadata": {
        "colab": {
          "base_uri": "https://localhost:8080/"
        },
        "id": "AwT912Jx50iX",
        "outputId": "b70dd63f-a6af-4b7b-8fbf-82e9823d71ba"
      },
      "source": [
        "model_stacked_LSTM_90.fit(X_train, y_train, epochs = epochs, batch_size = batch_size)"
      ],
      "execution_count": 326,
      "outputs": [
        {
          "output_type": "stream",
          "text": [
            "Epoch 1/16\n",
            "84/84 [==============================] - 38s 368ms/step - loss: 0.0167\n",
            "Epoch 2/16\n",
            "84/84 [==============================] - 31s 369ms/step - loss: 0.0014\n",
            "Epoch 3/16\n",
            "84/84 [==============================] - 31s 371ms/step - loss: 0.0014\n",
            "Epoch 4/16\n",
            "84/84 [==============================] - 31s 371ms/step - loss: 0.0014\n",
            "Epoch 5/16\n",
            "84/84 [==============================] - 31s 371ms/step - loss: 0.0024\n",
            "Epoch 6/16\n",
            "84/84 [==============================] - 31s 374ms/step - loss: 0.0012\n",
            "Epoch 7/16\n",
            "84/84 [==============================] - 31s 369ms/step - loss: 0.0010\n",
            "Epoch 8/16\n",
            "84/84 [==============================] - 31s 371ms/step - loss: 9.6028e-04\n",
            "Epoch 9/16\n",
            "84/84 [==============================] - 31s 369ms/step - loss: 9.7139e-04\n",
            "Epoch 10/16\n",
            "84/84 [==============================] - 31s 371ms/step - loss: 7.2449e-04\n",
            "Epoch 11/16\n",
            "84/84 [==============================] - 31s 369ms/step - loss: 7.6042e-04\n",
            "Epoch 12/16\n",
            "84/84 [==============================] - 31s 369ms/step - loss: 9.0918e-04\n",
            "Epoch 13/16\n",
            "84/84 [==============================] - 31s 370ms/step - loss: 7.6434e-04\n",
            "Epoch 14/16\n",
            "84/84 [==============================] - 31s 370ms/step - loss: 7.2753e-04\n",
            "Epoch 15/16\n",
            "84/84 [==============================] - 31s 370ms/step - loss: 6.6151e-04\n",
            "Epoch 16/16\n",
            "84/84 [==============================] - 31s 368ms/step - loss: 6.9412e-04\n"
          ],
          "name": "stdout"
        },
        {
          "output_type": "execute_result",
          "data": {
            "text/plain": [
              "<keras.callbacks.History at 0x7ffa9d568390>"
            ]
          },
          "metadata": {
            "tags": []
          },
          "execution_count": 326
        }
      ]
    },
    {
      "cell_type": "code",
      "metadata": {
        "id": "Z0E55aEc50dX"
      },
      "source": [
        "predicted_stock_price_stacked_LSTM_90 = model_stacked_LSTM_90.predict(X_test)\n",
        "predicted_stock_price_stacked_LSTM_90 = sc.inverse_transform(predicted_stock_price_stacked_LSTM_90) # going back from normalizing"
      ],
      "execution_count": 327,
      "outputs": []
    },
    {
      "cell_type": "code",
      "metadata": {
        "colab": {
          "base_uri": "https://localhost:8080/",
          "height": 294
        },
        "id": "7uXusT6X50Vk",
        "outputId": "c382457e-86d7-4593-b97c-553e086da29d"
      },
      "source": [
        "plt.plot(test_set, color = 'green', label = 'Deere Real Stock Price')\n",
        "plt.plot(predicted_stock_price_stacked_LSTM_90, color = 'blue', label = 'Deere Predicted Stock Price')\n",
        "plt.title('Stock Price Prediction Stacked LSTM 90 previous time steps')\n",
        "plt.xlabel('Time in Days')\n",
        "plt.ylabel('Stock Price')\n",
        "plt.legend()\n",
        "plt.show()"
      ],
      "execution_count": 341,
      "outputs": [
        {
          "output_type": "display_data",
          "data": {
            "image/png": "[encoded data removed]",
            "text/plain": [
              "<Figure size 432x288 with 1 Axes>"
            ]
          },
          "metadata": {
            "tags": [],
            "needs_background": "light"
          }
        }
      ]
    },
    {
      "cell_type": "code",
      "metadata": {
        "colab": {
          "base_uri": "https://localhost:8080/"
        },
        "id": "tuxhvS6E9qtc",
        "outputId": "18feb05e-a2c7-4217-cfcd-9eeaaf6e029c"
      },
      "source": [
        "c = [abs(i-j)/i*100 for i,j in zip(predicted_stock_price_stacked_LSTM_90, test_set)]\n",
        "(sum(c)/len(c))[0]"
      ],
      "execution_count": 329,
      "outputs": [
        {
          "output_type": "execute_result",
          "data": {
            "text/plain": [
              "6.641087643476417"
            ]
          },
          "metadata": {
            "tags": []
          },
          "execution_count": 329
        }
      ]
    },
    {
      "cell_type": "markdown",
      "metadata": {
        "id": "J0pwd4YXEt9_"
      },
      "source": [
        "### Below is running a simple RNN for comparision to the stacked LSTM"
      ]
    },
    {
      "cell_type": "code",
      "metadata": {
        "id": "kimPyn23VifT"
      },
      "source": [
        "model_RNN = Sequential()\n",
        "model_RNN.add(SimpleRNN(32))\n",
        "model_RNN.add(Dropout(dropout))\n",
        "model_RNN.add(Dense(1))"
      ],
      "execution_count": 366,
      "outputs": []
    },
    {
      "cell_type": "code",
      "metadata": {
        "id": "RCThFfhUht35"
      },
      "source": [
        "model_RNN.compile(optimizer = optimizer, loss = loss)"
      ],
      "execution_count": 367,
      "outputs": []
    },
    {
      "cell_type": "code",
      "metadata": {
        "colab": {
          "base_uri": "https://localhost:8080/"
        },
        "id": "Jmpf3r7Shr-I",
        "outputId": "95d8a1ef-f8e0-43ce-8f69-c85414645493"
      },
      "source": [
        "model_RNN.fit(X_train, y_train, epochs = epochs, batch_size = batch_size)"
      ],
      "execution_count": 368,
      "outputs": [
        {
          "output_type": "stream",
          "text": [
            "Epoch 1/16\n",
            "84/84 [==============================] - 3s 12ms/step - loss: 0.0199\n",
            "Epoch 2/16\n",
            "84/84 [==============================] - 1s 13ms/step - loss: 0.0044\n",
            "Epoch 3/16\n",
            "84/84 [==============================] - 1s 12ms/step - loss: 0.0030\n",
            "Epoch 4/16\n",
            "84/84 [==============================] - 1s 12ms/step - loss: 0.0018\n",
            "Epoch 5/16\n",
            "84/84 [==============================] - 1s 12ms/step - loss: 0.0018\n",
            "Epoch 6/16\n",
            "84/84 [==============================] - 1s 12ms/step - loss: 0.0016\n",
            "Epoch 7/16\n",
            "84/84 [==============================] - 1s 12ms/step - loss: 0.0016\n",
            "Epoch 8/16\n",
            "84/84 [==============================] - 1s 12ms/step - loss: 0.0013\n",
            "Epoch 9/16\n",
            "84/84 [==============================] - 1s 12ms/step - loss: 0.0011\n",
            "Epoch 10/16\n",
            "84/84 [==============================] - 1s 11ms/step - loss: 0.0010\n",
            "Epoch 11/16\n",
            "84/84 [==============================] - 1s 11ms/step - loss: 9.7449e-04\n",
            "Epoch 12/16\n",
            "84/84 [==============================] - 1s 12ms/step - loss: 7.9777e-04\n",
            "Epoch 13/16\n",
            "84/84 [==============================] - 1s 12ms/step - loss: 8.4250e-04\n",
            "Epoch 14/16\n",
            "84/84 [==============================] - 1s 12ms/step - loss: 7.7563e-04\n",
            "Epoch 15/16\n",
            "84/84 [==============================] - 1s 12ms/step - loss: 7.1115e-04\n",
            "Epoch 16/16\n",
            "84/84 [==============================] - 1s 12ms/step - loss: 8.7020e-04\n"
          ],
          "name": "stdout"
        },
        {
          "output_type": "execute_result",
          "data": {
            "text/plain": [
              "<keras.callbacks.History at 0x7ffa9274d290>"
            ]
          },
          "metadata": {
            "tags": []
          },
          "execution_count": 368
        }
      ]
    },
    {
      "cell_type": "code",
      "metadata": {
        "id": "GTVao_L5hzIr"
      },
      "source": [
        "predicted_stock_price_RNN = model_RNN.predict(X_test)\n",
        "predicted_stock_price_RNN = sc.inverse_transform(predicted_stock_price_RNN) # going back from normalizing"
      ],
      "execution_count": 369,
      "outputs": []
    },
    {
      "cell_type": "code",
      "metadata": {
        "colab": {
          "base_uri": "https://localhost:8080/",
          "height": 294
        },
        "id": "SkQspRlriDOv",
        "outputId": "2c263837-fd24-4e77-e193-d41b2745da94"
      },
      "source": [
        "plt.plot(test_set, color = 'green', label = 'Deere Real Stock Price')\n",
        "plt.plot(predicted_stock_price_RNN, color = 'blue', label = 'Deere Predicted Stock Price')\n",
        "plt.title('Stock Price Simple RNN 60 previous time steps')\n",
        "plt.xlabel('Time in Days')\n",
        "plt.ylabel('Stock Price')\n",
        "plt.legend()\n",
        "plt.show()"
      ],
      "execution_count": 370,
      "outputs": [
        {
          "output_type": "display_data",
          "data": {
            "image/png": "[encoded data removed]",
            "text/plain": [
              "<Figure size 432x288 with 1 Axes>"
            ]
          },
          "metadata": {
            "tags": [],
            "needs_background": "light"
          }
        }
      ]
    },
    {
      "cell_type": "markdown",
      "metadata": {
        "id": "TgBieBwyl_eM"
      },
      "source": [
        "## Need Model Comment"
      ]
    },
    {
      "cell_type": "code",
      "metadata": {
        "colab": {
          "base_uri": "https://localhost:8080/"
        },
        "id": "OBa_Jahbk56B",
        "outputId": "c9aeae8d-512c-4313-8108-505e6a05429d"
      },
      "source": [
        "print(percent_error(predicted_stock_price_RNN[20],test_set[20]), \"%\")"
      ],
      "execution_count": 349,
      "outputs": [
        {
          "output_type": "stream",
          "text": [
            "3 %\n"
          ],
          "name": "stdout"
        }
      ]
    },
    {
      "cell_type": "code",
      "metadata": {
        "colab": {
          "base_uri": "https://localhost:8080/"
        },
        "id": "43YHD9B9lIFk",
        "outputId": "91e87443-f506-4548-8d3d-c1a65f6f6e8b"
      },
      "source": [
        "print(percent_error(predicted_stock_price_RNN[50],test_set[50]), \"%\")"
      ],
      "execution_count": 350,
      "outputs": [
        {
          "output_type": "stream",
          "text": [
            "4 %\n"
          ],
          "name": "stdout"
        }
      ]
    },
    {
      "cell_type": "code",
      "metadata": {
        "colab": {
          "base_uri": "https://localhost:8080/"
        },
        "id": "F7HZ9RcdjmtK",
        "outputId": "d44de50b-2885-4979-c11c-7d8e9bd9eb99"
      },
      "source": [
        "c = [abs(i-j)/i*100 for i,j in zip(predicted_stock_price_RNN,test_set)]\n",
        "(sum(c)/len(c))[0]"
      ],
      "execution_count": 351,
      "outputs": [
        {
          "output_type": "execute_result",
          "data": {
            "text/plain": [
              "3.418013259439415"
            ]
          },
          "metadata": {
            "tags": []
          },
          "execution_count": 351
        }
      ]
    },
    {
      "cell_type": "markdown",
      "metadata": {
        "id": "b_pbsDwnlS-S"
      },
      "source": [
        "### Now shifting to a couple different RNN types to compare against the Stacked LSTM\n",
        "Below is a simple RNN but with a couple layers\n",
        "\n",
        "\n",
        "*   Simple RNN Loss: .000184148\n",
        "*   Simple RNN Accuracy: 6 %\n",
        "\n",
        "\n"
      ]
    },
    {
      "cell_type": "code",
      "metadata": {
        "id": "sxmRSGrJlDSI"
      },
      "source": [
        "model_rnn_layer = Sequential()\n",
        "model_rnn_layer.add(SimpleRNN(32, return_sequences=True))\n",
        "model_rnn_layer.add(Dropout(dropout))\n",
        "model_rnn_layer.add(SimpleRNN(32, return_sequences=True))\n",
        "model_rnn_layer.add(Dropout(dropout))\n",
        "model_rnn_layer.add(SimpleRNN(32, return_sequences=True))\n",
        "model_rnn_layer.add(Dropout(dropout))\n",
        "model_rnn_layer.add(SimpleRNN(32))\n",
        "model_rnn_layer.add(Dense(1))"
      ],
      "execution_count": 352,
      "outputs": []
    },
    {
      "cell_type": "code",
      "metadata": {
        "id": "tsQHAOYllcq9"
      },
      "source": [
        "model_rnn_layer.compile(optimizer = optimizer, loss = loss)"
      ],
      "execution_count": 353,
      "outputs": []
    },
    {
      "cell_type": "code",
      "metadata": {
        "colab": {
          "base_uri": "https://localhost:8080/"
        },
        "id": "q6O0j4lIlepf",
        "outputId": "ba719d1e-7e5c-4740-cfec-09eca6701185"
      },
      "source": [
        "model_rnn_layer.fit(X_train, y_train, epochs = epochs, batch_size = batch_size)"
      ],
      "execution_count": 354,
      "outputs": [
        {
          "output_type": "stream",
          "text": [
            "Epoch 1/16\n",
            "84/84 [==============================] - 11s 56ms/step - loss: 0.0666\n",
            "Epoch 2/16\n",
            "84/84 [==============================] - 5s 58ms/step - loss: 3.1468e-04\n",
            "Epoch 3/16\n",
            "84/84 [==============================] - 5s 57ms/step - loss: 2.5605e-04\n",
            "Epoch 4/16\n",
            "84/84 [==============================] - 5s 55ms/step - loss: 2.2623e-04\n",
            "Epoch 5/16\n",
            "84/84 [==============================] - 5s 56ms/step - loss: 2.2900e-04\n",
            "Epoch 6/16\n",
            "84/84 [==============================] - 5s 56ms/step - loss: 2.6351e-04\n",
            "Epoch 7/16\n",
            "84/84 [==============================] - 5s 56ms/step - loss: 2.1632e-04\n",
            "Epoch 8/16\n",
            "84/84 [==============================] - 5s 56ms/step - loss: 2.0696e-04\n",
            "Epoch 9/16\n",
            "84/84 [==============================] - 5s 55ms/step - loss: 2.3052e-04\n",
            "Epoch 10/16\n",
            "84/84 [==============================] - 5s 57ms/step - loss: 2.4608e-04\n",
            "Epoch 11/16\n",
            "84/84 [==============================] - 5s 57ms/step - loss: 1.9487e-04\n",
            "Epoch 12/16\n",
            "84/84 [==============================] - 5s 54ms/step - loss: 2.5370e-04\n",
            "Epoch 13/16\n",
            "84/84 [==============================] - 5s 56ms/step - loss: 2.1243e-04\n",
            "Epoch 14/16\n",
            "84/84 [==============================] - 5s 55ms/step - loss: 1.7574e-04\n",
            "Epoch 15/16\n",
            "84/84 [==============================] - 5s 54ms/step - loss: 2.1439e-04\n",
            "Epoch 16/16\n",
            "84/84 [==============================] - 5s 55ms/step - loss: 2.5746e-04\n"
          ],
          "name": "stdout"
        },
        {
          "output_type": "execute_result",
          "data": {
            "text/plain": [
              "<keras.callbacks.History at 0x7ffa9686fe10>"
            ]
          },
          "metadata": {
            "tags": []
          },
          "execution_count": 354
        }
      ]
    },
    {
      "cell_type": "code",
      "metadata": {
        "id": "z4xRPwIhl4Z2"
      },
      "source": [
        "predicted_stock_price_rnn_layer = model_rnn_layer.predict(X_test)\n",
        "predicted_stock_price_rnn_layer = sc.inverse_transform(predicted_stock_price_rnn_layer) # going back from normalizing"
      ],
      "execution_count": 355,
      "outputs": []
    },
    {
      "cell_type": "code",
      "metadata": {
        "colab": {
          "base_uri": "https://localhost:8080/",
          "height": 294
        },
        "id": "G1rpALmDlgxL",
        "outputId": "e6259dcf-375a-4bdd-eea9-84914147cbdd"
      },
      "source": [
        "plt.plot(test_set, color = 'green', label = 'Deere Real Stock Price')\n",
        "plt.plot(predicted_stock_price_rnn_layer, color = 'blue', label = 'Deere Predicted Stock Price')\n",
        "plt.title('Stock Price Layered RNN 60 previous time steps')\n",
        "plt.xlabel('Time in Days')\n",
        "plt.ylabel('Stock Price')\n",
        "plt.legend()\n",
        "plt.show()"
      ],
      "execution_count": 356,
      "outputs": [
        {
          "output_type": "display_data",
          "data": {
            "image/png": "[encoded data removed]",
            "text/plain": [
              "<Figure size 432x288 with 1 Axes>"
            ]
          },
          "metadata": {
            "tags": [],
            "needs_background": "light"
          }
        }
      ]
    },
    {
      "cell_type": "markdown",
      "metadata": {
        "id": "CMxnPvfqpJ-H"
      },
      "source": [
        "## Model is even worse than previous models, percent error is greater and you can tell by graph that predicted 'blue' is shifted down consistently"
      ]
    },
    {
      "cell_type": "code",
      "metadata": {
        "colab": {
          "base_uri": "https://localhost:8080/"
        },
        "id": "rkudo1LtmsWn",
        "outputId": "d28cecd1-27d6-42be-f283-2f705270d803"
      },
      "source": [
        "c = [abs(i-j)/i*100 for i,j in zip(predicted_stock_price_rnn_layer,test_set)]\n",
        "(sum(c)/len(c))[0]"
      ],
      "execution_count": 357,
      "outputs": [
        {
          "output_type": "execute_result",
          "data": {
            "text/plain": [
              "7.508727516915047"
            ]
          },
          "metadata": {
            "tags": []
          },
          "execution_count": 357
        }
      ]
    },
    {
      "cell_type": "code",
      "metadata": {
        "colab": {
          "base_uri": "https://localhost:8080/"
        },
        "id": "2ggeb6mOnjF-",
        "outputId": "dc8355bb-e891-4f13-db7b-1a362cd17002"
      },
      "source": [
        "model_bidirectional_LSTM = Sequential()\n",
        "model_bidirectional_LSTM.add (Bidirectional(LSTM(32, input_shape = (X_train.shape[1], 1))))\n",
        "model_bidirectional_LSTM.add(Dropout(dropout))\n",
        "model_bidirectional_LSTM.add(Dense(1))\n",
        "model_bidirectional_LSTM.compile(optimizer = optimizer, loss = loss)\n",
        "model_bidirectional_LSTM.fit(X_train, y_train, epochs = epochs, batch_size = batch_size)"
      ],
      "execution_count": 358,
      "outputs": [
        {
          "output_type": "stream",
          "text": [
            "Epoch 1/16\n",
            "84/84 [==============================] - 8s 40ms/step - loss: 0.0423\n",
            "Epoch 2/16\n",
            "84/84 [==============================] - 4s 42ms/step - loss: 0.0011\n",
            "Epoch 3/16\n",
            "84/84 [==============================] - 3s 40ms/step - loss: 7.1041e-04\n",
            "Epoch 4/16\n",
            "84/84 [==============================] - 3s 41ms/step - loss: 5.8231e-04\n",
            "Epoch 5/16\n",
            "84/84 [==============================] - 3s 40ms/step - loss: 5.2561e-04\n",
            "Epoch 6/16\n",
            "84/84 [==============================] - 3s 40ms/step - loss: 4.6027e-04\n",
            "Epoch 7/16\n",
            "84/84 [==============================] - 3s 40ms/step - loss: 3.9292e-04\n",
            "Epoch 8/16\n",
            "84/84 [==============================] - 3s 41ms/step - loss: 3.7440e-04\n",
            "Epoch 9/16\n",
            "84/84 [==============================] - 3s 41ms/step - loss: 3.1536e-04\n",
            "Epoch 10/16\n",
            "84/84 [==============================] - 3s 41ms/step - loss: 3.2976e-04\n",
            "Epoch 11/16\n",
            "84/84 [==============================] - 3s 40ms/step - loss: 3.2871e-04\n",
            "Epoch 12/16\n",
            "84/84 [==============================] - 3s 39ms/step - loss: 3.0707e-04\n",
            "Epoch 13/16\n",
            "84/84 [==============================] - 3s 40ms/step - loss: 3.3715e-04\n",
            "Epoch 14/16\n",
            "84/84 [==============================] - 3s 40ms/step - loss: 2.7608e-04\n",
            "Epoch 15/16\n",
            "84/84 [==============================] - 4s 44ms/step - loss: 2.6080e-04\n",
            "Epoch 16/16\n",
            "84/84 [==============================] - 4s 43ms/step - loss: 2.3495e-04\n"
          ],
          "name": "stdout"
        },
        {
          "output_type": "execute_result",
          "data": {
            "text/plain": [
              "<keras.callbacks.History at 0x7ffa94fd9ed0>"
            ]
          },
          "metadata": {
            "tags": []
          },
          "execution_count": 358
        }
      ]
    },
    {
      "cell_type": "code",
      "metadata": {
        "id": "qp-1CVHSrBnJ"
      },
      "source": [
        "predicted_stock_price_birectional_LSTM = model_bidirectional_LSTM.predict(X_test)\n",
        "predicted_stock_price_birectional_LSTM = sc.inverse_transform(predicted_stock_price_birectional_LSTM) # going back from normalizing"
      ],
      "execution_count": 359,
      "outputs": []
    },
    {
      "cell_type": "code",
      "metadata": {
        "colab": {
          "base_uri": "https://localhost:8080/",
          "height": 294
        },
        "id": "Z20m4zq1rTje",
        "outputId": "a121d328-0209-48b8-f206-1394cbe9be9b"
      },
      "source": [
        "plt.plot(test_set, color = 'green', label = 'Deere Real Stock Price')\n",
        "plt.plot(predicted_stock_price_birectional_LSTM, color = 'blue', label = 'Deere Predicted Stock Price')\n",
        "plt.title('Stock Price Bidirectional LSTM 60 previous time steps')\n",
        "plt.xlabel('Time in Days')\n",
        "plt.ylabel('Stock Price')\n",
        "plt.legend()\n",
        "plt.show()"
      ],
      "execution_count": 360,
      "outputs": [
        {
          "output_type": "display_data",
          "data": {
            "image/png": "[encoded data removed]",
            "text/plain": [
              "<Figure size 432x288 with 1 Axes>"
            ]
          },
          "metadata": {
            "tags": [],
            "needs_background": "light"
          }
        }
      ]
    },
    {
      "cell_type": "code",
      "metadata": {
        "id": "ApIYCz9HrbSX"
      },
      "source": [
        ""
      ],
      "execution_count": null,
      "outputs": []
    }
  ]
}