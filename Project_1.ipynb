{
  "nbformat": 4,
  "nbformat_minor": 0,
  "metadata": {
    "colab": {
      "name": "Project_1.ipynb",
      "provenance": [],
      "collapsed_sections": [],
      "toc_visible": true,
      "authorship_tag": "ABX9TyOPxDjKNt2YDC2yOc1PVT12",
      "include_colab_link": true
    },
    "kernelspec": {
      "name": "python3",
      "display_name": "Python 3"
    },
    "language_info": {
      "name": "python"
    }
  },
  "cells": [
    {
      "cell_type": "markdown",
      "metadata": {
        "id": "view-in-github",
        "colab_type": "text"
      },
      "source": [
        "<a href=\"https://colab.research.google.com/github/ap12798/Applied_Deep_Learning/blob/main/Project_1.ipynb\" target=\"_parent\"><img src=\"https://colab.research.google.com/assets/colab-badge.svg\" alt=\"Open In Colab\"/></a>"
      ]
    },
    {
      "cell_type": "markdown",
      "metadata": {
        "id": "EGDex4-BA1EE"
      },
      "source": [
        "### This Applied Deep Learning Project will determine the stock trend of Deere (stock abrev DE) for the beginning of 2021. The notebook will make use of the library yfinance to access Deere's beginning day stock price for the past 10 years. Stacked LSTM, dropout, adam optimizer\n",
        "\n",
        "Notes:\n",
        "\n",
        "\n",
        "*   Landed on batch size of 32, tried 16 and 128. 16 couldn't get to the same loss that 32 got to and 128 seemed like the predicted stock prices could not predict the day to day changes, but did fine in overall trend.\n",
        "*   Found that 50 landed on the best loss tried 16 64 and 128\n",
        "*   The lower loss usually came between 15 and 16 epochs, so landed on 16 epochs\n",
        "\n",
        "\n",
        "\n",
        "Table of Contents\n",
        "\n",
        "1.   Started with Stacked LSTM with 60 days of reference prices. Loss: .000438 and percent error 7.9%\n",
        "2.   Experimented with same model, but 30 and 90 days of reference prices. instead of 60 days, surprisingly the 90 days performed better, so stuck with the 90 days for the rest of the models. 30 days loss .00059 and percent error 8.9% while 90 days loss .00049 and percent error 4.60%\n",
        "3.   90 days Simple RNN loss .00024 and percent error 4.15%\n",
        "4.   90 days Layered RNN loss .000737 and percenter error 5.17%\n",
        "5.   90 days Bidirectional RNN performed the best out of all at loss .00034 and percent error 1.99\n",
        "\n"
      ]
    },
    {
      "cell_type": "code",
      "metadata": {
        "id": "MvM4LJuDWP9Q",
        "colab": {
          "base_uri": "https://localhost:8080/"
        },
        "outputId": "292f8048-1cc3-494d-ccbe-bce296b7935e"
      },
      "source": [
        "!pip install yfinance"
      ],
      "execution_count": 1,
      "outputs": [
        {
          "output_type": "stream",
          "text": [
            "Requirement already satisfied: yfinance in /usr/local/lib/python3.7/dist-packages (0.1.63)\n",
            "Requirement already satisfied: multitasking>=0.0.7 in /usr/local/lib/python3.7/dist-packages (from yfinance) (0.0.9)\n",
            "Requirement already satisfied: requests>=2.20 in /usr/local/lib/python3.7/dist-packages (from yfinance) (2.23.0)\n",
            "Requirement already satisfied: lxml>=4.5.1 in /usr/local/lib/python3.7/dist-packages (from yfinance) (4.6.3)\n",
            "Requirement already satisfied: numpy>=1.15 in /usr/local/lib/python3.7/dist-packages (from yfinance) (1.19.5)\n",
            "Requirement already satisfied: pandas>=0.24 in /usr/local/lib/python3.7/dist-packages (from yfinance) (1.1.5)\n",
            "Requirement already satisfied: python-dateutil>=2.7.3 in /usr/local/lib/python3.7/dist-packages (from pandas>=0.24->yfinance) (2.8.1)\n",
            "Requirement already satisfied: pytz>=2017.2 in /usr/local/lib/python3.7/dist-packages (from pandas>=0.24->yfinance) (2018.9)\n",
            "Requirement already satisfied: six>=1.5 in /usr/local/lib/python3.7/dist-packages (from python-dateutil>=2.7.3->pandas>=0.24->yfinance) (1.15.0)\n",
            "Requirement already satisfied: urllib3!=1.25.0,!=1.25.1,<1.26,>=1.21.1 in /usr/local/lib/python3.7/dist-packages (from requests>=2.20->yfinance) (1.24.3)\n",
            "Requirement already satisfied: idna<3,>=2.5 in /usr/local/lib/python3.7/dist-packages (from requests>=2.20->yfinance) (2.10)\n",
            "Requirement already satisfied: certifi>=2017.4.17 in /usr/local/lib/python3.7/dist-packages (from requests>=2.20->yfinance) (2021.5.30)\n",
            "Requirement already satisfied: chardet<4,>=3.0.2 in /usr/local/lib/python3.7/dist-packages (from requests>=2.20->yfinance) (3.0.4)\n"
          ],
          "name": "stdout"
        }
      ]
    },
    {
      "cell_type": "code",
      "metadata": {
        "id": "8iMqkH9_mFUU"
      },
      "source": [
        "import numpy as np\n",
        "import matplotlib.pyplot as plt\n",
        "import pandas as pd\n",
        "import datetime\n",
        "import time\n",
        "import yfinance as yf\n",
        "from sklearn.preprocessing import MinMaxScaler\n",
        "import statistics as stat\n",
        "from keras.models import Sequential\n",
        "from keras.layers import Dense\n",
        "from keras.layers import LSTM, SimpleRNN, Bidirectional\n",
        "from keras.layers import Dropout"
      ],
      "execution_count": 2,
      "outputs": []
    },
    {
      "cell_type": "markdown",
      "metadata": {
        "id": "5d4vmDU3pqpx"
      },
      "source": [
        "Training Set and Test set. Test set isn't used until later. Accessing data from yahoo library and setting training data last 10 years and test data to 2021 up until end of May"
      ]
    },
    {
      "cell_type": "code",
      "metadata": {
        "colab": {
          "base_uri": "https://localhost:8080/"
        },
        "id": "gF90oH2ems-e",
        "outputId": "00a25b2a-5437-4a3e-a98a-4043397a4980"
      },
      "source": [
        "data_train = yf.download(\"DE\", start=\"2010-01-01\", end=\"2020-12-31\") # defaults to one price per day\n",
        "data_test = yf.download(\"DE\", start=\"2021-01-01\", end=\"2021-05-31\")"
      ],
      "execution_count": 3,
      "outputs": [
        {
          "output_type": "stream",
          "text": [
            "[*********************100%***********************]  1 of 1 completed\n",
            "[*********************100%***********************]  1 of 1 completed\n"
          ],
          "name": "stdout"
        }
      ]
    },
    {
      "cell_type": "markdown",
      "metadata": {
        "id": "vuLggLIIqEti"
      },
      "source": [
        "**Looking at the pandas output complete from yahoo, will trim down to just open price**"
      ]
    },
    {
      "cell_type": "code",
      "metadata": {
        "colab": {
          "base_uri": "https://localhost:8080/",
          "height": 232
        },
        "id": "Zu0K_GQrEQih",
        "outputId": "55a5a64e-cf13-4f15-9832-fd28fb174b80"
      },
      "source": [
        "data_train.head()"
      ],
      "execution_count": 4,
      "outputs": [
        {
          "output_type": "execute_result",
          "data": {
            "text/html": [
              "<div>\n",
              "<style scoped>\n",
              "    .dataframe tbody tr th:only-of-type {\n",
              "        vertical-align: middle;\n",
              "    }\n",
              "\n",
              "    .dataframe tbody tr th {\n",
              "        vertical-align: top;\n",
              "    }\n",
              "\n",
              "    .dataframe thead th {\n",
              "        text-align: right;\n",
              "    }\n",
              "</style>\n",
              "<table border=\"1\" class=\"dataframe\">\n",
              "  <thead>\n",
              "    <tr style=\"text-align: right;\">\n",
              "      <th></th>\n",
              "      <th>Open</th>\n",
              "      <th>High</th>\n",
              "      <th>Low</th>\n",
              "      <th>Close</th>\n",
              "      <th>Adj Close</th>\n",
              "      <th>Volume</th>\n",
              "    </tr>\n",
              "    <tr>\n",
              "      <th>Date</th>\n",
              "      <th></th>\n",
              "      <th></th>\n",
              "      <th></th>\n",
              "      <th></th>\n",
              "      <th></th>\n",
              "      <th></th>\n",
              "    </tr>\n",
              "  </thead>\n",
              "  <tbody>\n",
              "    <tr>\n",
              "      <th>2010-01-04</th>\n",
              "      <td>54.740002</td>\n",
              "      <td>56.200001</td>\n",
              "      <td>54.340000</td>\n",
              "      <td>56.060001</td>\n",
              "      <td>43.838268</td>\n",
              "      <td>3974600</td>\n",
              "    </tr>\n",
              "    <tr>\n",
              "      <th>2010-01-05</th>\n",
              "      <td>56.189999</td>\n",
              "      <td>56.560001</td>\n",
              "      <td>55.599998</td>\n",
              "      <td>55.849998</td>\n",
              "      <td>43.674049</td>\n",
              "      <td>3007400</td>\n",
              "    </tr>\n",
              "    <tr>\n",
              "      <th>2010-01-06</th>\n",
              "      <td>55.570000</td>\n",
              "      <td>56.040001</td>\n",
              "      <td>55.220001</td>\n",
              "      <td>55.700001</td>\n",
              "      <td>43.556759</td>\n",
              "      <td>2854500</td>\n",
              "    </tr>\n",
              "    <tr>\n",
              "      <th>2010-01-07</th>\n",
              "      <td>55.380001</td>\n",
              "      <td>56.130001</td>\n",
              "      <td>55.169998</td>\n",
              "      <td>56.099998</td>\n",
              "      <td>43.869537</td>\n",
              "      <td>2694000</td>\n",
              "    </tr>\n",
              "    <tr>\n",
              "      <th>2010-01-08</th>\n",
              "      <td>55.779999</td>\n",
              "      <td>57.750000</td>\n",
              "      <td>55.299999</td>\n",
              "      <td>57.630001</td>\n",
              "      <td>45.065994</td>\n",
              "      <td>4165500</td>\n",
              "    </tr>\n",
              "  </tbody>\n",
              "</table>\n",
              "</div>"
            ],
            "text/plain": [
              "                 Open       High        Low      Close  Adj Close   Volume\n",
              "Date                                                                      \n",
              "2010-01-04  54.740002  56.200001  54.340000  56.060001  43.838268  3974600\n",
              "2010-01-05  56.189999  56.560001  55.599998  55.849998  43.674049  3007400\n",
              "2010-01-06  55.570000  56.040001  55.220001  55.700001  43.556759  2854500\n",
              "2010-01-07  55.380001  56.130001  55.169998  56.099998  43.869537  2694000\n",
              "2010-01-08  55.779999  57.750000  55.299999  57.630001  45.065994  4165500"
            ]
          },
          "metadata": {
            "tags": []
          },
          "execution_count": 4
        }
      ]
    },
    {
      "cell_type": "markdown",
      "metadata": {
        "id": "htUHwmauf7Mq"
      },
      "source": [
        "## Prepocessing data to just look at Openning stock price"
      ]
    },
    {
      "cell_type": "code",
      "metadata": {
        "id": "c5Ftj4RPvt4a"
      },
      "source": [
        "train_set = data_train.iloc[:, 1:2].values # grabbing just the stock open price, iloc used to get right index for opening (creating a numpy array)\n",
        "test_set = data_test.iloc[:, 1:2].values"
      ],
      "execution_count": 5,
      "outputs": []
    },
    {
      "cell_type": "markdown",
      "metadata": {
        "id": "T3iMlspOZj8p"
      },
      "source": [
        "## General look at the 2,768 market days before 2021"
      ]
    },
    {
      "cell_type": "code",
      "metadata": {
        "colab": {
          "base_uri": "https://localhost:8080/",
          "height": 312
        },
        "id": "VVrM6nANpFdn",
        "outputId": "1a8e49fb-f98c-4c9b-b922-c31e8fc031aa"
      },
      "source": [
        "plt.plot(train_set, color = 'green')\n",
        "plt.title('Stock Price')\n",
        "plt.xlabel('Time in Days')\n",
        "plt.ylabel('Stock Price')\n",
        "plt.legend()\n",
        "plt.show()"
      ],
      "execution_count": 6,
      "outputs": [
        {
          "output_type": "stream",
          "text": [
            "No handles with labels found to put in legend.\n"
          ],
          "name": "stderr"
        },
        {
          "output_type": "display_data",
          "data": {
            "image/png": "[encoded data removed]",
            "text/plain": [
              "<Figure size 432x288 with 1 Axes>"
            ]
          },
          "metadata": {
            "tags": [],
            "needs_background": "light"
          }
        }
      ]
    },
    {
      "cell_type": "code",
      "metadata": {
        "id": "8vrW6LLZwxWU"
      },
      "source": [
        "# normalizing the test data\n",
        "sc = MinMaxScaler() # defaults to zero and one\n",
        "train_set_scaled = sc.fit_transform(train_set) # applying fit transform method to sc\n",
        "\n",
        "X_train = [] # empty list that will be populated with the 60 previous stock prices and the next one\n",
        "y_train = [] \n",
        "for i in range(60, 2768): # need to start at the 60th \n",
        "  X_train.append(train_set_scaled[i-60:i, 0]) # adding data to X_train (60 previous stock price before i'th day)\n",
        "  y_train.append(train_set_scaled[i,0]) # adding data to y_train (time at t+1) - i because indexes start at zero\n",
        "X_train = np.array(X_train) # convert list to numpy array\n",
        "y_train = np.array(y_train) # convert list to numpy array\n",
        "\n",
        "X_train = np.reshape(X_train, (X_train.shape[0], X_train.shape[1], 1)) # reshaping data and adding a dimension for the single indicator we are trying to predict\n",
        "\n",
        "data_set_total = pd.concat((data_train['Open'], data_test['Open']), axis = 0)\n",
        "\n",
        "inputs = data_set_total[len(data_set_total) - len(data_test) - 60:].values # using the previous 60 days to predict the 61st day\n",
        "inputs = inputs.reshape(-1,1)\n",
        "inputs = sc.transform(inputs) # rnn is expecting this format\n",
        "X_test = []\n",
        "for i in range(60, 162): # 60 previous inputs + length of data_test (was 162 when 60)\n",
        "  X_test.append(inputs[i-60:i, 0])\n",
        "X_test = np.array(X_test)\n",
        "X_test = np.reshape(X_test, (X_test.shape[0], X_test.shape[1], 1)) # 3D structure for input\n",
        "\n",
        "# Function to calculate the percent error\n",
        "def percent_error(a, b) :\n",
        "    result = int(((b - a) * 100) / a)\n",
        "    return result"
      ],
      "execution_count": 7,
      "outputs": []
    },
    {
      "cell_type": "code",
      "metadata": {
        "colab": {
          "base_uri": "https://localhost:8080/"
        },
        "id": "UbYV6FkPg-yB",
        "outputId": "730571b6-2544-435a-c132-bc81d18be038"
      },
      "source": [
        "X_test.shape"
      ],
      "execution_count": 8,
      "outputs": [
        {
          "output_type": "execute_result",
          "data": {
            "text/plain": [
              "(102, 60, 1)"
            ]
          },
          "metadata": {
            "tags": []
          },
          "execution_count": 8
        }
      ]
    },
    {
      "cell_type": "markdown",
      "metadata": {
        "id": "_1aOU3OnrSyP"
      },
      "source": [
        "**Preprocessing is done now, we have X_test in the format we need along with a small user defined function to calculate the average percent error.**"
      ]
    },
    {
      "cell_type": "markdown",
      "metadata": {
        "id": "0w8mKEwYhIjD"
      },
      "source": [
        "## Defined all hyperparameters so it was easy to change and compare"
      ]
    },
    {
      "cell_type": "code",
      "metadata": {
        "id": "ANS4EFJZ2yqi"
      },
      "source": [
        "# hyperparameters\n",
        "dropout = 0.2 # kept dropout pretty consistent throughout\n",
        "neurons = 64 # tried 32 and 128 and couldn't get the same performance\n",
        "epochs = 50 # tried 16 and 32 and 64 but 50 gave lowest loss value\n",
        "batch_size = 32 # tried 16 and 128, 16 couldn't get the same loss value and 128 could track in performance as well as 32\n",
        "optimizer = 'adam' # best optimizer for RNNs, tried RMS prop, but better results with Adam\n",
        "loss = 'mean_squared_error' # used to measure how well you are at predicted continious variable like stock price"
      ],
      "execution_count": 9,
      "outputs": []
    },
    {
      "cell_type": "markdown",
      "metadata": {
        "id": "zFiwPAPQs2Hl"
      },
      "source": [
        "### **1. Stacked LSTM**\n",
        "\n",
        " \n",
        "\n",
        "*   #### Model seems to perform well and catches most of the stock price changes.\n",
        "*   #### Also the average % error is relatively lower than the other models\n"
      ]
    },
    {
      "cell_type": "code",
      "metadata": {
        "id": "EwHbR2WacDtX"
      },
      "source": [
        "model_stacked_LSTM = Sequential()\n",
        "model_stacked_LSTM.add(LSTM(neurons, return_sequences = True, input_shape = (X_train.shape[1], 1))) # first layer\n",
        "model_stacked_LSTM.add(Dropout(dropout))\n",
        "model_stacked_LSTM.add(LSTM(neurons, return_sequences = True))\n",
        "model_stacked_LSTM.add(Dropout(dropout))\n",
        "model_stacked_LSTM.add(LSTM(neurons, return_sequences = True))\n",
        "model_stacked_LSTM.add(Dropout(dropout))\n",
        "model_stacked_LSTM.add(LSTM(neurons))\n",
        "model_stacked_LSTM.add(Dropout(dropout))\n",
        "model_stacked_LSTM.add(Dense(1))"
      ],
      "execution_count": 10,
      "outputs": []
    },
    {
      "cell_type": "code",
      "metadata": {
        "id": "v1W3_lkua7LO"
      },
      "source": [
        "model_stacked_LSTM.compile(optimizer = optimizer, loss = loss)"
      ],
      "execution_count": 11,
      "outputs": []
    },
    {
      "cell_type": "code",
      "metadata": {
        "colab": {
          "base_uri": "https://localhost:8080/"
        },
        "id": "jH3vboUubOGV",
        "outputId": "89422f2d-6d00-4053-c218-76861fbee8b2"
      },
      "source": [
        "model_stacked_LSTM.fit(X_train, y_train, epochs = epochs, batch_size = batch_size)"
      ],
      "execution_count": 12,
      "outputs": [
        {
          "output_type": "stream",
          "text": [
            "Epoch 1/50\n",
            "85/85 [==============================] - 30s 103ms/step - loss: 0.0184\n",
            "Epoch 2/50\n",
            "85/85 [==============================] - 8s 100ms/step - loss: 0.0018\n",
            "Epoch 3/50\n",
            "85/85 [==============================] - 8s 100ms/step - loss: 0.0016\n",
            "Epoch 4/50\n",
            "85/85 [==============================] - 8s 99ms/step - loss: 0.0023\n",
            "Epoch 5/50\n",
            "85/85 [==============================] - 8s 99ms/step - loss: 0.0014\n",
            "Epoch 6/50\n",
            "85/85 [==============================] - 9s 100ms/step - loss: 0.0017\n",
            "Epoch 7/50\n",
            "85/85 [==============================] - 9s 100ms/step - loss: 0.0014\n",
            "Epoch 8/50\n",
            "85/85 [==============================] - 9s 101ms/step - loss: 0.0018\n",
            "Epoch 9/50\n",
            "85/85 [==============================] - 8s 99ms/step - loss: 0.0011\n",
            "Epoch 10/50\n",
            "85/85 [==============================] - 9s 100ms/step - loss: 0.0012\n",
            "Epoch 11/50\n",
            "85/85 [==============================] - 9s 105ms/step - loss: 9.6333e-04\n",
            "Epoch 12/50\n",
            "85/85 [==============================] - 9s 105ms/step - loss: 0.0012\n",
            "Epoch 13/50\n",
            "85/85 [==============================] - 9s 100ms/step - loss: 8.9204e-04\n",
            "Epoch 14/50\n",
            "85/85 [==============================] - 8s 100ms/step - loss: 8.0280e-04\n",
            "Epoch 15/50\n",
            "85/85 [==============================] - 8s 100ms/step - loss: 9.5307e-04\n",
            "Epoch 16/50\n",
            "85/85 [==============================] - 9s 100ms/step - loss: 9.1330e-04\n",
            "Epoch 17/50\n",
            "85/85 [==============================] - 8s 100ms/step - loss: 8.0954e-04\n",
            "Epoch 18/50\n",
            "85/85 [==============================] - 8s 100ms/step - loss: 8.9032e-04\n",
            "Epoch 19/50\n",
            "85/85 [==============================] - 9s 101ms/step - loss: 7.9390e-04\n",
            "Epoch 20/50\n",
            "85/85 [==============================] - 9s 101ms/step - loss: 6.6011e-04\n",
            "Epoch 21/50\n",
            "85/85 [==============================] - 9s 102ms/step - loss: 6.7284e-04\n",
            "Epoch 22/50\n",
            "85/85 [==============================] - 8s 99ms/step - loss: 7.8745e-04\n",
            "Epoch 23/50\n",
            "85/85 [==============================] - 8s 100ms/step - loss: 7.1032e-04\n",
            "Epoch 24/50\n",
            "85/85 [==============================] - 8s 99ms/step - loss: 7.6252e-04\n",
            "Epoch 25/50\n",
            "85/85 [==============================] - 8s 99ms/step - loss: 7.4351e-04\n",
            "Epoch 26/50\n",
            "85/85 [==============================] - 8s 99ms/step - loss: 6.2885e-04\n",
            "Epoch 27/50\n",
            "85/85 [==============================] - 9s 102ms/step - loss: 6.5779e-04\n",
            "Epoch 28/50\n",
            "85/85 [==============================] - 9s 100ms/step - loss: 5.5488e-04\n",
            "Epoch 29/50\n",
            "85/85 [==============================] - 9s 101ms/step - loss: 6.4298e-04\n",
            "Epoch 30/50\n",
            "85/85 [==============================] - 9s 104ms/step - loss: 5.3362e-04\n",
            "Epoch 31/50\n",
            "85/85 [==============================] - 9s 101ms/step - loss: 6.8126e-04\n",
            "Epoch 32/50\n",
            "85/85 [==============================] - 8s 100ms/step - loss: 6.3148e-04\n",
            "Epoch 33/50\n",
            "85/85 [==============================] - 9s 100ms/step - loss: 9.3767e-04\n",
            "Epoch 34/50\n",
            "85/85 [==============================] - 9s 101ms/step - loss: 5.2998e-04\n",
            "Epoch 35/50\n",
            "85/85 [==============================] - 9s 100ms/step - loss: 6.0504e-04\n",
            "Epoch 36/50\n",
            "85/85 [==============================] - 9s 101ms/step - loss: 6.4241e-04\n",
            "Epoch 37/50\n",
            "85/85 [==============================] - 9s 103ms/step - loss: 5.2168e-04\n",
            "Epoch 38/50\n",
            "85/85 [==============================] - 9s 100ms/step - loss: 7.8197e-04\n",
            "Epoch 39/50\n",
            "85/85 [==============================] - 9s 101ms/step - loss: 6.8919e-04\n",
            "Epoch 40/50\n",
            "85/85 [==============================] - 9s 103ms/step - loss: 5.9537e-04\n",
            "Epoch 41/50\n",
            "85/85 [==============================] - 9s 102ms/step - loss: 5.8963e-04\n",
            "Epoch 42/50\n",
            "85/85 [==============================] - 9s 101ms/step - loss: 5.3988e-04\n",
            "Epoch 43/50\n",
            "85/85 [==============================] - 9s 101ms/step - loss: 5.2705e-04\n",
            "Epoch 44/50\n",
            "85/85 [==============================] - 9s 102ms/step - loss: 5.5179e-04\n",
            "Epoch 45/50\n",
            "85/85 [==============================] - 9s 101ms/step - loss: 7.9603e-04\n",
            "Epoch 46/50\n",
            "85/85 [==============================] - 9s 101ms/step - loss: 4.9111e-04\n",
            "Epoch 47/50\n",
            "85/85 [==============================] - 9s 101ms/step - loss: 5.5019e-04\n",
            "Epoch 48/50\n",
            "85/85 [==============================] - 9s 102ms/step - loss: 6.5253e-04\n",
            "Epoch 49/50\n",
            "85/85 [==============================] - 9s 101ms/step - loss: 4.6984e-04\n",
            "Epoch 50/50\n",
            "85/85 [==============================] - 9s 101ms/step - loss: 4.3796e-04\n"
          ],
          "name": "stdout"
        },
        {
          "output_type": "execute_result",
          "data": {
            "text/plain": [
              "<keras.callbacks.History at 0x7efcea261190>"
            ]
          },
          "metadata": {
            "tags": []
          },
          "execution_count": 12
        }
      ]
    },
    {
      "cell_type": "code",
      "metadata": {
        "id": "vZY1EyroimFn"
      },
      "source": [
        "predicted_stock_price_stacked_LSTM = model_stacked_LSTM.predict(X_test)\n",
        "predicted_stock_price_stacked_LSTM = sc.inverse_transform(predicted_stock_price_stacked_LSTM) # going back from normalizing"
      ],
      "execution_count": 13,
      "outputs": []
    },
    {
      "cell_type": "markdown",
      "metadata": {
        "id": "aySkuPt9paKB"
      },
      "source": [
        "Chart below shows the actual stock price in green and predicted stock price in blue. No training data is displayed here."
      ]
    },
    {
      "cell_type": "code",
      "metadata": {
        "colab": {
          "base_uri": "https://localhost:8080/",
          "height": 294
        },
        "id": "ImHMM0iei9SN",
        "outputId": "79678f72-48d1-4694-c62c-8fcd1c7d852d"
      },
      "source": [
        "plt.plot(test_set, color = 'green', label = 'Deere Real Stock Price')\n",
        "plt.plot(predicted_stock_price_stacked_LSTM, color = 'blue', label = 'Deere Predicted Stock Price')\n",
        "plt.title('Stock Price Prediction Stacked LSTM 60 previous time steps')\n",
        "plt.xlabel('Time in Days')\n",
        "plt.ylabel('Stock Price')\n",
        "plt.legend()\n",
        "plt.show()"
      ],
      "execution_count": 14,
      "outputs": [
        {
          "output_type": "display_data",
          "data": {
            "image/png": "[encoded data removed]",
            "text/plain": [
              "<Figure size 432x288 with 1 Axes>"
            ]
          },
          "metadata": {
            "tags": [],
            "needs_background": "light"
          }
        }
      ]
    },
    {
      "cell_type": "markdown",
      "metadata": {
        "id": "S5AoO0T5jiS7"
      },
      "source": [
        "## Model tracks well over time but doesn't do a great job of finding all peaks. Percent error is better than the 30 and 90 day experiments"
      ]
    },
    {
      "cell_type": "code",
      "metadata": {
        "colab": {
          "base_uri": "https://localhost:8080/"
        },
        "id": "q1B38PFAxeiy",
        "outputId": "2e0e0b0b-66a2-4c0f-fb7a-bfb9ec051733"
      },
      "source": [
        "print(percent_error(predicted_stock_price_stacked_LSTM[20],test_set[20]), \"%\")"
      ],
      "execution_count": 15,
      "outputs": [
        {
          "output_type": "stream",
          "text": [
            "8 %\n"
          ],
          "name": "stdout"
        }
      ]
    },
    {
      "cell_type": "code",
      "metadata": {
        "colab": {
          "base_uri": "https://localhost:8080/"
        },
        "id": "hPboD-GB_cVY",
        "outputId": "d971ca6c-ca53-4ae7-84d7-2beb609d3abf"
      },
      "source": [
        "print(percent_error(predicted_stock_price_stacked_LSTM[50],test_set[50]), \"%\")"
      ],
      "execution_count": 16,
      "outputs": [
        {
          "output_type": "stream",
          "text": [
            "10 %\n"
          ],
          "name": "stdout"
        }
      ]
    },
    {
      "cell_type": "code",
      "metadata": {
        "id": "qESyki8DDq00",
        "colab": {
          "base_uri": "https://localhost:8080/"
        },
        "outputId": "9e6ff4af-8544-42c2-8bcb-8d9caeffc4fd"
      },
      "source": [
        "c = [abs(i-j)/i*100 for i,j in zip(predicted_stock_price_stacked_LSTM, test_set)]\n",
        "(sum(c)/len(c))[0]"
      ],
      "execution_count": 17,
      "outputs": [
        {
          "output_type": "execute_result",
          "data": {
            "text/plain": [
              "7.915721517798314"
            ]
          },
          "metadata": {
            "tags": []
          },
          "execution_count": 17
        }
      ]
    },
    {
      "cell_type": "markdown",
      "metadata": {
        "id": "Yz0AeqtD2kNm"
      },
      "source": [
        "## **2. Below are simulations with different time steps, all stacked LSTMs**\n",
        "Below is the summary of the loss and percent error\n",
        "\n",
        "\n",
        "\n"
      ]
    },
    {
      "cell_type": "markdown",
      "metadata": {
        "id": "16bvPbvr2HR1"
      },
      "source": [
        "* 30 time steps loss: .00056840\n",
        "* 30 time steps percent error: 2.9%\n",
        "* 60 time steps loss: .00063653\n",
        "* 60 time steps percent error: 2.8%\n",
        "* 90 time steps loss: .00069412\n",
        "* 90 time steps percent error: 6.6%"
      ]
    },
    {
      "cell_type": "markdown",
      "metadata": {
        "id": "-Fzp6omrh7xX"
      },
      "source": [
        "### 30 day window\n",
        "Need to make a small modification to the data preprocessing to look at the previous 30 days."
      ]
    },
    {
      "cell_type": "code",
      "metadata": {
        "id": "vOamk5D1yK-D"
      },
      "source": [
        "X_train = [] # empty list that will be populated with the 60 previous stock prices and the next one\n",
        "y_train = [] \n",
        "for i in range(30, 2768): #len(train_set) # need to start at the 60th \n",
        "  X_train.append(train_set_scaled[i-30:i, 0])\n",
        "  y_train.append(train_set_scaled[i,0])\n",
        "X_train = np.array(X_train)\n",
        "y_train = np.array(y_train)\n",
        "\n",
        "X_train = np.reshape(X_train, (X_train.shape[0], X_train.shape[1],1))\n",
        "\n",
        "data_set_total = pd.concat((data_train['Open'], data_test['Open']), axis = 0)\n",
        "\n",
        "inputs = data_set_total[len(data_set_total) - len(data_test) - 30:].values # using the previous 60 days to predict the 61st day\n",
        "inputs = inputs.reshape(-1,1)\n",
        "inputs = sc.transform(inputs) # rnn is expecting this format\n",
        "X_test = []\n",
        "for i in range(30, 132): # 30 previous inputs + length of data_test (was 162 when 60)\n",
        "  X_test.append(inputs[i-30:i, 0])\n",
        "X_test = np.array(X_test)\n",
        "X_test = np.reshape(X_test, (X_test.shape[0], X_test.shape[1], 1)) # 3D structure for input"
      ],
      "execution_count": 18,
      "outputs": []
    },
    {
      "cell_type": "code",
      "metadata": {
        "id": "SkecDwM0237f"
      },
      "source": [
        "model_stacked_LSTM_30 = Sequential()\n",
        "model_stacked_LSTM_30.add(LSTM(neurons, return_sequences = True, input_shape = (X_train.shape[1], 1)))\n",
        "model_stacked_LSTM_30.add(Dropout(dropout))\n",
        "model_stacked_LSTM_30.add(LSTM(neurons, return_sequences = True))\n",
        "model_stacked_LSTM_30.add(Dropout(dropout))\n",
        "model_stacked_LSTM_30.add(LSTM(neurons, return_sequences = True))\n",
        "model_stacked_LSTM_30.add(Dropout(dropout))\n",
        "model_stacked_LSTM_30.add(LSTM(neurons))\n",
        "model_stacked_LSTM_30.add(Dropout(dropout))\n",
        "model_stacked_LSTM_30.add(Dense(1))"
      ],
      "execution_count": 19,
      "outputs": []
    },
    {
      "cell_type": "code",
      "metadata": {
        "id": "e7950gCt3BWw"
      },
      "source": [
        "model_stacked_LSTM_30.compile(optimizer = optimizer, loss = loss)"
      ],
      "execution_count": 20,
      "outputs": []
    },
    {
      "cell_type": "code",
      "metadata": {
        "colab": {
          "base_uri": "https://localhost:8080/"
        },
        "id": "utva_AeR3Dc2",
        "outputId": "a6d6a62d-d678-4c7a-b792-a284da58f18e"
      },
      "source": [
        "model_stacked_LSTM_30.fit(X_train, y_train, epochs = epochs, batch_size = batch_size)"
      ],
      "execution_count": 21,
      "outputs": [
        {
          "output_type": "stream",
          "text": [
            "Epoch 1/50\n",
            "86/86 [==============================] - 10s 52ms/step - loss: 0.0155\n",
            "Epoch 2/50\n",
            "86/86 [==============================] - 4s 52ms/step - loss: 0.0019\n",
            "Epoch 3/50\n",
            "86/86 [==============================] - 5s 52ms/step - loss: 0.0017\n",
            "Epoch 4/50\n",
            "86/86 [==============================] - 5s 54ms/step - loss: 0.0017\n",
            "Epoch 5/50\n",
            "86/86 [==============================] - 4s 52ms/step - loss: 0.0014\n",
            "Epoch 6/50\n",
            "86/86 [==============================] - 4s 52ms/step - loss: 0.0015\n",
            "Epoch 7/50\n",
            "86/86 [==============================] - 4s 52ms/step - loss: 0.0012\n",
            "Epoch 8/50\n",
            "86/86 [==============================] - 4s 52ms/step - loss: 0.0012\n",
            "Epoch 9/50\n",
            "86/86 [==============================] - 4s 52ms/step - loss: 0.0013\n",
            "Epoch 10/50\n",
            "86/86 [==============================] - 4s 52ms/step - loss: 0.0011\n",
            "Epoch 11/50\n",
            "86/86 [==============================] - 5s 53ms/step - loss: 0.0011\n",
            "Epoch 12/50\n",
            "86/86 [==============================] - 4s 52ms/step - loss: 0.0011\n",
            "Epoch 13/50\n",
            "86/86 [==============================] - 5s 56ms/step - loss: 0.0010\n",
            "Epoch 14/50\n",
            "86/86 [==============================] - 5s 54ms/step - loss: 9.8870e-04\n",
            "Epoch 15/50\n",
            "86/86 [==============================] - 4s 52ms/step - loss: 9.4080e-04\n",
            "Epoch 16/50\n",
            "86/86 [==============================] - 4s 52ms/step - loss: 8.6372e-04\n",
            "Epoch 17/50\n",
            "86/86 [==============================] - 4s 51ms/step - loss: 7.7387e-04\n",
            "Epoch 18/50\n",
            "86/86 [==============================] - 5s 52ms/step - loss: 8.4185e-04\n",
            "Epoch 19/50\n",
            "86/86 [==============================] - 5s 52ms/step - loss: 7.5649e-04\n",
            "Epoch 20/50\n",
            "86/86 [==============================] - 5s 53ms/step - loss: 7.4736e-04\n",
            "Epoch 21/50\n",
            "86/86 [==============================] - 5s 53ms/step - loss: 7.4568e-04\n",
            "Epoch 22/50\n",
            "86/86 [==============================] - 5s 53ms/step - loss: 7.0127e-04\n",
            "Epoch 23/50\n",
            "86/86 [==============================] - 4s 52ms/step - loss: 7.8748e-04\n",
            "Epoch 24/50\n",
            "86/86 [==============================] - 4s 52ms/step - loss: 7.1952e-04\n",
            "Epoch 25/50\n",
            "86/86 [==============================] - 4s 52ms/step - loss: 7.4869e-04\n",
            "Epoch 26/50\n",
            "86/86 [==============================] - 4s 52ms/step - loss: 6.4247e-04\n",
            "Epoch 27/50\n",
            "86/86 [==============================] - 4s 52ms/step - loss: 5.8929e-04\n",
            "Epoch 28/50\n",
            "86/86 [==============================] - 4s 52ms/step - loss: 7.1437e-04\n",
            "Epoch 29/50\n",
            "86/86 [==============================] - 5s 52ms/step - loss: 6.3956e-04\n",
            "Epoch 30/50\n",
            "86/86 [==============================] - 4s 52ms/step - loss: 6.0999e-04\n",
            "Epoch 31/50\n",
            "86/86 [==============================] - 5s 53ms/step - loss: 5.6011e-04\n",
            "Epoch 32/50\n",
            "86/86 [==============================] - 5s 52ms/step - loss: 8.1503e-04\n",
            "Epoch 33/50\n",
            "86/86 [==============================] - 4s 52ms/step - loss: 7.0290e-04\n",
            "Epoch 34/50\n",
            "86/86 [==============================] - 4s 52ms/step - loss: 5.8462e-04\n",
            "Epoch 35/50\n",
            "86/86 [==============================] - 4s 51ms/step - loss: 5.2995e-04\n",
            "Epoch 36/50\n",
            "86/86 [==============================] - 5s 53ms/step - loss: 5.8449e-04\n",
            "Epoch 37/50\n",
            "86/86 [==============================] - 4s 52ms/step - loss: 4.7935e-04\n",
            "Epoch 38/50\n",
            "86/86 [==============================] - 5s 52ms/step - loss: 5.6568e-04\n",
            "Epoch 39/50\n",
            "86/86 [==============================] - 5s 53ms/step - loss: 4.3514e-04\n",
            "Epoch 40/50\n",
            "86/86 [==============================] - 4s 52ms/step - loss: 4.7875e-04\n",
            "Epoch 41/50\n",
            "86/86 [==============================] - 5s 53ms/step - loss: 4.4265e-04\n",
            "Epoch 42/50\n",
            "86/86 [==============================] - 5s 53ms/step - loss: 4.7915e-04\n",
            "Epoch 43/50\n",
            "86/86 [==============================] - 5s 53ms/step - loss: 5.6635e-04\n",
            "Epoch 44/50\n",
            "86/86 [==============================] - 4s 52ms/step - loss: 4.8876e-04\n",
            "Epoch 45/50\n",
            "86/86 [==============================] - 4s 52ms/step - loss: 5.4252e-04\n",
            "Epoch 46/50\n",
            "86/86 [==============================] - 4s 52ms/step - loss: 4.5807e-04\n",
            "Epoch 47/50\n",
            "86/86 [==============================] - 4s 51ms/step - loss: 5.4403e-04\n",
            "Epoch 48/50\n",
            "86/86 [==============================] - 4s 52ms/step - loss: 4.9612e-04\n",
            "Epoch 49/50\n",
            "86/86 [==============================] - 5s 53ms/step - loss: 4.1775e-04\n",
            "Epoch 50/50\n",
            "86/86 [==============================] - 4s 52ms/step - loss: 5.8817e-04\n"
          ],
          "name": "stdout"
        },
        {
          "output_type": "execute_result",
          "data": {
            "text/plain": [
              "<keras.callbacks.History at 0x7efce58a71d0>"
            ]
          },
          "metadata": {
            "tags": []
          },
          "execution_count": 21
        }
      ]
    },
    {
      "cell_type": "code",
      "metadata": {
        "id": "HmNTR9o33H-W"
      },
      "source": [
        "predicted_stock_price_stacked_LSTM_30 = model_stacked_LSTM_30.predict(X_test)\n",
        "predicted_stock_price_stacked_LSTM_30 = sc.inverse_transform(predicted_stock_price_stacked_LSTM_30) # going back from normalizing"
      ],
      "execution_count": 22,
      "outputs": []
    },
    {
      "cell_type": "code",
      "metadata": {
        "colab": {
          "base_uri": "https://localhost:8080/",
          "height": 294
        },
        "id": "-E8_Wc9E3JLj",
        "outputId": "bb947875-4fa9-4de5-b8c8-e265784a58d1"
      },
      "source": [
        "plt.plot(test_set, color = 'green', label = 'Deere Real Stock Price')\n",
        "plt.plot(predicted_stock_price_stacked_LSTM_30, color = 'blue', label = 'Deere Predicted Stock Price')\n",
        "plt.title('Stock Price Prediction LSTM Stacked 30 previous time steps')\n",
        "plt.xlabel('Time in Days')\n",
        "plt.ylabel('Stock Price')\n",
        "plt.legend()\n",
        "plt.show()"
      ],
      "execution_count": 23,
      "outputs": [
        {
          "output_type": "display_data",
          "data": {
            "image/png": "[encoded data removed]",
            "text/plain": [
              "<Figure size 432x288 with 1 Axes>"
            ]
          },
          "metadata": {
            "tags": [],
            "needs_background": "light"
          }
        }
      ]
    },
    {
      "cell_type": "markdown",
      "metadata": {
        "id": "xjmh7DaijUt7"
      },
      "source": [
        "#### It seems like this model is slightly slower to respond to changes in stock price, still good percent error but doesn't track as well as the 60 day model"
      ]
    },
    {
      "cell_type": "code",
      "metadata": {
        "colab": {
          "base_uri": "https://localhost:8080/"
        },
        "id": "VOaWDiTU3ZII",
        "outputId": "5ca426f2-8731-433d-8bb6-c5343f8a0eb0"
      },
      "source": [
        "print(abs(percent_error(predicted_stock_price_stacked_LSTM_30[20],test_set[20])), \"%\")"
      ],
      "execution_count": 24,
      "outputs": [
        {
          "output_type": "stream",
          "text": [
            "9 %\n"
          ],
          "name": "stdout"
        }
      ]
    },
    {
      "cell_type": "code",
      "metadata": {
        "colab": {
          "base_uri": "https://localhost:8080/"
        },
        "id": "j4LNtOTm3avG",
        "outputId": "dd92df6b-1eb7-47fe-9bbb-364c084f2f1d"
      },
      "source": [
        "print(abs(percent_error(predicted_stock_price_stacked_LSTM_30[50],test_set[50])), \"%\")"
      ],
      "execution_count": 25,
      "outputs": [
        {
          "output_type": "stream",
          "text": [
            "11 %\n"
          ],
          "name": "stdout"
        }
      ]
    },
    {
      "cell_type": "code",
      "metadata": {
        "colab": {
          "base_uri": "https://localhost:8080/"
        },
        "id": "yO_cHv393cV-",
        "outputId": "2ede7ad0-abd7-413a-ee0c-fb05611b8fb5"
      },
      "source": [
        "c = [abs(i-j)/i*100 for i,j in zip(predicted_stock_price_stacked_LSTM_30,test_set)]\n",
        "(sum(c)/len(c))[0]"
      ],
      "execution_count": 26,
      "outputs": [
        {
          "output_type": "execute_result",
          "data": {
            "text/plain": [
              "8.856506383948885"
            ]
          },
          "metadata": {
            "tags": []
          },
          "execution_count": 26
        }
      ]
    },
    {
      "cell_type": "markdown",
      "metadata": {
        "id": "w9R4y2BXph9p"
      },
      "source": [
        "### 90 day window\n",
        "Need to make a small modification to the data preprocessing to look at the previous 90 days."
      ]
    },
    {
      "cell_type": "code",
      "metadata": {
        "id": "RawamKBy5wyL"
      },
      "source": [
        "X_train = [] # empty list that will be populated with the 60 previous stock prices and the next one\n",
        "y_train = [] \n",
        "for i in range(90, 2768): #len(train_set) # need to start at the 60th \n",
        "  X_train.append(train_set_scaled[i-90:i, 0])\n",
        "  y_train.append(train_set_scaled[i,0])\n",
        "X_train = np.array(X_train)\n",
        "y_train = np.array(y_train)\n",
        "\n",
        "X_train = np.reshape(X_train, (X_train.shape[0], X_train.shape[1], 1)) # reshaping data\n",
        "\n",
        "data_set_total = pd.concat((data_train['Open'], data_test['Open']), axis = 0)\n",
        "\n",
        "\n",
        "inputs = data_set_total[len(data_set_total) - len(data_test) - 90:].values # using the previous 60 days to predict the 61st day\n",
        "inputs = inputs.reshape(-1,1)\n",
        "inputs = sc.transform(inputs) # rnn is expecting this format\n",
        "X_test = []\n",
        "for i in range(90, 192): # 90 previous inputs + length of data_test (was 162 when 60)\n",
        "  X_test.append(inputs[i-90:i, 0])\n",
        "X_test = np.array(X_test)\n",
        "X_test = np.reshape(X_test, (X_test.shape[0], X_test.shape[1], 1)) # 3D structure for input"
      ],
      "execution_count": 27,
      "outputs": []
    },
    {
      "cell_type": "code",
      "metadata": {
        "id": "z_m3YXuF50nN"
      },
      "source": [
        "model_stacked_LSTM_90 = Sequential()\n",
        "model_stacked_LSTM_90.add(LSTM(neurons, return_sequences = True, input_shape = (X_train.shape[1], 1)))\n",
        "model_stacked_LSTM_90.add(Dropout(dropout))\n",
        "model_stacked_LSTM_90.add(LSTM(neurons, return_sequences = True))\n",
        "model_stacked_LSTM_90.add(Dropout(dropout))\n",
        "model_stacked_LSTM_90.add(LSTM(neurons, return_sequences = True))\n",
        "model_stacked_LSTM_90.add(Dropout(dropout))\n",
        "model_stacked_LSTM_90.add(LSTM(neurons))\n",
        "model_stacked_LSTM_90.add(Dropout(dropout))\n",
        "model_stacked_LSTM_90.add(Dense(1))"
      ],
      "execution_count": 28,
      "outputs": []
    },
    {
      "cell_type": "code",
      "metadata": {
        "id": "suEdgefH50lD"
      },
      "source": [
        "model_stacked_LSTM_90.compile(optimizer = optimizer, loss = loss)"
      ],
      "execution_count": 29,
      "outputs": []
    },
    {
      "cell_type": "code",
      "metadata": {
        "colab": {
          "base_uri": "https://localhost:8080/"
        },
        "id": "AwT912Jx50iX",
        "outputId": "75071ec2-898e-41e6-e216-752ffa9a2e76"
      },
      "source": [
        "model_stacked_LSTM_90.fit(X_train, y_train, epochs = epochs, batch_size = batch_size)"
      ],
      "execution_count": 30,
      "outputs": [
        {
          "output_type": "stream",
          "text": [
            "Epoch 1/50\n",
            "84/84 [==============================] - 18s 145ms/step - loss: 0.0112\n",
            "Epoch 2/50\n",
            "84/84 [==============================] - 12s 147ms/step - loss: 0.0021\n",
            "Epoch 3/50\n",
            "84/84 [==============================] - 12s 145ms/step - loss: 0.0017\n",
            "Epoch 4/50\n",
            "84/84 [==============================] - 12s 145ms/step - loss: 0.0019\n",
            "Epoch 5/50\n",
            "84/84 [==============================] - 12s 148ms/step - loss: 0.0013\n",
            "Epoch 6/50\n",
            "84/84 [==============================] - 12s 146ms/step - loss: 0.0014\n",
            "Epoch 7/50\n",
            "84/84 [==============================] - 12s 146ms/step - loss: 0.0013\n",
            "Epoch 8/50\n",
            "84/84 [==============================] - 12s 146ms/step - loss: 0.0012\n",
            "Epoch 9/50\n",
            "84/84 [==============================] - 12s 147ms/step - loss: 0.0012\n",
            "Epoch 10/50\n",
            "84/84 [==============================] - 12s 147ms/step - loss: 0.0011\n",
            "Epoch 11/50\n",
            "84/84 [==============================] - 12s 145ms/step - loss: 0.0010\n",
            "Epoch 12/50\n",
            "84/84 [==============================] - 12s 147ms/step - loss: 0.0011\n",
            "Epoch 13/50\n",
            "84/84 [==============================] - 12s 146ms/step - loss: 9.6504e-04\n",
            "Epoch 14/50\n",
            "84/84 [==============================] - 12s 148ms/step - loss: 0.0011\n",
            "Epoch 15/50\n",
            "84/84 [==============================] - 12s 146ms/step - loss: 9.0431e-04\n",
            "Epoch 16/50\n",
            "84/84 [==============================] - 12s 147ms/step - loss: 8.8385e-04\n",
            "Epoch 17/50\n",
            "84/84 [==============================] - 12s 149ms/step - loss: 8.5609e-04\n",
            "Epoch 18/50\n",
            "84/84 [==============================] - 13s 154ms/step - loss: 7.3825e-04\n",
            "Epoch 19/50\n",
            "84/84 [==============================] - 13s 151ms/step - loss: 7.4464e-04\n",
            "Epoch 20/50\n",
            "84/84 [==============================] - 13s 154ms/step - loss: 7.4344e-04\n",
            "Epoch 21/50\n",
            "84/84 [==============================] - 13s 154ms/step - loss: 8.5267e-04\n",
            "Epoch 22/50\n",
            "84/84 [==============================] - 12s 146ms/step - loss: 8.1903e-04\n",
            "Epoch 23/50\n",
            "84/84 [==============================] - 12s 146ms/step - loss: 7.6326e-04\n",
            "Epoch 24/50\n",
            "84/84 [==============================] - 12s 146ms/step - loss: 7.3368e-04\n",
            "Epoch 25/50\n",
            "84/84 [==============================] - 12s 147ms/step - loss: 7.3510e-04\n",
            "Epoch 26/50\n",
            "84/84 [==============================] - 12s 147ms/step - loss: 7.6844e-04\n",
            "Epoch 27/50\n",
            "84/84 [==============================] - 12s 149ms/step - loss: 6.6308e-04\n",
            "Epoch 28/50\n",
            "84/84 [==============================] - 12s 148ms/step - loss: 6.7173e-04\n",
            "Epoch 29/50\n",
            "84/84 [==============================] - 12s 148ms/step - loss: 6.7883e-04\n",
            "Epoch 30/50\n",
            "84/84 [==============================] - 13s 150ms/step - loss: 6.4894e-04\n",
            "Epoch 31/50\n",
            "84/84 [==============================] - 13s 156ms/step - loss: 5.8529e-04\n",
            "Epoch 32/50\n",
            "84/84 [==============================] - 12s 148ms/step - loss: 7.4840e-04\n",
            "Epoch 33/50\n",
            "84/84 [==============================] - 12s 149ms/step - loss: 6.0991e-04\n",
            "Epoch 34/50\n",
            "84/84 [==============================] - 12s 148ms/step - loss: 5.3903e-04\n",
            "Epoch 35/50\n",
            "84/84 [==============================] - 12s 147ms/step - loss: 5.9041e-04\n",
            "Epoch 36/50\n",
            "84/84 [==============================] - 13s 153ms/step - loss: 5.9944e-04\n",
            "Epoch 37/50\n",
            "84/84 [==============================] - 13s 150ms/step - loss: 5.4680e-04\n",
            "Epoch 38/50\n",
            "84/84 [==============================] - 13s 149ms/step - loss: 5.0749e-04\n",
            "Epoch 39/50\n",
            "84/84 [==============================] - 13s 151ms/step - loss: 5.7290e-04\n",
            "Epoch 40/50\n",
            "84/84 [==============================] - 12s 149ms/step - loss: 5.9078e-04\n",
            "Epoch 41/50\n",
            "84/84 [==============================] - 13s 151ms/step - loss: 5.9037e-04\n",
            "Epoch 42/50\n",
            "84/84 [==============================] - 12s 149ms/step - loss: 6.1346e-04\n",
            "Epoch 43/50\n",
            "84/84 [==============================] - 12s 148ms/step - loss: 5.1858e-04\n",
            "Epoch 44/50\n",
            "84/84 [==============================] - 12s 148ms/step - loss: 5.1380e-04\n",
            "Epoch 45/50\n",
            "84/84 [==============================] - 13s 149ms/step - loss: 6.2172e-04\n",
            "Epoch 46/50\n",
            "84/84 [==============================] - 12s 149ms/step - loss: 4.3412e-04\n",
            "Epoch 47/50\n",
            "84/84 [==============================] - 13s 150ms/step - loss: 5.8075e-04\n",
            "Epoch 48/50\n",
            "84/84 [==============================] - 13s 150ms/step - loss: 5.8200e-04\n",
            "Epoch 49/50\n",
            "84/84 [==============================] - 13s 149ms/step - loss: 4.4195e-04\n",
            "Epoch 50/50\n",
            "84/84 [==============================] - 12s 148ms/step - loss: 4.9010e-04\n"
          ],
          "name": "stdout"
        },
        {
          "output_type": "execute_result",
          "data": {
            "text/plain": [
              "<keras.callbacks.History at 0x7efce3f9dc90>"
            ]
          },
          "metadata": {
            "tags": []
          },
          "execution_count": 30
        }
      ]
    },
    {
      "cell_type": "code",
      "metadata": {
        "id": "Z0E55aEc50dX"
      },
      "source": [
        "predicted_stock_price_stacked_LSTM_90 = model_stacked_LSTM_90.predict(X_test)\n",
        "predicted_stock_price_stacked_LSTM_90 = sc.inverse_transform(predicted_stock_price_stacked_LSTM_90) # going back from normalizing"
      ],
      "execution_count": 31,
      "outputs": []
    },
    {
      "cell_type": "code",
      "metadata": {
        "colab": {
          "base_uri": "https://localhost:8080/",
          "height": 294
        },
        "id": "7uXusT6X50Vk",
        "outputId": "1806d1ce-8eff-4658-8ac1-965d5f09b84b"
      },
      "source": [
        "plt.plot(test_set, color = 'green', label = 'Deere Real Stock Price')\n",
        "plt.plot(predicted_stock_price_stacked_LSTM_90, color = 'blue', label = 'Deere Predicted Stock Price')\n",
        "plt.title('Stock Price Prediction Stacked LSTM 90 previous time steps')\n",
        "plt.xlabel('Time in Days')\n",
        "plt.ylabel('Stock Price')\n",
        "plt.legend()\n",
        "plt.show()"
      ],
      "execution_count": 32,
      "outputs": [
        {
          "output_type": "display_data",
          "data": {
            "image/png": "[encoded data removed]",
            "text/plain": [
              "<Figure size 432x288 with 1 Axes>"
            ]
          },
          "metadata": {
            "tags": [],
            "needs_background": "light"
          }
        }
      ]
    },
    {
      "cell_type": "code",
      "metadata": {
        "colab": {
          "base_uri": "https://localhost:8080/"
        },
        "id": "tuxhvS6E9qtc",
        "outputId": "708e61e0-fc59-4d2a-f706-51b8a1910d0e"
      },
      "source": [
        "c = [abs(i-j)/i*100 for i,j in zip(predicted_stock_price_stacked_LSTM_90, test_set)]\n",
        "(sum(c)/len(c))[0]"
      ],
      "execution_count": 33,
      "outputs": [
        {
          "output_type": "execute_result",
          "data": {
            "text/plain": [
              "4.618213977661861"
            ]
          },
          "metadata": {
            "tags": []
          },
          "execution_count": 33
        }
      ]
    },
    {
      "cell_type": "markdown",
      "metadata": {
        "id": "rWhY1XGEfqcZ"
      },
      "source": [
        "### Note about 90 day"
      ]
    },
    {
      "cell_type": "markdown",
      "metadata": {
        "id": "J0pwd4YXEt9_"
      },
      "source": [
        "## **3. Below is running a simple RNN for comparision to the stacked LSTM** "
      ]
    },
    {
      "cell_type": "code",
      "metadata": {
        "id": "kimPyn23VifT"
      },
      "source": [
        "model_RNN = Sequential()\n",
        "model_RNN.add(SimpleRNN(units = neurons, input_shape = (X_train.shape[1], 1)))\n",
        "model_RNN.add(Dropout(dropout))\n",
        "model_RNN.add(Dense(1))"
      ],
      "execution_count": 34,
      "outputs": []
    },
    {
      "cell_type": "code",
      "metadata": {
        "id": "RCThFfhUht35"
      },
      "source": [
        "model_RNN.compile(optimizer = optimizer, loss = loss)"
      ],
      "execution_count": 35,
      "outputs": []
    },
    {
      "cell_type": "code",
      "metadata": {
        "colab": {
          "base_uri": "https://localhost:8080/"
        },
        "id": "Jmpf3r7Shr-I",
        "outputId": "ec81c8ac-49d9-427a-ea23-377d3dffe888"
      },
      "source": [
        "model_RNN.fit(X_train, y_train, epochs = epochs, batch_size = batch_size)"
      ],
      "execution_count": 36,
      "outputs": [
        {
          "output_type": "stream",
          "text": [
            "Epoch 1/50\n",
            "84/84 [==============================] - 7s 12ms/step - loss: 0.0279\n",
            "Epoch 2/50\n",
            "84/84 [==============================] - 1s 11ms/step - loss: 0.0021\n",
            "Epoch 3/50\n",
            "84/84 [==============================] - 1s 11ms/step - loss: 0.0018\n",
            "Epoch 4/50\n",
            "84/84 [==============================] - 1s 11ms/step - loss: 0.0014\n",
            "Epoch 5/50\n",
            "84/84 [==============================] - 1s 11ms/step - loss: 0.0012\n",
            "Epoch 6/50\n",
            "84/84 [==============================] - 1s 11ms/step - loss: 0.0010\n",
            "Epoch 7/50\n",
            "84/84 [==============================] - 1s 11ms/step - loss: 9.3525e-04\n",
            "Epoch 8/50\n",
            "84/84 [==============================] - 1s 11ms/step - loss: 8.8956e-04\n",
            "Epoch 9/50\n",
            "84/84 [==============================] - 1s 11ms/step - loss: 8.4933e-04\n",
            "Epoch 10/50\n",
            "84/84 [==============================] - 1s 11ms/step - loss: 7.8096e-04\n",
            "Epoch 11/50\n",
            "84/84 [==============================] - 1s 11ms/step - loss: 7.2308e-04\n",
            "Epoch 12/50\n",
            "84/84 [==============================] - 1s 12ms/step - loss: 7.6390e-04\n",
            "Epoch 13/50\n",
            "84/84 [==============================] - 1s 12ms/step - loss: 6.4845e-04\n",
            "Epoch 14/50\n",
            "84/84 [==============================] - 1s 12ms/step - loss: 6.1593e-04\n",
            "Epoch 15/50\n",
            "84/84 [==============================] - 1s 12ms/step - loss: 6.5512e-04\n",
            "Epoch 16/50\n",
            "84/84 [==============================] - 1s 12ms/step - loss: 6.3336e-04\n",
            "Epoch 17/50\n",
            "84/84 [==============================] - 1s 11ms/step - loss: 6.1432e-04\n",
            "Epoch 18/50\n",
            "84/84 [==============================] - 1s 11ms/step - loss: 5.4113e-04\n",
            "Epoch 19/50\n",
            "84/84 [==============================] - 1s 11ms/step - loss: 4.5169e-04\n",
            "Epoch 20/50\n",
            "84/84 [==============================] - 1s 11ms/step - loss: 5.3236e-04\n",
            "Epoch 21/50\n",
            "84/84 [==============================] - 1s 12ms/step - loss: 5.1949e-04\n",
            "Epoch 22/50\n",
            "84/84 [==============================] - 1s 14ms/step - loss: 4.8600e-04\n",
            "Epoch 23/50\n",
            "84/84 [==============================] - 1s 11ms/step - loss: 4.9250e-04\n",
            "Epoch 24/50\n",
            "84/84 [==============================] - 1s 11ms/step - loss: 4.9837e-04\n",
            "Epoch 25/50\n",
            "84/84 [==============================] - 1s 12ms/step - loss: 4.3100e-04\n",
            "Epoch 26/50\n",
            "84/84 [==============================] - 1s 11ms/step - loss: 3.6809e-04\n",
            "Epoch 27/50\n",
            "84/84 [==============================] - 1s 12ms/step - loss: 4.8169e-04\n",
            "Epoch 28/50\n",
            "84/84 [==============================] - 1s 12ms/step - loss: 4.1714e-04\n",
            "Epoch 29/50\n",
            "84/84 [==============================] - 1s 12ms/step - loss: 4.0895e-04\n",
            "Epoch 30/50\n",
            "84/84 [==============================] - 1s 12ms/step - loss: 3.4791e-04\n",
            "Epoch 31/50\n",
            "84/84 [==============================] - 1s 11ms/step - loss: 3.5991e-04\n",
            "Epoch 32/50\n",
            "84/84 [==============================] - 1s 12ms/step - loss: 4.2104e-04\n",
            "Epoch 33/50\n",
            "84/84 [==============================] - 1s 11ms/step - loss: 3.9586e-04\n",
            "Epoch 34/50\n",
            "84/84 [==============================] - 1s 11ms/step - loss: 3.6227e-04\n",
            "Epoch 35/50\n",
            "84/84 [==============================] - 1s 11ms/step - loss: 3.5678e-04\n",
            "Epoch 36/50\n",
            "84/84 [==============================] - 1s 11ms/step - loss: 3.9890e-04\n",
            "Epoch 37/50\n",
            "84/84 [==============================] - 1s 11ms/step - loss: 3.5446e-04\n",
            "Epoch 38/50\n",
            "84/84 [==============================] - 1s 12ms/step - loss: 3.2917e-04\n",
            "Epoch 39/50\n",
            "84/84 [==============================] - 1s 11ms/step - loss: 2.9556e-04\n",
            "Epoch 40/50\n",
            "84/84 [==============================] - 1s 11ms/step - loss: 4.0266e-04\n",
            "Epoch 41/50\n",
            "84/84 [==============================] - 1s 12ms/step - loss: 3.4338e-04\n",
            "Epoch 42/50\n",
            "84/84 [==============================] - 1s 12ms/step - loss: 3.1870e-04\n",
            "Epoch 43/50\n",
            "84/84 [==============================] - 1s 11ms/step - loss: 2.5065e-04\n",
            "Epoch 44/50\n",
            "84/84 [==============================] - 1s 11ms/step - loss: 3.0321e-04\n",
            "Epoch 45/50\n",
            "84/84 [==============================] - 1s 12ms/step - loss: 2.9605e-04\n",
            "Epoch 46/50\n",
            "84/84 [==============================] - 1s 12ms/step - loss: 3.0127e-04\n",
            "Epoch 47/50\n",
            "84/84 [==============================] - 1s 11ms/step - loss: 3.3209e-04\n",
            "Epoch 48/50\n",
            "84/84 [==============================] - 1s 11ms/step - loss: 3.0365e-04\n",
            "Epoch 49/50\n",
            "84/84 [==============================] - 1s 12ms/step - loss: 3.0150e-04\n",
            "Epoch 50/50\n",
            "84/84 [==============================] - 1s 12ms/step - loss: 2.4113e-04\n"
          ],
          "name": "stdout"
        },
        {
          "output_type": "execute_result",
          "data": {
            "text/plain": [
              "<keras.callbacks.History at 0x7efce12c6410>"
            ]
          },
          "metadata": {
            "tags": []
          },
          "execution_count": 36
        }
      ]
    },
    {
      "cell_type": "code",
      "metadata": {
        "id": "GTVao_L5hzIr"
      },
      "source": [
        "predicted_stock_price_RNN = model_RNN.predict(X_test)\n",
        "predicted_stock_price_RNN = sc.inverse_transform(predicted_stock_price_RNN)"
      ],
      "execution_count": 37,
      "outputs": []
    },
    {
      "cell_type": "code",
      "metadata": {
        "colab": {
          "base_uri": "https://localhost:8080/",
          "height": 294
        },
        "id": "SkQspRlriDOv",
        "outputId": "f8f17017-d8d9-4e44-9e12-421f54c982a9"
      },
      "source": [
        "plt.plot(test_set, color = 'green', label = 'Deere Real Stock Price')\n",
        "plt.plot(predicted_stock_price_RNN, color = 'blue', label = 'Deere Predicted Stock Price')\n",
        "plt.title('Stock Price Simple RNN 90 previous time steps')\n",
        "plt.xlabel('Time in Days')\n",
        "plt.ylabel('Stock Price')\n",
        "plt.legend()\n",
        "plt.show()"
      ],
      "execution_count": 52,
      "outputs": [
        {
          "output_type": "display_data",
          "data": {
            "image/png": "[encoded data removed]",
            "text/plain": [
              "<Figure size 432x288 with 1 Axes>"
            ]
          },
          "metadata": {
            "tags": [],
            "needs_background": "light"
          }
        }
      ]
    },
    {
      "cell_type": "markdown",
      "metadata": {
        "id": "TgBieBwyl_eM"
      },
      "source": [
        "## Simple RNN doesn't perform very well based on the predicted stock price above. Relatively high percent error when comparing 20th and 50th day stock price and average error"
      ]
    },
    {
      "cell_type": "code",
      "metadata": {
        "colab": {
          "base_uri": "https://localhost:8080/"
        },
        "id": "OBa_Jahbk56B",
        "outputId": "c11bc16c-7765-497a-978a-1f5fb927a576"
      },
      "source": [
        "print(percent_error(predicted_stock_price_RNN[20],test_set[20]), \"%\")"
      ],
      "execution_count": 39,
      "outputs": [
        {
          "output_type": "stream",
          "text": [
            "6 %\n"
          ],
          "name": "stdout"
        }
      ]
    },
    {
      "cell_type": "code",
      "metadata": {
        "colab": {
          "base_uri": "https://localhost:8080/"
        },
        "id": "43YHD9B9lIFk",
        "outputId": "29f1e3a5-a912-46c1-c4a4-5d2bd1474fd4"
      },
      "source": [
        "print(percent_error(predicted_stock_price_RNN[50],test_set[50]), \"%\")"
      ],
      "execution_count": 40,
      "outputs": [
        {
          "output_type": "stream",
          "text": [
            "4 %\n"
          ],
          "name": "stdout"
        }
      ]
    },
    {
      "cell_type": "code",
      "metadata": {
        "colab": {
          "base_uri": "https://localhost:8080/"
        },
        "id": "F7HZ9RcdjmtK",
        "outputId": "79c4a0aa-d929-4ad9-d464-b1837e0606ba"
      },
      "source": [
        "c = [abs(i-j)/i*100 for i,j in zip(predicted_stock_price_RNN,test_set)]\n",
        "(sum(c)/len(c))[0]"
      ],
      "execution_count": 41,
      "outputs": [
        {
          "output_type": "execute_result",
          "data": {
            "text/plain": [
              "4.153068520682159"
            ]
          },
          "metadata": {
            "tags": []
          },
          "execution_count": 41
        }
      ]
    },
    {
      "cell_type": "markdown",
      "metadata": {
        "id": "b_pbsDwnlS-S"
      },
      "source": [
        "## **4. Now shifting to a layered RNN**"
      ]
    },
    {
      "cell_type": "code",
      "metadata": {
        "id": "sxmRSGrJlDSI"
      },
      "source": [
        "model_rnn_layer = Sequential()\n",
        "model_rnn_layer.add(SimpleRNN(neurons, return_sequences=True, input_shape = (X_train.shape[1], 1)))\n",
        "model_rnn_layer.add(Dropout(dropout))\n",
        "model_rnn_layer.add(SimpleRNN(neurons, return_sequences=True))\n",
        "model_rnn_layer.add(Dropout(dropout))\n",
        "model_rnn_layer.add(SimpleRNN(neurons))\n",
        "model_rnn_layer.add(Dropout(dropout))\n",
        "model_rnn_layer.add(Dense(1))"
      ],
      "execution_count": 42,
      "outputs": []
    },
    {
      "cell_type": "code",
      "metadata": {
        "id": "tsQHAOYllcq9"
      },
      "source": [
        "model_rnn_layer.compile(optimizer = optimizer, loss = loss)"
      ],
      "execution_count": 43,
      "outputs": []
    },
    {
      "cell_type": "code",
      "metadata": {
        "colab": {
          "base_uri": "https://localhost:8080/"
        },
        "id": "q6O0j4lIlepf",
        "outputId": "4b0d2baf-1b55-4b7a-9aee-6762dfb0c854"
      },
      "source": [
        "model_rnn_layer.fit(X_train, y_train, epochs = epochs, batch_size = batch_size)"
      ],
      "execution_count": 44,
      "outputs": [
        {
          "output_type": "stream",
          "text": [
            "Epoch 1/50\n",
            "84/84 [==============================] - 7s 45ms/step - loss: 0.3993\n",
            "Epoch 2/50\n",
            "84/84 [==============================] - 4s 43ms/step - loss: 0.0596\n",
            "Epoch 3/50\n",
            "84/84 [==============================] - 4s 43ms/step - loss: 0.0246\n",
            "Epoch 4/50\n",
            "84/84 [==============================] - 4s 42ms/step - loss: 0.0153\n",
            "Epoch 5/50\n",
            "84/84 [==============================] - 4s 43ms/step - loss: 0.0122\n",
            "Epoch 6/50\n",
            "84/84 [==============================] - 4s 44ms/step - loss: 0.0085\n",
            "Epoch 7/50\n",
            "84/84 [==============================] - 4s 42ms/step - loss: 0.0066\n",
            "Epoch 8/50\n",
            "84/84 [==============================] - 4s 43ms/step - loss: 0.0055\n",
            "Epoch 9/50\n",
            "84/84 [==============================] - 4s 43ms/step - loss: 0.0050\n",
            "Epoch 10/50\n",
            "84/84 [==============================] - 4s 42ms/step - loss: 0.0042\n",
            "Epoch 11/50\n",
            "84/84 [==============================] - 4s 43ms/step - loss: 0.0036\n",
            "Epoch 12/50\n",
            "84/84 [==============================] - 4s 43ms/step - loss: 0.0033\n",
            "Epoch 13/50\n",
            "84/84 [==============================] - 4s 43ms/step - loss: 0.0032\n",
            "Epoch 14/50\n",
            "84/84 [==============================] - 4s 43ms/step - loss: 0.0027\n",
            "Epoch 15/50\n",
            "84/84 [==============================] - 4s 42ms/step - loss: 0.0024\n",
            "Epoch 16/50\n",
            "84/84 [==============================] - 4s 42ms/step - loss: 0.0027\n",
            "Epoch 17/50\n",
            "84/84 [==============================] - 4s 43ms/step - loss: 0.0022\n",
            "Epoch 18/50\n",
            "84/84 [==============================] - 4s 42ms/step - loss: 0.0021\n",
            "Epoch 19/50\n",
            "84/84 [==============================] - 4s 42ms/step - loss: 0.0019\n",
            "Epoch 20/50\n",
            "84/84 [==============================] - 4s 43ms/step - loss: 0.0018\n",
            "Epoch 21/50\n",
            "84/84 [==============================] - 4s 43ms/step - loss: 0.0019\n",
            "Epoch 22/50\n",
            "84/84 [==============================] - 4s 43ms/step - loss: 0.0015\n",
            "Epoch 23/50\n",
            "84/84 [==============================] - 4s 43ms/step - loss: 0.0016\n",
            "Epoch 24/50\n",
            "84/84 [==============================] - 4s 42ms/step - loss: 0.0014\n",
            "Epoch 25/50\n",
            "84/84 [==============================] - 4s 42ms/step - loss: 0.0013\n",
            "Epoch 26/50\n",
            "84/84 [==============================] - 4s 44ms/step - loss: 0.0015\n",
            "Epoch 27/50\n",
            "84/84 [==============================] - 4s 43ms/step - loss: 0.0012\n",
            "Epoch 28/50\n",
            "84/84 [==============================] - 4s 44ms/step - loss: 0.0011\n",
            "Epoch 29/50\n",
            "84/84 [==============================] - 4s 42ms/step - loss: 0.0011\n",
            "Epoch 30/50\n",
            "84/84 [==============================] - 4s 42ms/step - loss: 0.0013\n",
            "Epoch 31/50\n",
            "84/84 [==============================] - 4s 43ms/step - loss: 9.8962e-04\n",
            "Epoch 32/50\n",
            "84/84 [==============================] - 4s 43ms/step - loss: 0.0011\n",
            "Epoch 33/50\n",
            "84/84 [==============================] - 4s 43ms/step - loss: 0.0010\n",
            "Epoch 34/50\n",
            "84/84 [==============================] - 4s 43ms/step - loss: 0.0011\n",
            "Epoch 35/50\n",
            "84/84 [==============================] - 4s 43ms/step - loss: 9.8334e-04\n",
            "Epoch 36/50\n",
            "84/84 [==============================] - 4s 43ms/step - loss: 8.7095e-04\n",
            "Epoch 37/50\n",
            "84/84 [==============================] - 4s 43ms/step - loss: 0.0011\n",
            "Epoch 38/50\n",
            "84/84 [==============================] - 4s 43ms/step - loss: 0.0010\n",
            "Epoch 39/50\n",
            "84/84 [==============================] - 4s 43ms/step - loss: 9.4329e-04\n",
            "Epoch 40/50\n",
            "84/84 [==============================] - 4s 43ms/step - loss: 0.0012\n",
            "Epoch 41/50\n",
            "84/84 [==============================] - 4s 43ms/step - loss: 8.4485e-04\n",
            "Epoch 42/50\n",
            "84/84 [==============================] - 4s 43ms/step - loss: 7.0273e-04\n",
            "Epoch 43/50\n",
            "84/84 [==============================] - 4s 43ms/step - loss: 8.1541e-04\n",
            "Epoch 44/50\n",
            "84/84 [==============================] - 4s 43ms/step - loss: 7.8891e-04\n",
            "Epoch 45/50\n",
            "84/84 [==============================] - 4s 43ms/step - loss: 7.5277e-04\n",
            "Epoch 46/50\n",
            "84/84 [==============================] - 4s 43ms/step - loss: 6.8740e-04\n",
            "Epoch 47/50\n",
            "84/84 [==============================] - 4s 43ms/step - loss: 7.6303e-04\n",
            "Epoch 48/50\n",
            "84/84 [==============================] - 4s 44ms/step - loss: 8.0694e-04\n",
            "Epoch 49/50\n",
            "84/84 [==============================] - 4s 43ms/step - loss: 7.9800e-04\n",
            "Epoch 50/50\n",
            "84/84 [==============================] - 4s 43ms/step - loss: 7.3684e-04\n"
          ],
          "name": "stdout"
        },
        {
          "output_type": "execute_result",
          "data": {
            "text/plain": [
              "<keras.callbacks.History at 0x7efce088a550>"
            ]
          },
          "metadata": {
            "tags": []
          },
          "execution_count": 44
        }
      ]
    },
    {
      "cell_type": "code",
      "metadata": {
        "id": "z4xRPwIhl4Z2"
      },
      "source": [
        "predicted_stock_price_rnn_layer = model_rnn_layer.predict(X_test)\n",
        "predicted_stock_price_rnn_layer = sc.inverse_transform(predicted_stock_price_rnn_layer) # going back from normalizing"
      ],
      "execution_count": 45,
      "outputs": []
    },
    {
      "cell_type": "code",
      "metadata": {
        "colab": {
          "base_uri": "https://localhost:8080/",
          "height": 294
        },
        "id": "G1rpALmDlgxL",
        "outputId": "5fecd69a-adfd-4342-b693-8ecbba70c4ae"
      },
      "source": [
        "plt.plot(test_set, color = 'green', label = 'Deere Real Stock Price')\n",
        "plt.plot(predicted_stock_price_rnn_layer, color = 'blue', label = 'Deere Predicted Stock Price')\n",
        "plt.title('Stock Price Layered RNN 90 previous time steps')\n",
        "plt.xlabel('Time in Days')\n",
        "plt.ylabel('Stock Price')\n",
        "plt.legend()\n",
        "plt.show()"
      ],
      "execution_count": 53,
      "outputs": [
        {
          "output_type": "display_data",
          "data": {
            "image/png": "[encoded data removed]",
            "text/plain": [
              "<Figure size 432x288 with 1 Axes>"
            ]
          },
          "metadata": {
            "tags": [],
            "needs_background": "light"
          }
        }
      ]
    },
    {
      "cell_type": "markdown",
      "metadata": {
        "id": "CMxnPvfqpJ-H"
      },
      "source": [
        "## Model is even worse than previous models, percent error is greater and you can tell by graph that predicted 'blue' is shifted down consistently"
      ]
    },
    {
      "cell_type": "code",
      "metadata": {
        "colab": {
          "base_uri": "https://localhost:8080/"
        },
        "id": "rkudo1LtmsWn",
        "outputId": "4151e3de-e6f6-43c2-991e-524538619e49"
      },
      "source": [
        "c = [abs(i-j)/i*100 for i,j in zip(predicted_stock_price_rnn_layer,test_set)]\n",
        "(sum(c)/len(c))[0]"
      ],
      "execution_count": 47,
      "outputs": [
        {
          "output_type": "execute_result",
          "data": {
            "text/plain": [
              "5.1726553980897005"
            ]
          },
          "metadata": {
            "tags": []
          },
          "execution_count": 47
        }
      ]
    },
    {
      "cell_type": "markdown",
      "metadata": {
        "id": "y88P1o2TeYLq"
      },
      "source": [
        "##  **5. Bidirectional LSTM**"
      ]
    },
    {
      "cell_type": "code",
      "metadata": {
        "colab": {
          "base_uri": "https://localhost:8080/"
        },
        "id": "2ggeb6mOnjF-",
        "outputId": "27e99948-3160-4e24-ec5c-3f21c4cc6f43"
      },
      "source": [
        "model_bidirectional_LSTM = Sequential()\n",
        "model_bidirectional_LSTM.add (Bidirectional(LSTM(neurons, input_shape = (X_train.shape[1], 1))))\n",
        "model_bidirectional_LSTM.add(Dropout(dropout))\n",
        "model_bidirectional_LSTM.add(Dense(1))\n",
        "model_bidirectional_LSTM.compile(optimizer = optimizer, loss = loss)\n",
        "model_bidirectional_LSTM.fit(X_train, y_train, epochs = epochs, batch_size = batch_size)"
      ],
      "execution_count": 48,
      "outputs": [
        {
          "output_type": "stream",
          "text": [
            "Epoch 1/50\n",
            "84/84 [==============================] - 19s 45ms/step - loss: 0.0177\n",
            "Epoch 2/50\n",
            "84/84 [==============================] - 4s 46ms/step - loss: 0.0015\n",
            "Epoch 3/50\n",
            "84/84 [==============================] - 4s 45ms/step - loss: 0.0012\n",
            "Epoch 4/50\n",
            "84/84 [==============================] - 4s 46ms/step - loss: 8.2026e-04\n",
            "Epoch 5/50\n",
            "84/84 [==============================] - 4s 47ms/step - loss: 8.5573e-04\n",
            "Epoch 6/50\n",
            "84/84 [==============================] - 4s 46ms/step - loss: 7.5749e-04\n",
            "Epoch 7/50\n",
            "84/84 [==============================] - 4s 46ms/step - loss: 8.2453e-04\n",
            "Epoch 8/50\n",
            "84/84 [==============================] - 4s 45ms/step - loss: 7.5061e-04\n",
            "Epoch 9/50\n",
            "84/84 [==============================] - 4s 45ms/step - loss: 6.5883e-04\n",
            "Epoch 10/50\n",
            "84/84 [==============================] - 4s 46ms/step - loss: 6.2723e-04\n",
            "Epoch 11/50\n",
            "84/84 [==============================] - 4s 46ms/step - loss: 6.0920e-04\n",
            "Epoch 12/50\n",
            "84/84 [==============================] - 4s 46ms/step - loss: 5.7081e-04\n",
            "Epoch 13/50\n",
            "84/84 [==============================] - 4s 46ms/step - loss: 5.5453e-04\n",
            "Epoch 14/50\n",
            "84/84 [==============================] - 4s 45ms/step - loss: 5.6646e-04\n",
            "Epoch 15/50\n",
            "84/84 [==============================] - 4s 46ms/step - loss: 5.8311e-04\n",
            "Epoch 16/50\n",
            "84/84 [==============================] - 4s 45ms/step - loss: 4.7426e-04\n",
            "Epoch 17/50\n",
            "84/84 [==============================] - 4s 45ms/step - loss: 5.3969e-04\n",
            "Epoch 18/50\n",
            "84/84 [==============================] - 4s 46ms/step - loss: 4.7088e-04\n",
            "Epoch 19/50\n",
            "84/84 [==============================] - 4s 46ms/step - loss: 5.3209e-04\n",
            "Epoch 20/50\n",
            "84/84 [==============================] - 4s 45ms/step - loss: 4.8948e-04\n",
            "Epoch 21/50\n",
            "84/84 [==============================] - 4s 46ms/step - loss: 4.6350e-04\n",
            "Epoch 22/50\n",
            "84/84 [==============================] - 4s 45ms/step - loss: 4.3004e-04\n",
            "Epoch 23/50\n",
            "84/84 [==============================] - 4s 46ms/step - loss: 4.4756e-04\n",
            "Epoch 24/50\n",
            "84/84 [==============================] - 4s 45ms/step - loss: 4.8825e-04\n",
            "Epoch 25/50\n",
            "84/84 [==============================] - 4s 46ms/step - loss: 3.8454e-04\n",
            "Epoch 26/50\n",
            "84/84 [==============================] - 4s 46ms/step - loss: 3.7136e-04\n",
            "Epoch 27/50\n",
            "84/84 [==============================] - 4s 46ms/step - loss: 4.2477e-04\n",
            "Epoch 28/50\n",
            "84/84 [==============================] - 4s 46ms/step - loss: 4.9516e-04\n",
            "Epoch 29/50\n",
            "84/84 [==============================] - 4s 46ms/step - loss: 4.1992e-04\n",
            "Epoch 30/50\n",
            "84/84 [==============================] - 4s 45ms/step - loss: 3.8076e-04\n",
            "Epoch 31/50\n",
            "84/84 [==============================] - 4s 46ms/step - loss: 3.8090e-04\n",
            "Epoch 32/50\n",
            "84/84 [==============================] - 4s 46ms/step - loss: 4.1226e-04\n",
            "Epoch 33/50\n",
            "84/84 [==============================] - 4s 45ms/step - loss: 4.3892e-04\n",
            "Epoch 34/50\n",
            "84/84 [==============================] - 4s 46ms/step - loss: 3.7004e-04\n",
            "Epoch 35/50\n",
            "84/84 [==============================] - 4s 46ms/step - loss: 4.0129e-04\n",
            "Epoch 36/50\n",
            "84/84 [==============================] - 4s 46ms/step - loss: 4.5879e-04\n",
            "Epoch 37/50\n",
            "84/84 [==============================] - 4s 46ms/step - loss: 3.4995e-04\n",
            "Epoch 38/50\n",
            "84/84 [==============================] - 4s 46ms/step - loss: 3.3866e-04\n",
            "Epoch 39/50\n",
            "84/84 [==============================] - 4s 46ms/step - loss: 3.7332e-04\n",
            "Epoch 40/50\n",
            "84/84 [==============================] - 4s 46ms/step - loss: 3.3692e-04\n",
            "Epoch 41/50\n",
            "84/84 [==============================] - 4s 46ms/step - loss: 3.3863e-04\n",
            "Epoch 42/50\n",
            "84/84 [==============================] - 4s 46ms/step - loss: 3.1361e-04\n",
            "Epoch 43/50\n",
            "84/84 [==============================] - 4s 46ms/step - loss: 3.9938e-04\n",
            "Epoch 44/50\n",
            "84/84 [==============================] - 4s 46ms/step - loss: 3.7886e-04\n",
            "Epoch 45/50\n",
            "84/84 [==============================] - 4s 46ms/step - loss: 2.9394e-04\n",
            "Epoch 46/50\n",
            "84/84 [==============================] - 4s 45ms/step - loss: 2.9651e-04\n",
            "Epoch 47/50\n",
            "84/84 [==============================] - 4s 46ms/step - loss: 3.1356e-04\n",
            "Epoch 48/50\n",
            "84/84 [==============================] - 4s 46ms/step - loss: 3.5572e-04\n",
            "Epoch 49/50\n",
            "84/84 [==============================] - 4s 46ms/step - loss: 3.1524e-04\n",
            "Epoch 50/50\n",
            "84/84 [==============================] - 4s 46ms/step - loss: 3.3637e-04\n"
          ],
          "name": "stdout"
        },
        {
          "output_type": "execute_result",
          "data": {
            "text/plain": [
              "<keras.callbacks.History at 0x7efce0bb2c10>"
            ]
          },
          "metadata": {
            "tags": []
          },
          "execution_count": 48
        }
      ]
    },
    {
      "cell_type": "code",
      "metadata": {
        "id": "qp-1CVHSrBnJ"
      },
      "source": [
        "predicted_stock_price_birectional_LSTM = model_bidirectional_LSTM.predict(X_test)\n",
        "predicted_stock_price_birectional_LSTM = sc.inverse_transform(predicted_stock_price_birectional_LSTM) # going back from normalizing"
      ],
      "execution_count": 49,
      "outputs": []
    },
    {
      "cell_type": "code",
      "metadata": {
        "colab": {
          "base_uri": "https://localhost:8080/",
          "height": 294
        },
        "id": "Z20m4zq1rTje",
        "outputId": "8c224c6f-3b63-4571-f3c5-b37db2c9b4ad"
      },
      "source": [
        "plt.plot(test_set, color = 'green', label = 'Deere Real Stock Price')\n",
        "plt.plot(predicted_stock_price_birectional_LSTM, color = 'blue', label = 'Deere Predicted Stock Price')\n",
        "plt.title('Stock Price Bidirectional LSTM 90 previous time steps')\n",
        "plt.xlabel('Time in Days')\n",
        "plt.ylabel('Stock Price')\n",
        "plt.legend()\n",
        "plt.show()"
      ],
      "execution_count": 54,
      "outputs": [
        {
          "output_type": "display_data",
          "data": {
            "image/png": "[encoded data removed]",
            "text/plain": [
              "<Figure size 432x288 with 1 Axes>"
            ]
          },
          "metadata": {
            "tags": [],
            "needs_background": "light"
          }
        }
      ]
    },
    {
      "cell_type": "code",
      "metadata": {
        "colab": {
          "base_uri": "https://localhost:8080/"
        },
        "id": "ApIYCz9HrbSX",
        "outputId": "d782514c-1e97-4e0c-e680-494199ded0c2"
      },
      "source": [
        "c = [abs(i-j)/i*100 for i,j in zip(predicted_stock_price_birectional_LSTM,test_set)]\n",
        "(sum(c)/len(c))[0]"
      ],
      "execution_count": 51,
      "outputs": [
        {
          "output_type": "execute_result",
          "data": {
            "text/plain": [
              "1.9858572218695678"
            ]
          },
          "metadata": {
            "tags": []
          },
          "execution_count": 51
        }
      ]
    },
    {
      "cell_type": "code",
      "metadata": {
        "id": "I9LDljkk368s"
      },
      "source": [
        ""
      ],
      "execution_count": null,
      "outputs": []
    }
  ]
}