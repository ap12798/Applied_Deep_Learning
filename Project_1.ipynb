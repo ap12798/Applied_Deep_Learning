{
  "nbformat": 4,
  "nbformat_minor": 0,
  "metadata": {
    "colab": {
      "name": "Project_1.ipynb",
      "provenance": [],
      "collapsed_sections": [],
      "toc_visible": true,
      "authorship_tag": "ABX9TyMEQsiTx5u4Qx5mGhl32jF4",
      "include_colab_link": true
    },
    "kernelspec": {
      "name": "python3",
      "display_name": "Python 3"
    },
    "language_info": {
      "name": "python"
    }
  },
  "cells": [
    {
      "cell_type": "markdown",
      "metadata": {
        "id": "view-in-github",
        "colab_type": "text"
      },
      "source": [
        "<a href=\"https://colab.research.google.com/github/ap12798/Applied_Deep_Learning/blob/main/Project_1.ipynb\" target=\"_parent\"><img src=\"https://colab.research.google.com/assets/colab-badge.svg\" alt=\"Open In Colab\"/></a>"
      ]
    },
    {
      "cell_type": "markdown",
      "metadata": {
        "id": "EGDex4-BA1EE"
      },
      "source": [
        "### This Applied Deep Learning Project will be to determine the stock trend of Deere (stock abrev DE) for the beginning of 2021. The notebook will make use of the library yfinance to access Deere's beginning day stock price for the past 10 years. Stacked LSTM, dropout, adam optimizer\n",
        "\n",
        "\n",
        "\n",
        "1.   Best Model Stacked LSTM with 60 days of reference prices\n",
        "2.   Stacked LSTM with 30 and 90 days of reference prices\n",
        "3.   Alternate RNN models (Simple RNN, Layered RNN, Bidrectional RNN)\n",
        "\n"
      ]
    },
    {
      "cell_type": "code",
      "metadata": {
        "id": "MvM4LJuDWP9Q",
        "colab": {
          "base_uri": "https://localhost:8080/"
        },
        "outputId": "4854225f-bac6-41f3-f902-ff547d1bd618"
      },
      "source": [
        "!pip install yfinance"
      ],
      "execution_count": 25,
      "outputs": [
        {
          "output_type": "stream",
          "text": [
            "Requirement already satisfied: yfinance in /usr/local/lib/python3.7/dist-packages (0.1.63)\n",
            "Requirement already satisfied: multitasking>=0.0.7 in /usr/local/lib/python3.7/dist-packages (from yfinance) (0.0.9)\n",
            "Requirement already satisfied: pandas>=0.24 in /usr/local/lib/python3.7/dist-packages (from yfinance) (1.1.5)\n",
            "Requirement already satisfied: requests>=2.20 in /usr/local/lib/python3.7/dist-packages (from yfinance) (2.23.0)\n",
            "Requirement already satisfied: numpy>=1.15 in /usr/local/lib/python3.7/dist-packages (from yfinance) (1.19.5)\n",
            "Requirement already satisfied: lxml>=4.5.1 in /usr/local/lib/python3.7/dist-packages (from yfinance) (4.6.3)\n",
            "Requirement already satisfied: pytz>=2017.2 in /usr/local/lib/python3.7/dist-packages (from pandas>=0.24->yfinance) (2018.9)\n",
            "Requirement already satisfied: python-dateutil>=2.7.3 in /usr/local/lib/python3.7/dist-packages (from pandas>=0.24->yfinance) (2.8.1)\n",
            "Requirement already satisfied: six>=1.5 in /usr/local/lib/python3.7/dist-packages (from python-dateutil>=2.7.3->pandas>=0.24->yfinance) (1.15.0)\n",
            "Requirement already satisfied: chardet<4,>=3.0.2 in /usr/local/lib/python3.7/dist-packages (from requests>=2.20->yfinance) (3.0.4)\n",
            "Requirement already satisfied: urllib3!=1.25.0,!=1.25.1,<1.26,>=1.21.1 in /usr/local/lib/python3.7/dist-packages (from requests>=2.20->yfinance) (1.24.3)\n",
            "Requirement already satisfied: idna<3,>=2.5 in /usr/local/lib/python3.7/dist-packages (from requests>=2.20->yfinance) (2.10)\n",
            "Requirement already satisfied: certifi>=2017.4.17 in /usr/local/lib/python3.7/dist-packages (from requests>=2.20->yfinance) (2021.5.30)\n"
          ],
          "name": "stdout"
        }
      ]
    },
    {
      "cell_type": "code",
      "metadata": {
        "id": "8iMqkH9_mFUU"
      },
      "source": [
        "import numpy as np\n",
        "import matplotlib.pyplot as plt\n",
        "import pandas as pd\n",
        "import datetime\n",
        "import time\n",
        "import yfinance as yf\n",
        "from sklearn.preprocessing import MinMaxScaler\n",
        "import statistics as stat\n",
        "from keras.models import Sequential\n",
        "from keras.layers import Dense\n",
        "from keras.layers import LSTM, SimpleRNN, Bidirectional\n",
        "from keras.layers import Dropout"
      ],
      "execution_count": 244,
      "outputs": []
    },
    {
      "cell_type": "markdown",
      "metadata": {
        "id": "5d4vmDU3pqpx"
      },
      "source": [
        "Training Set and Test set. Test set isn't used until later."
      ]
    },
    {
      "cell_type": "code",
      "metadata": {
        "colab": {
          "base_uri": "https://localhost:8080/"
        },
        "id": "gF90oH2ems-e",
        "outputId": "d5d5855e-4a85-4bba-a06e-6ad6976255cb"
      },
      "source": [
        "data_train = yf.download(\"DE\", start=\"2010-01-01\", end=\"2020-12-31\") # defaults to one price per day\n",
        "data_test = yf.download(\"DE\", start=\"2021-01-01\", end=\"2021-05-31\")"
      ],
      "execution_count": 245,
      "outputs": [
        {
          "output_type": "stream",
          "text": [
            "[*********************100%***********************]  1 of 1 completed\n",
            "[*********************100%***********************]  1 of 1 completed\n"
          ],
          "name": "stdout"
        }
      ]
    },
    {
      "cell_type": "markdown",
      "metadata": {
        "id": "vuLggLIIqEti"
      },
      "source": [
        "**Looking at the pandas output complete from yahoo, will trim down to just open price**"
      ]
    },
    {
      "cell_type": "code",
      "metadata": {
        "colab": {
          "base_uri": "https://localhost:8080/",
          "height": 232
        },
        "id": "Zu0K_GQrEQih",
        "outputId": "8c31a570-08ac-4fe5-899f-6b250a135a19"
      },
      "source": [
        "data_train.head()"
      ],
      "execution_count": 175,
      "outputs": [
        {
          "output_type": "execute_result",
          "data": {
            "text/html": [
              "<div>\n",
              "<style scoped>\n",
              "    .dataframe tbody tr th:only-of-type {\n",
              "        vertical-align: middle;\n",
              "    }\n",
              "\n",
              "    .dataframe tbody tr th {\n",
              "        vertical-align: top;\n",
              "    }\n",
              "\n",
              "    .dataframe thead th {\n",
              "        text-align: right;\n",
              "    }\n",
              "</style>\n",
              "<table border=\"1\" class=\"dataframe\">\n",
              "  <thead>\n",
              "    <tr style=\"text-align: right;\">\n",
              "      <th></th>\n",
              "      <th>Open</th>\n",
              "      <th>High</th>\n",
              "      <th>Low</th>\n",
              "      <th>Close</th>\n",
              "      <th>Adj Close</th>\n",
              "      <th>Volume</th>\n",
              "    </tr>\n",
              "    <tr>\n",
              "      <th>Date</th>\n",
              "      <th></th>\n",
              "      <th></th>\n",
              "      <th></th>\n",
              "      <th></th>\n",
              "      <th></th>\n",
              "      <th></th>\n",
              "    </tr>\n",
              "  </thead>\n",
              "  <tbody>\n",
              "    <tr>\n",
              "      <th>2010-01-04</th>\n",
              "      <td>54.740002</td>\n",
              "      <td>56.200001</td>\n",
              "      <td>54.340000</td>\n",
              "      <td>56.060001</td>\n",
              "      <td>43.838268</td>\n",
              "      <td>3974600</td>\n",
              "    </tr>\n",
              "    <tr>\n",
              "      <th>2010-01-05</th>\n",
              "      <td>56.189999</td>\n",
              "      <td>56.560001</td>\n",
              "      <td>55.599998</td>\n",
              "      <td>55.849998</td>\n",
              "      <td>43.674049</td>\n",
              "      <td>3007400</td>\n",
              "    </tr>\n",
              "    <tr>\n",
              "      <th>2010-01-06</th>\n",
              "      <td>55.570000</td>\n",
              "      <td>56.040001</td>\n",
              "      <td>55.220001</td>\n",
              "      <td>55.700001</td>\n",
              "      <td>43.556759</td>\n",
              "      <td>2854500</td>\n",
              "    </tr>\n",
              "    <tr>\n",
              "      <th>2010-01-07</th>\n",
              "      <td>55.380001</td>\n",
              "      <td>56.130001</td>\n",
              "      <td>55.169998</td>\n",
              "      <td>56.099998</td>\n",
              "      <td>43.869537</td>\n",
              "      <td>2694000</td>\n",
              "    </tr>\n",
              "    <tr>\n",
              "      <th>2010-01-08</th>\n",
              "      <td>55.779999</td>\n",
              "      <td>57.750000</td>\n",
              "      <td>55.299999</td>\n",
              "      <td>57.630001</td>\n",
              "      <td>45.065994</td>\n",
              "      <td>4165500</td>\n",
              "    </tr>\n",
              "  </tbody>\n",
              "</table>\n",
              "</div>"
            ],
            "text/plain": [
              "                 Open       High        Low      Close  Adj Close   Volume\n",
              "Date                                                                      \n",
              "2010-01-04  54.740002  56.200001  54.340000  56.060001  43.838268  3974600\n",
              "2010-01-05  56.189999  56.560001  55.599998  55.849998  43.674049  3007400\n",
              "2010-01-06  55.570000  56.040001  55.220001  55.700001  43.556759  2854500\n",
              "2010-01-07  55.380001  56.130001  55.169998  56.099998  43.869537  2694000\n",
              "2010-01-08  55.779999  57.750000  55.299999  57.630001  45.065994  4165500"
            ]
          },
          "metadata": {
            "tags": []
          },
          "execution_count": 175
        }
      ]
    },
    {
      "cell_type": "code",
      "metadata": {
        "colab": {
          "base_uri": "https://localhost:8080/"
        },
        "id": "HkNuTfEjsRth",
        "outputId": "a5ef2a31-b73b-412c-f2dc-489c67b70002"
      },
      "source": [
        "data_train.shape, data_test.shape "
      ],
      "execution_count": 149,
      "outputs": [
        {
          "output_type": "execute_result",
          "data": {
            "text/plain": [
              "((2768, 6), (102, 6))"
            ]
          },
          "metadata": {
            "tags": []
          },
          "execution_count": 149
        }
      ]
    },
    {
      "cell_type": "code",
      "metadata": {
        "id": "c5Ftj4RPvt4a"
      },
      "source": [
        "train_set = data_train.iloc[:, 1:2].values # grabbing just the stock open price, iloc used to get right index for opening (creating a numpy array)\n",
        "test_set = data_test.iloc[:, 1:2].values"
      ],
      "execution_count": 246,
      "outputs": []
    },
    {
      "cell_type": "code",
      "metadata": {
        "colab": {
          "base_uri": "https://localhost:8080/"
        },
        "id": "fjPwETU3wje9",
        "outputId": "da347955-94bf-42ed-e738-53024e7e15c5"
      },
      "source": [
        "train_set.shape, test_set.shape"
      ],
      "execution_count": 152,
      "outputs": [
        {
          "output_type": "execute_result",
          "data": {
            "text/plain": [
              "((2768, 1), (102, 1))"
            ]
          },
          "metadata": {
            "tags": []
          },
          "execution_count": 152
        }
      ]
    },
    {
      "cell_type": "code",
      "metadata": {
        "colab": {
          "base_uri": "https://localhost:8080/",
          "height": 312
        },
        "id": "VVrM6nANpFdn",
        "outputId": "45c01b75-6d75-4ca9-c326-f2c41b4e2fe9"
      },
      "source": [
        "plt.plot(train_set, color = 'green')\n",
        "plt.title('Stock Price')\n",
        "plt.xlabel('Time in Days')\n",
        "plt.ylabel('Stock Price')\n",
        "plt.legend()\n",
        "plt.show()"
      ],
      "execution_count": 168,
      "outputs": [
        {
          "output_type": "stream",
          "text": [
            "No handles with labels found to put in legend.\n"
          ],
          "name": "stderr"
        },
        {
          "output_type": "display_data",
          "data": {
            "image/png": "[encoded data removed]",
            "text/plain": [
              "<Figure size 432x288 with 1 Axes>"
            ]
          },
          "metadata": {
            "tags": [],
            "needs_background": "light"
          }
        }
      ]
    },
    {
      "cell_type": "code",
      "metadata": {
        "id": "8vrW6LLZwxWU"
      },
      "source": [
        "# normalizing the test data\n",
        "sc = MinMaxScaler() # defaults to zero and one\n",
        "train_set_scaled = sc.fit_transform(train_set) # applying fit transform method to sc\n",
        "\n",
        "X_train = [] # empty list that will be populated with the 60 previous stock prices and the next one\n",
        "y_train = [] \n",
        "for i in range(60, 2768): #l en(train_set) # need to start at the 60th \n",
        "  X_train.append(train_set_scaled[i-60:i, 0]) # adding data to X_train (60 previous stock price before i'th day)\n",
        "  y_train.append(train_set_scaled[i,0]) # adding data to y_train (time at t+1) - i because indexes start at zero\n",
        "X_train = np.array(X_train) # convert list to numpy array\n",
        "y_train = np.array(y_train) # convert list to numpy array\n",
        "\n",
        "X_train = np.reshape(X_train, (X_train.shape[0], X_train.shape[1], 1)) # reshaping data and adding a dimension for the single indicator we are trying to predict\n",
        "\n",
        "\n",
        "# need to get roughly 3 months (20 per month) 60 previous stock prices from the original data\n",
        "# data_set_total = yf.download(\"DE\", start = \"2010-01-01\", end = \"2021-05-31\")\n",
        "# data_set_total = data_set_total['Open']\n",
        "\n",
        "data_set_total = pd.concat((data_train['Open'], data_test['Open']), axis = 0)\n",
        "\n",
        "inputs = data_set_total[len(data_set_total) - len(data_test) - 60:].values # using the previous 60 days to predict the 61st day\n",
        "inputs = inputs.reshape(-1,1)\n",
        "inputs = sc.transform(inputs) # rnn is expecting this format\n",
        "X_test = []\n",
        "for i in range(60, 162): # 60 previous inputs + length of data_test (was 162 when 60)\n",
        "  X_test.append(inputs[i-60:i, 0])\n",
        "X_test = np.array(X_test)\n",
        "X_test = np.reshape(X_test, (X_test.shape[0], X_test.shape[1], 1)) # 3D structure for input"
      ],
      "execution_count": 247,
      "outputs": []
    },
    {
      "cell_type": "markdown",
      "metadata": {
        "id": "_1aOU3OnrSyP"
      },
      "source": [
        "**Taking a look at our new training set that is normalized from zero to one. Makes sense that the later values are closer to one after looking at the upward trend from above graph.**"
      ]
    },
    {
      "cell_type": "markdown",
      "metadata": {
        "id": "tLXw9Tf4rii8"
      },
      "source": [
        "**At each time 't' the RNN will look at the 60 previous stock prices before time 't' and time 't' and based on the trend, try to predict the best output at t+1**\n",
        "\n",
        "*Tried 30 timesteps and 90 timesteps and landed on 60 (3 months)being the best based on output**\n"
      ]
    },
    {
      "cell_type": "code",
      "metadata": {
        "colab": {
          "base_uri": "https://localhost:8080/"
        },
        "id": "DSVbl6Ertj3s",
        "outputId": "8ef8cc7f-3e47-4057-cc9c-16c5b8f84d68"
      },
      "source": [
        "len(train_set)"
      ],
      "execution_count": 156,
      "outputs": [
        {
          "output_type": "execute_result",
          "data": {
            "text/plain": [
              "2768"
            ]
          },
          "metadata": {
            "tags": []
          },
          "execution_count": 156
        }
      ]
    },
    {
      "cell_type": "code",
      "metadata": {
        "colab": {
          "base_uri": "https://localhost:8080/"
        },
        "id": "Of78Pk-vWKDP",
        "outputId": "abae8b70-f457-4d0c-e689-19fcb37cc412"
      },
      "source": [
        "X_train.shape"
      ],
      "execution_count": 158,
      "outputs": [
        {
          "output_type": "execute_result",
          "data": {
            "text/plain": [
              "(2708, 60)"
            ]
          },
          "metadata": {
            "tags": []
          },
          "execution_count": 158
        }
      ]
    },
    {
      "cell_type": "code",
      "metadata": {
        "colab": {
          "base_uri": "https://localhost:8080/"
        },
        "id": "UYo7EBEYZsLz",
        "outputId": "789976ee-54c0-4c52-a8ab-3961027d6791"
      },
      "source": [
        "X_train.shape # new 3-d array"
      ],
      "execution_count": 160,
      "outputs": [
        {
          "output_type": "execute_result",
          "data": {
            "text/plain": [
              "(2708, 60, 1)"
            ]
          },
          "metadata": {
            "tags": []
          },
          "execution_count": 160
        }
      ]
    },
    {
      "cell_type": "code",
      "metadata": {
        "id": "ANS4EFJZ2yqi"
      },
      "source": [
        "# hyperparameters\n",
        "dropout = 0.2\n",
        "neurons = 128 # tried 64\n",
        "epochs = 16 # tried 50 and mean square error didn't do much after 16\n",
        "batch_size = 32\n",
        "optimizer = 'adam'\n",
        "loss = 'mean_squared_error'"
      ],
      "execution_count": 248,
      "outputs": []
    },
    {
      "cell_type": "markdown",
      "metadata": {
        "id": "zFiwPAPQs2Hl"
      },
      "source": [
        "### **1. Stacked LSTM**\n",
        "\n",
        " \n",
        "\n",
        "*   #### Model seems to perform well and catches most of the stock price changes.\n",
        "*   #### Also the average % error is low\n"
      ]
    },
    {
      "cell_type": "code",
      "metadata": {
        "id": "EwHbR2WacDtX"
      },
      "source": [
        "model_stacked_LSTM = Sequential()\n",
        "model_stacked_LSTM.add(LSTM(units = neurons, return_sequences = True, input_shape = (X_train.shape[1], 1))) # first layer\n",
        "model_stacked_LSTM.add(Dropout(dropout))\n",
        "model_stacked_LSTM.add(LSTM(units = neurons, return_sequences = True))\n",
        "model_stacked_LSTM.add(Dropout(dropout))\n",
        "model_stacked_LSTM.add(LSTM(units = neurons, return_sequences = True))\n",
        "model_stacked_LSTM.add(Dropout(dropout))\n",
        "model_stacked_LSTM.add(LSTM(units = neurons))\n",
        "model_stacked_LSTM.add(Dropout(dropout))\n",
        "model_stacked_LSTM.add(Dense(1))"
      ],
      "execution_count": 249,
      "outputs": []
    },
    {
      "cell_type": "code",
      "metadata": {
        "id": "v1W3_lkua7LO"
      },
      "source": [
        "model_stacked_LSTM.compile(optimizer = optimizer, loss = loss)"
      ],
      "execution_count": 250,
      "outputs": []
    },
    {
      "cell_type": "code",
      "metadata": {
        "colab": {
          "base_uri": "https://localhost:8080/"
        },
        "id": "jH3vboUubOGV",
        "outputId": "e26283a7-fe85-4dc8-a910-c1f39605fdcf"
      },
      "source": [
        "model_stacked_LSTM.fit(X_train, y_train, epochs = epochs, batch_size = batch_size)"
      ],
      "execution_count": 251,
      "outputs": [
        {
          "output_type": "stream",
          "text": [
            "Epoch 1/16\n",
            "85/85 [==============================] - 31s 265ms/step - loss: 0.0220\n",
            "Epoch 2/16\n",
            "85/85 [==============================] - 23s 265ms/step - loss: 0.0015\n",
            "Epoch 3/16\n",
            "85/85 [==============================] - 23s 267ms/step - loss: 0.0012\n",
            "Epoch 4/16\n",
            "85/85 [==============================] - 23s 267ms/step - loss: 0.0013\n",
            "Epoch 5/16\n",
            "85/85 [==============================] - 23s 267ms/step - loss: 0.0011\n",
            "Epoch 6/16\n",
            "85/85 [==============================] - 22s 265ms/step - loss: 0.0012\n",
            "Epoch 7/16\n",
            "85/85 [==============================] - 23s 265ms/step - loss: 0.0011\n",
            "Epoch 8/16\n",
            "85/85 [==============================] - 23s 266ms/step - loss: 9.3721e-04\n",
            "Epoch 9/16\n",
            "85/85 [==============================] - 22s 260ms/step - loss: 0.0011\n",
            "Epoch 10/16\n",
            "85/85 [==============================] - 22s 262ms/step - loss: 9.5338e-04\n",
            "Epoch 11/16\n",
            "85/85 [==============================] - 22s 259ms/step - loss: 9.7901e-04\n",
            "Epoch 12/16\n",
            "85/85 [==============================] - 22s 257ms/step - loss: 9.0675e-04\n",
            "Epoch 13/16\n",
            "85/85 [==============================] - 22s 256ms/step - loss: 8.3155e-04\n",
            "Epoch 14/16\n",
            "85/85 [==============================] - 22s 256ms/step - loss: 7.4790e-04\n",
            "Epoch 15/16\n",
            "85/85 [==============================] - 22s 257ms/step - loss: 8.7319e-04\n",
            "Epoch 16/16\n",
            "85/85 [==============================] - 22s 262ms/step - loss: 6.5546e-04\n"
          ],
          "name": "stdout"
        },
        {
          "output_type": "execute_result",
          "data": {
            "text/plain": [
              "<keras.callbacks.History at 0x7ffaa90e6c90>"
            ]
          },
          "metadata": {
            "tags": []
          },
          "execution_count": 251
        }
      ]
    },
    {
      "cell_type": "code",
      "metadata": {
        "id": "vZY1EyroimFn",
        "colab": {
          "base_uri": "https://localhost:8080/",
          "height": 185
        },
        "outputId": "7e237739-1118-42fc-c478-f2ea8de0f155"
      },
      "source": [
        "predicted_stock_price_stacked_LSTM = predicted_stock_price_stacked_LSTM.predict(X_test)\n",
        "predicted_stock_price_stacked_LSTM = sc.inverse_transform(predicted_stock_price_stacked_LSTM) # going back from normalizing"
      ],
      "execution_count": 275,
      "outputs": [
        {
          "output_type": "error",
          "ename": "AttributeError",
          "evalue": "ignored",
          "traceback": [
            "\u001b[0;31m---------------------------------------------------------------------------\u001b[0m",
            "\u001b[0;31mAttributeError\u001b[0m                            Traceback (most recent call last)",
            "\u001b[0;32m<ipython-input-275-0ad81294c083>\u001b[0m in \u001b[0;36m<module>\u001b[0;34m()\u001b[0m\n\u001b[0;32m----> 1\u001b[0;31m \u001b[0mpredicted_stock_price_stacked_LSTM\u001b[0m \u001b[0;34m=\u001b[0m \u001b[0mpredicted_stock_price_stacked_LSTM\u001b[0m\u001b[0;34m.\u001b[0m\u001b[0mpredict\u001b[0m\u001b[0;34m(\u001b[0m\u001b[0mX_test\u001b[0m\u001b[0;34m)\u001b[0m\u001b[0;34m\u001b[0m\u001b[0;34m\u001b[0m\u001b[0m\n\u001b[0m\u001b[1;32m      2\u001b[0m \u001b[0mpredicted_stock_price_stacked_LSTM\u001b[0m \u001b[0;34m=\u001b[0m \u001b[0msc\u001b[0m\u001b[0;34m.\u001b[0m\u001b[0minverse_transform\u001b[0m\u001b[0;34m(\u001b[0m\u001b[0mpredicted_stock_price_stacked_LSTM\u001b[0m\u001b[0;34m)\u001b[0m \u001b[0;31m# going back from normalizing\u001b[0m\u001b[0;34m\u001b[0m\u001b[0;34m\u001b[0m\u001b[0m\n",
            "\u001b[0;31mAttributeError\u001b[0m: 'numpy.ndarray' object has no attribute 'predict'"
          ]
        }
      ]
    },
    {
      "cell_type": "markdown",
      "metadata": {
        "id": "aySkuPt9paKB"
      },
      "source": [
        "Chart below shows the actual stock price in green and predicted stock price in blue. No training data is displayed here."
      ]
    },
    {
      "cell_type": "code",
      "metadata": {
        "colab": {
          "base_uri": "https://localhost:8080/",
          "height": 294
        },
        "id": "ImHMM0iei9SN",
        "outputId": "5a672c57-375d-4555-c70d-f32c1dcd080c"
      },
      "source": [
        "plt.plot(test_set, color = 'green', label = 'Deere Real Stock Price')\n",
        "plt.plot(predicted_stock_price_stacked_LSTM, color = 'blue', label = 'Deere Predicted Stock Price')\n",
        "plt.title('Stock Price Prediction Stacked LSTM 60 previous time steps')\n",
        "plt.xlabel('Time in Days')\n",
        "plt.ylabel('Stock Price')\n",
        "plt.legend()\n",
        "plt.show()"
      ],
      "execution_count": 253,
      "outputs": [
        {
          "output_type": "display_data",
          "data": {
            "image/png": "[encoded data removed]",
            "text/plain": [
              "<Figure size 432x288 with 1 Axes>"
            ]
          },
          "metadata": {
            "tags": [],
            "needs_background": "light"
          }
        }
      ]
    },
    {
      "cell_type": "code",
      "metadata": {
        "id": "Ps6Jh434vkMg"
      },
      "source": [
        "# Function to calculate the percentage\n",
        "def percent_error(a, b) :\n",
        " \n",
        "    result = int(((b - a) * 100) / a)\n",
        " \n",
        "    return result"
      ],
      "execution_count": 254,
      "outputs": []
    },
    {
      "cell_type": "code",
      "metadata": {
        "colab": {
          "base_uri": "https://localhost:8080/"
        },
        "id": "q1B38PFAxeiy",
        "outputId": "8e6f799b-027e-4605-bde3-7e83a337e2c9"
      },
      "source": [
        "print(percent_error(predicted_stock_price_stacked_LSTM[20],test_set[20]), \"%\")"
      ],
      "execution_count": 255,
      "outputs": [
        {
          "output_type": "stream",
          "text": [
            "4 %\n"
          ],
          "name": "stdout"
        }
      ]
    },
    {
      "cell_type": "code",
      "metadata": {
        "colab": {
          "base_uri": "https://localhost:8080/"
        },
        "id": "hPboD-GB_cVY",
        "outputId": "8503036b-8886-4075-889d-a2a20a967626"
      },
      "source": [
        "print(percent_error(predicted_stock_price_stacked_LSTM[50],test_set[50]), \"%\")"
      ],
      "execution_count": 256,
      "outputs": [
        {
          "output_type": "stream",
          "text": [
            "8 %\n"
          ],
          "name": "stdout"
        }
      ]
    },
    {
      "cell_type": "code",
      "metadata": {
        "id": "qESyki8DDq00",
        "colab": {
          "base_uri": "https://localhost:8080/"
        },
        "outputId": "e16f38c3-e6f9-444d-b44c-4fb09d2c1857"
      },
      "source": [
        "c = [abs(i-j)/i*100 for i,j in zip(predicted_stock_price_stacked_LSTM, test_set)]\n",
        "(sum(c)/len(c))[0]"
      ],
      "execution_count": 257,
      "outputs": [
        {
          "output_type": "execute_result",
          "data": {
            "text/plain": [
              "6.217397044712571"
            ]
          },
          "metadata": {
            "tags": []
          },
          "execution_count": 257
        }
      ]
    },
    {
      "cell_type": "markdown",
      "metadata": {
        "id": "Yz0AeqtD2kNm"
      },
      "source": [
        "### **2.Below are simulations with different time steps, all stacked LSTMs**\n"
      ]
    },
    {
      "cell_type": "markdown",
      "metadata": {
        "id": "16bvPbvr2HR1"
      },
      "source": [
        "* 30 time steps loss: .00057642\n",
        "* 30 time steps accuracy: 8.2%\n",
        "* 60 time steps loss: .00065546\n",
        "* 60 time steps accuracy: 6.2%\n",
        "* 90 time steps loss: .0008824\n",
        "* 90 time steps accuracy: 3.9%\n"
      ]
    },
    {
      "cell_type": "code",
      "metadata": {
        "id": "vOamk5D1yK-D"
      },
      "source": [
        "X_train = [] # empty list that will be populated with the 60 previous stock prices and the next one\n",
        "y_train = [] \n",
        "for i in range(30, 2768): #len(train_set) # need to start at the 60th \n",
        "  X_train.append(train_set_scaled[i-30:i, 0])\n",
        "  y_train.append(train_set_scaled[i,0])\n",
        "X_train = np.array(X_train)\n",
        "y_train = np.array(y_train)\n",
        "\n",
        "X_train = np.reshape(X_train, (X_train.shape[0], X_train.shape[1],1))\n",
        "\n",
        "data_set_total = pd.concat((data_train['Open'], data_test['Open']), axis = 0)\n",
        "\n",
        "inputs = data_set_total[len(data_set_total) - len(data_test) - 30:].values # using the previous 60 days to predict the 61st day\n",
        "inputs = inputs.reshape(-1,1)\n",
        "inputs = sc.transform(inputs) # rnn is expecting this format\n",
        "X_test = []\n",
        "for i in range(30, 132): # 30 previous inputs + length of data_test (was 162 when 60)\n",
        "  X_test.append(inputs[i-30:i, 0])\n",
        "X_test = np.array(X_test)\n",
        "X_test = np.reshape(X_test, (X_test.shape[0], X_test.shape[1], 1)) # 3D structure for input"
      ],
      "execution_count": 258,
      "outputs": []
    },
    {
      "cell_type": "code",
      "metadata": {
        "id": "SkecDwM0237f"
      },
      "source": [
        "model_stacked_LSTM_30 = Sequential()\n",
        "model_stacked_LSTM_30.add(LSTM(units = neurons, return_sequences = True, input_shape = (X_train.shape[1], 1)))\n",
        "model_stacked_LSTM_30.add(Dropout(dropout))\n",
        "model_stacked_LSTM_30.add(LSTM(units = neurons, return_sequences = True))\n",
        "model_stacked_LSTM_30.add(Dropout(dropout))\n",
        "model_stacked_LSTM_30.add(LSTM(units = neurons, return_sequences = True))\n",
        "model_stacked_LSTM_30.add(Dropout(dropout))\n",
        "model_stacked_LSTM_30.add(LSTM(units = neurons))\n",
        "model_stacked_LSTM_30.add(Dropout(dropout))\n",
        "model_stacked_LSTM_30.add(Dense(1))"
      ],
      "execution_count": 259,
      "outputs": []
    },
    {
      "cell_type": "code",
      "metadata": {
        "id": "e7950gCt3BWw"
      },
      "source": [
        "model_stacked_LSTM_30.compile(optimizer = optimizer, loss = loss)"
      ],
      "execution_count": 260,
      "outputs": []
    },
    {
      "cell_type": "code",
      "metadata": {
        "colab": {
          "base_uri": "https://localhost:8080/"
        },
        "id": "utva_AeR3Dc2",
        "outputId": "e3fb134f-3406-46e8-9521-7cbdb4115ab1"
      },
      "source": [
        "model_stacked_LSTM_30.fit(X_train, y_train, epochs = epochs, batch_size = batch_size)"
      ],
      "execution_count": 261,
      "outputs": [
        {
          "output_type": "stream",
          "text": [
            "Epoch 1/16\n",
            "86/86 [==============================] - 18s 136ms/step - loss: 0.0156\n",
            "Epoch 2/16\n",
            "86/86 [==============================] - 12s 138ms/step - loss: 0.0014\n",
            "Epoch 3/16\n",
            "86/86 [==============================] - 12s 134ms/step - loss: 0.0014\n",
            "Epoch 4/16\n",
            "86/86 [==============================] - 12s 135ms/step - loss: 0.0011\n",
            "Epoch 5/16\n",
            "86/86 [==============================] - 12s 136ms/step - loss: 9.7377e-04\n",
            "Epoch 6/16\n",
            "86/86 [==============================] - 12s 134ms/step - loss: 9.8896e-04\n",
            "Epoch 7/16\n",
            "86/86 [==============================] - 11s 132ms/step - loss: 0.0015\n",
            "Epoch 8/16\n",
            "86/86 [==============================] - 12s 135ms/step - loss: 7.8184e-04\n",
            "Epoch 9/16\n",
            "86/86 [==============================] - 12s 137ms/step - loss: 8.7289e-04\n",
            "Epoch 10/16\n",
            "86/86 [==============================] - 12s 134ms/step - loss: 6.8362e-04\n",
            "Epoch 11/16\n",
            "86/86 [==============================] - 12s 134ms/step - loss: 0.0011\n",
            "Epoch 12/16\n",
            "86/86 [==============================] - 12s 137ms/step - loss: 9.2613e-04\n",
            "Epoch 13/16\n",
            "86/86 [==============================] - 12s 139ms/step - loss: 8.8178e-04\n",
            "Epoch 14/16\n",
            "86/86 [==============================] - 11s 133ms/step - loss: 6.0200e-04\n",
            "Epoch 15/16\n",
            "86/86 [==============================] - 12s 137ms/step - loss: 6.3884e-04\n",
            "Epoch 16/16\n",
            "86/86 [==============================] - 12s 140ms/step - loss: 5.7642e-04\n"
          ],
          "name": "stdout"
        },
        {
          "output_type": "execute_result",
          "data": {
            "text/plain": [
              "<keras.callbacks.History at 0x7ffaa9284ed0>"
            ]
          },
          "metadata": {
            "tags": []
          },
          "execution_count": 261
        }
      ]
    },
    {
      "cell_type": "code",
      "metadata": {
        "id": "HmNTR9o33H-W"
      },
      "source": [
        "predicted_stock_price_stacked_LSTM_30 = model_stacked_LSTM_30.predict(X_test)\n",
        "predicted_stock_price_stacked_LSTM_30 = sc.inverse_transform(predicted_stock_price_stacked_LSTM_30) # going back from normalizing"
      ],
      "execution_count": 262,
      "outputs": []
    },
    {
      "cell_type": "code",
      "metadata": {
        "colab": {
          "base_uri": "https://localhost:8080/",
          "height": 294
        },
        "id": "-E8_Wc9E3JLj",
        "outputId": "6b5743a8-6120-44ca-b9d0-cb818abd7992"
      },
      "source": [
        "plt.plot(test_set, color = 'green', label = 'Deere Real Stock Price')\n",
        "plt.plot(predicted_stock_price_stacked_LSTM_30, color = 'blue', label = 'Deere Predicted Stock Price')\n",
        "plt.title('Stock Price Prediction LSTM Stacked 30 previous time steps')\n",
        "plt.xlabel('Time in Days')\n",
        "plt.ylabel('Stock Price')\n",
        "plt.legend()\n",
        "plt.show()"
      ],
      "execution_count": 264,
      "outputs": [
        {
          "output_type": "display_data",
          "data": {
            "image/png": "[encoded data removed]",
            "text/plain": [
              "<Figure size 432x288 with 1 Axes>"
            ]
          },
          "metadata": {
            "tags": [],
            "needs_background": "light"
          }
        }
      ]
    },
    {
      "cell_type": "code",
      "metadata": {
        "colab": {
          "base_uri": "https://localhost:8080/"
        },
        "id": "VOaWDiTU3ZII",
        "outputId": "56f456a0-d0f9-4ec1-f07b-476c23cbb8d9"
      },
      "source": [
        "print(percent_error(predicted_stock_price_stacked_LSTM_30[20],test_set[20]), \"%\")"
      ],
      "execution_count": 265,
      "outputs": [
        {
          "output_type": "stream",
          "text": [
            "9 %\n"
          ],
          "name": "stdout"
        }
      ]
    },
    {
      "cell_type": "code",
      "metadata": {
        "colab": {
          "base_uri": "https://localhost:8080/"
        },
        "id": "j4LNtOTm3avG",
        "outputId": "8bb3fcd6-cb62-4914-ba76-e9ee97ee8dae"
      },
      "source": [
        "print(percent_error(predicted_stock_price_stacked_LSTM_30[50],test_set[50]), \"%\")"
      ],
      "execution_count": 266,
      "outputs": [
        {
          "output_type": "stream",
          "text": [
            "11 %\n"
          ],
          "name": "stdout"
        }
      ]
    },
    {
      "cell_type": "code",
      "metadata": {
        "colab": {
          "base_uri": "https://localhost:8080/"
        },
        "id": "yO_cHv393cV-",
        "outputId": "bb9eb52f-09cd-4bda-cd1a-a7883c1a1c57"
      },
      "source": [
        "c = [abs(i-j)/i*100 for i,j in zip(predicted_stock_price_stacked_LSTM_30,test_set)]\n",
        "(sum(c)/len(c))[0]"
      ],
      "execution_count": 267,
      "outputs": [
        {
          "output_type": "execute_result",
          "data": {
            "text/plain": [
              "8.205873270461488"
            ]
          },
          "metadata": {
            "tags": []
          },
          "execution_count": 267
        }
      ]
    },
    {
      "cell_type": "markdown",
      "metadata": {
        "id": "w9R4y2BXph9p"
      },
      "source": [
        "### 90 day window"
      ]
    },
    {
      "cell_type": "code",
      "metadata": {
        "id": "RawamKBy5wyL"
      },
      "source": [
        "X_train = [] # empty list that will be populated with the 60 previous stock prices and the next one\n",
        "y_train = [] \n",
        "for i in range(90, 2768): #len(train_set) # need to start at the 60th \n",
        "  X_train.append(train_set_scaled[i-90:i, 0])\n",
        "  y_train.append(train_set_scaled[i,0])\n",
        "X_train = np.array(X_train)\n",
        "y_train = np.array(y_train)\n",
        "\n",
        "X_train = np.reshape(X_train, (X_train.shape[0], X_train.shape[1], 1)) # reshaping data\n",
        "\n",
        "data_set_total = pd.concat((data_train['Open'], data_test['Open']), axis = 0)\n",
        "\n",
        "\n",
        "inputs = data_set_total[len(data_set_total) - len(data_test) - 90:].values # using the previous 60 days to predict the 61st day\n",
        "inputs = inputs.reshape(-1,1)\n",
        "inputs = sc.transform(inputs) # rnn is expecting this format\n",
        "X_test = []\n",
        "for i in range(90, 192): # 90 previous inputs + length of data_test (was 162 when 60)\n",
        "  X_test.append(inputs[i-90:i, 0])\n",
        "X_test = np.array(X_test)\n",
        "X_test = np.reshape(X_test, (X_test.shape[0], X_test.shape[1], 1)) # 3D structure for input"
      ],
      "execution_count": 268,
      "outputs": []
    },
    {
      "cell_type": "code",
      "metadata": {
        "id": "z_m3YXuF50nN"
      },
      "source": [
        "model_stacked_LSTM_90 = Sequential()\n",
        "model_stacked_LSTM_90.add(LSTM(units = neurons, return_sequences = True, input_shape = (X_train.shape[1], 1)))\n",
        "model_stacked_LSTM_90.add(Dropout(dropout))\n",
        "model_stacked_LSTM_90.add(LSTM(units = neurons, return_sequences = True))\n",
        "model_stacked_LSTM_90.add(Dropout(dropout))\n",
        "model_stacked_LSTM_90.add(LSTM(units = neurons, return_sequences = True))\n",
        "model_stacked_LSTM_90.add(Dropout(dropout))\n",
        "model_stacked_LSTM_90.add(LSTM(units = neurons))\n",
        "model_stacked_LSTM_90.add(Dropout(dropout))\n",
        "model_stacked_LSTM_90.add(Dense(1))"
      ],
      "execution_count": 269,
      "outputs": []
    },
    {
      "cell_type": "code",
      "metadata": {
        "id": "suEdgefH50lD"
      },
      "source": [
        "model_stacked_LSTM_90.compile(optimizer = optimizer, loss = loss)"
      ],
      "execution_count": 270,
      "outputs": []
    },
    {
      "cell_type": "code",
      "metadata": {
        "colab": {
          "base_uri": "https://localhost:8080/"
        },
        "id": "AwT912Jx50iX",
        "outputId": "e5afb782-51e1-47d6-94fd-623fc6d76126"
      },
      "source": [
        "model_stacked_LSTM_90.fit(X_train, y_train, epochs = epochs, batch_size = batch_size)"
      ],
      "execution_count": 271,
      "outputs": [
        {
          "output_type": "stream",
          "text": [
            "Epoch 1/16\n",
            "84/84 [==============================] - 39s 374ms/step - loss: 0.0190\n",
            "Epoch 2/16\n",
            "84/84 [==============================] - 31s 374ms/step - loss: 0.0015\n",
            "Epoch 3/16\n",
            "84/84 [==============================] - 32s 377ms/step - loss: 0.0013\n",
            "Epoch 4/16\n",
            "84/84 [==============================] - 32s 376ms/step - loss: 0.0012\n",
            "Epoch 5/16\n",
            "84/84 [==============================] - 31s 373ms/step - loss: 0.0013\n",
            "Epoch 6/16\n",
            "84/84 [==============================] - 31s 372ms/step - loss: 0.0012\n",
            "Epoch 7/16\n",
            "84/84 [==============================] - 31s 372ms/step - loss: 9.3704e-04\n",
            "Epoch 8/16\n",
            "84/84 [==============================] - 31s 371ms/step - loss: 9.6120e-04\n",
            "Epoch 9/16\n",
            "84/84 [==============================] - 31s 369ms/step - loss: 9.7664e-04\n",
            "Epoch 10/16\n",
            "84/84 [==============================] - 31s 368ms/step - loss: 8.9262e-04\n",
            "Epoch 11/16\n",
            "84/84 [==============================] - 31s 367ms/step - loss: 8.0284e-04\n",
            "Epoch 12/16\n",
            "84/84 [==============================] - 31s 370ms/step - loss: 0.0010\n",
            "Epoch 13/16\n",
            "84/84 [==============================] - 31s 370ms/step - loss: 9.0639e-04\n",
            "Epoch 14/16\n",
            "84/84 [==============================] - 31s 373ms/step - loss: 6.8239e-04\n",
            "Epoch 15/16\n",
            "84/84 [==============================] - 31s 370ms/step - loss: 6.6978e-04\n",
            "Epoch 16/16\n",
            "84/84 [==============================] - 31s 369ms/step - loss: 8.8824e-04\n"
          ],
          "name": "stdout"
        },
        {
          "output_type": "execute_result",
          "data": {
            "text/plain": [
              "<keras.callbacks.History at 0x7ffaa56d5ed0>"
            ]
          },
          "metadata": {
            "tags": []
          },
          "execution_count": 271
        }
      ]
    },
    {
      "cell_type": "code",
      "metadata": {
        "id": "Z0E55aEc50dX"
      },
      "source": [
        "predicted_stock_price_stacked_LSTM_90 = model_stacked_LSTM_90.predict(X_test)\n",
        "predicted_stock_price_stacked_LSTM_90 = sc.inverse_transform(predicted_stock_price_stacked_LSTM_90) # going back from normalizing"
      ],
      "execution_count": 272,
      "outputs": []
    },
    {
      "cell_type": "code",
      "metadata": {
        "colab": {
          "base_uri": "https://localhost:8080/",
          "height": 294
        },
        "id": "7uXusT6X50Vk",
        "outputId": "16ef006e-6282-4539-8d08-937377981dbb"
      },
      "source": [
        "plt.plot(test_set, color = 'green', label = 'Deere Real Stock Price')\n",
        "plt.plot(predicted_stock_price, color = 'blue', label = 'Deere Predicted Stock Price')\n",
        "plt.title('Stock Price Prediction Stacked LSTM 90 previous time steps')\n",
        "plt.xlabel('Time in Days')\n",
        "plt.ylabel('Stock Price')\n",
        "plt.legend()\n",
        "plt.show()"
      ],
      "execution_count": 273,
      "outputs": [
        {
          "output_type": "display_data",
          "data": {
            "image/png": "[encoded data removed]",
            "text/plain": [
              "<Figure size 432x288 with 1 Axes>"
            ]
          },
          "metadata": {
            "tags": [],
            "needs_background": "light"
          }
        }
      ]
    },
    {
      "cell_type": "code",
      "metadata": {
        "colab": {
          "base_uri": "https://localhost:8080/"
        },
        "id": "tuxhvS6E9qtc",
        "outputId": "42da3278-7e04-4e5b-b49c-ff979e69dd93"
      },
      "source": [
        "c = [abs(i-j)/i*100 for i,j in zip(predicted_stock_price_stacked_LSTM_90, test_set)]\n",
        "(sum(c)/len(c))[0]"
      ],
      "execution_count": 274,
      "outputs": [
        {
          "output_type": "execute_result",
          "data": {
            "text/plain": [
              "3.9861558162951556"
            ]
          },
          "metadata": {
            "tags": []
          },
          "execution_count": 274
        }
      ]
    },
    {
      "cell_type": "markdown",
      "metadata": {
        "id": "J0pwd4YXEt9_"
      },
      "source": [
        "### Below is running a simple RNN for comparision to the stacked LSTM"
      ]
    },
    {
      "cell_type": "code",
      "metadata": {
        "id": "kimPyn23VifT"
      },
      "source": [
        "model_RNN = Sequential()\n",
        "model_RNN.add(SimpleRNN(32))\n",
        "model_RNN.add(Dense(1))"
      ],
      "execution_count": 218,
      "outputs": []
    },
    {
      "cell_type": "code",
      "metadata": {
        "id": "RCThFfhUht35"
      },
      "source": [
        "model_RNN.compile(optimizer = optimizer, loss = loss)"
      ],
      "execution_count": 219,
      "outputs": []
    },
    {
      "cell_type": "code",
      "metadata": {
        "colab": {
          "base_uri": "https://localhost:8080/"
        },
        "id": "Jmpf3r7Shr-I",
        "outputId": "7fe2d50f-8a40-4cb5-afc6-9e52b9974edf"
      },
      "source": [
        "model_RNN.fit(X_train, y_train, epochs = epochs, batch_size = batch_size)"
      ],
      "execution_count": 220,
      "outputs": [
        {
          "output_type": "stream",
          "text": [
            "Epoch 1/16\n",
            "85/85 [==============================] - 3s 9ms/step - loss: 0.0011\n",
            "Epoch 2/16\n",
            "85/85 [==============================] - 1s 9ms/step - loss: 2.4224e-04\n",
            "Epoch 3/16\n",
            "85/85 [==============================] - 1s 9ms/step - loss: 1.7278e-04\n",
            "Epoch 4/16\n",
            "85/85 [==============================] - 1s 9ms/step - loss: 1.8173e-04\n",
            "Epoch 5/16\n",
            "85/85 [==============================] - 1s 9ms/step - loss: 1.9360e-04\n",
            "Epoch 6/16\n",
            "85/85 [==============================] - 1s 9ms/step - loss: 1.7546e-04\n",
            "Epoch 7/16\n",
            "85/85 [==============================] - 1s 8ms/step - loss: 1.6526e-04\n",
            "Epoch 8/16\n",
            "85/85 [==============================] - 1s 9ms/step - loss: 1.5383e-04\n",
            "Epoch 9/16\n",
            "85/85 [==============================] - 1s 9ms/step - loss: 1.3669e-04\n",
            "Epoch 10/16\n",
            "85/85 [==============================] - 1s 9ms/step - loss: 1.6028e-04\n",
            "Epoch 11/16\n",
            "85/85 [==============================] - 1s 9ms/step - loss: 1.2184e-04\n",
            "Epoch 12/16\n",
            "85/85 [==============================] - 1s 10ms/step - loss: 1.2549e-04\n",
            "Epoch 13/16\n",
            "85/85 [==============================] - 1s 9ms/step - loss: 1.2136e-04\n",
            "Epoch 14/16\n",
            "85/85 [==============================] - 1s 9ms/step - loss: 1.1720e-04\n",
            "Epoch 15/16\n",
            "85/85 [==============================] - 1s 9ms/step - loss: 1.0618e-04\n",
            "Epoch 16/16\n",
            "85/85 [==============================] - 1s 9ms/step - loss: 1.3174e-04\n"
          ],
          "name": "stdout"
        },
        {
          "output_type": "execute_result",
          "data": {
            "text/plain": [
              "<keras.callbacks.History at 0x7ffaaceb3950>"
            ]
          },
          "metadata": {
            "tags": []
          },
          "execution_count": 220
        }
      ]
    },
    {
      "cell_type": "code",
      "metadata": {
        "id": "GTVao_L5hzIr"
      },
      "source": [
        "predicted_stock_price = model.predict(X_test)\n",
        "predicted_stock_price = sc.inverse_transform(predicted_stock_price) # going back from normalizing"
      ],
      "execution_count": 221,
      "outputs": []
    },
    {
      "cell_type": "code",
      "metadata": {
        "colab": {
          "base_uri": "https://localhost:8080/",
          "height": 294
        },
        "id": "SkQspRlriDOv",
        "outputId": "8797f9ee-ff0b-4e2d-993e-4382bb0aa220"
      },
      "source": [
        "plt.plot(test_set, color = 'green', label = 'Deere Real Stock Price')\n",
        "plt.plot(predicted_stock_price, color = 'blue', label = 'Deere Predicted Stock Price')\n",
        "plt.title('Stock Price Simple RNN 60 previous time steps')\n",
        "plt.xlabel('Time in Days')\n",
        "plt.ylabel('Stock Price')\n",
        "plt.legend()\n",
        "plt.show()"
      ],
      "execution_count": 222,
      "outputs": [
        {
          "output_type": "display_data",
          "data": {
            "image/png": "[encoded data removed]",
            "text/plain": [
              "<Figure size 432x288 with 1 Axes>"
            ]
          },
          "metadata": {
            "tags": [],
            "needs_background": "light"
          }
        }
      ]
    },
    {
      "cell_type": "code",
      "metadata": {
        "colab": {
          "base_uri": "https://localhost:8080/"
        },
        "id": "OBa_Jahbk56B",
        "outputId": "da925af7-c304-40b1-baf5-d529561f6bb6"
      },
      "source": [
        "print(percent_error(predicted_stock_price[20],test_set[20]), \"%\")"
      ],
      "execution_count": 210,
      "outputs": [
        {
          "output_type": "stream",
          "text": [
            "4 %\n"
          ],
          "name": "stdout"
        }
      ]
    },
    {
      "cell_type": "code",
      "metadata": {
        "colab": {
          "base_uri": "https://localhost:8080/"
        },
        "id": "43YHD9B9lIFk",
        "outputId": "795d6deb-ed22-4e3a-b3ec-8cf3b0524728"
      },
      "source": [
        "print(percent_error(predicted_stock_price[50],test_set[50]), \"%\")"
      ],
      "execution_count": 212,
      "outputs": [
        {
          "output_type": "stream",
          "text": [
            "8 %\n"
          ],
          "name": "stdout"
        }
      ]
    },
    {
      "cell_type": "code",
      "metadata": {
        "colab": {
          "base_uri": "https://localhost:8080/"
        },
        "id": "F7HZ9RcdjmtK",
        "outputId": "32ebe9c1-29d4-4c21-a551-2b04f8ba23e8"
      },
      "source": [
        "c = [abs(i-j)/i*100 for i,j in zip(predicted_stock_price,test_set)]\n",
        "(sum(c)/len(c))[0]"
      ],
      "execution_count": 211,
      "outputs": [
        {
          "output_type": "execute_result",
          "data": {
            "text/plain": [
              "6.217397044712571"
            ]
          },
          "metadata": {
            "tags": []
          },
          "execution_count": 211
        }
      ]
    },
    {
      "cell_type": "markdown",
      "metadata": {
        "id": "b_pbsDwnlS-S"
      },
      "source": [
        "### Below is another simple RNN but with a couple layers"
      ]
    },
    {
      "cell_type": "code",
      "metadata": {
        "id": "sxmRSGrJlDSI"
      },
      "source": [
        "model_rnn_layer = Sequential()\n",
        "model_rnn_layer.add(SimpleRNN(32, return_sequences=True))\n",
        "model_rnn_layer.add(SimpleRNN(32, return_sequences=True))\n",
        "model_rnn_layer.add(SimpleRNN(32, return_sequences=True))\n",
        "model_rnn_layer.add(SimpleRNN(32))\n",
        "model_rnn_layer.add(Dense(1))"
      ],
      "execution_count": 232,
      "outputs": []
    },
    {
      "cell_type": "code",
      "metadata": {
        "id": "tsQHAOYllcq9"
      },
      "source": [
        "model_rnn_layer.compile(optimizer = optimizer, loss = loss)"
      ],
      "execution_count": 233,
      "outputs": []
    },
    {
      "cell_type": "code",
      "metadata": {
        "colab": {
          "base_uri": "https://localhost:8080/"
        },
        "id": "q6O0j4lIlepf",
        "outputId": "4d963f5e-f451-48af-d13e-5c27aa37e0a8"
      },
      "source": [
        "model_rnn_layer.fit(X_train, y_train, epochs = epochs, batch_size = batch_size)"
      ],
      "execution_count": 234,
      "outputs": [
        {
          "output_type": "stream",
          "text": [
            "Epoch 1/16\n",
            "85/85 [==============================] - 10s 38ms/step - loss: 0.0715\n",
            "Epoch 2/16\n",
            "85/85 [==============================] - 3s 38ms/step - loss: 4.9508e-04\n",
            "Epoch 3/16\n",
            "85/85 [==============================] - 3s 41ms/step - loss: 5.5901e-04\n",
            "Epoch 4/16\n",
            "85/85 [==============================] - 3s 39ms/step - loss: 5.8406e-04\n",
            "Epoch 5/16\n",
            "85/85 [==============================] - 3s 39ms/step - loss: 3.9199e-04\n",
            "Epoch 6/16\n",
            "85/85 [==============================] - 3s 38ms/step - loss: 5.3066e-04\n",
            "Epoch 7/16\n",
            "85/85 [==============================] - 3s 41ms/step - loss: 3.8788e-04\n",
            "Epoch 8/16\n",
            "85/85 [==============================] - 3s 37ms/step - loss: 4.9658e-04\n",
            "Epoch 9/16\n",
            "85/85 [==============================] - 3s 37ms/step - loss: 3.9599e-04\n",
            "Epoch 10/16\n",
            "85/85 [==============================] - 3s 38ms/step - loss: 4.3705e-04\n",
            "Epoch 11/16\n",
            "85/85 [==============================] - 3s 38ms/step - loss: 3.1108e-04\n",
            "Epoch 12/16\n",
            "85/85 [==============================] - 3s 38ms/step - loss: 3.5957e-04\n",
            "Epoch 13/16\n",
            "85/85 [==============================] - 3s 38ms/step - loss: 3.6497e-04\n",
            "Epoch 14/16\n",
            "85/85 [==============================] - 3s 38ms/step - loss: 2.8238e-04\n",
            "Epoch 15/16\n",
            "85/85 [==============================] - 3s 39ms/step - loss: 3.1167e-04\n",
            "Epoch 16/16\n",
            "85/85 [==============================] - 3s 40ms/step - loss: 2.5745e-04\n"
          ],
          "name": "stdout"
        },
        {
          "output_type": "execute_result",
          "data": {
            "text/plain": [
              "<keras.callbacks.History at 0x7ffaac350b10>"
            ]
          },
          "metadata": {
            "tags": []
          },
          "execution_count": 234
        }
      ]
    },
    {
      "cell_type": "code",
      "metadata": {
        "id": "z4xRPwIhl4Z2"
      },
      "source": [
        "predicted_stock_price_rnn_layer = model_rnn_layer.predict(X_test)\n",
        "predicted_stock_price_rnn_layer = sc.inverse_transform(predicted_stock_price_rnn_layer) # going back from normalizing"
      ],
      "execution_count": 237,
      "outputs": []
    },
    {
      "cell_type": "code",
      "metadata": {
        "colab": {
          "base_uri": "https://localhost:8080/",
          "height": 294
        },
        "id": "G1rpALmDlgxL",
        "outputId": "e2ec8ca2-8baf-4a62-d16e-8e21b4d2e31e"
      },
      "source": [
        "plt.plot(test_set, color = 'green', label = 'Deere Real Stock Price')\n",
        "plt.plot(predicted_stock_price_rnn_layer, color = 'blue', label = 'Deere Predicted Stock Price')\n",
        "plt.title('Stock Price Layered RNN 60 previous time steps')\n",
        "plt.xlabel('Time in Days')\n",
        "plt.ylabel('Stock Price')\n",
        "plt.legend()\n",
        "plt.show()"
      ],
      "execution_count": 238,
      "outputs": [
        {
          "output_type": "display_data",
          "data": {
            "image/png": "[encoded data removed]",
            "text/plain": [
              "<Figure size 432x288 with 1 Axes>"
            ]
          },
          "metadata": {
            "tags": [],
            "needs_background": "light"
          }
        }
      ]
    },
    {
      "cell_type": "code",
      "metadata": {
        "colab": {
          "base_uri": "https://localhost:8080/"
        },
        "id": "rkudo1LtmsWn",
        "outputId": "b86b350a-7330-4aaf-fe0e-60acf1ff50c5"
      },
      "source": [
        "print(percent_error(predicted_stock_price_rnn_layer[20],test_set[20]), \"%\")"
      ],
      "execution_count": 239,
      "outputs": [
        {
          "output_type": "stream",
          "text": [
            "3 %\n"
          ],
          "name": "stdout"
        }
      ]
    },
    {
      "cell_type": "code",
      "metadata": {
        "colab": {
          "base_uri": "https://localhost:8080/"
        },
        "id": "2ggeb6mOnjF-",
        "outputId": "9d8b0e6a-14cb-4c28-9bb3-6c02ff03bc4a"
      },
      "source": [
        "model_bidirectional_LSTM = Sequential()\n",
        "model_bidirectional_LSTM.add (Bidirectional(LSTM(32, input_shape = (X_train.shape[1], 1))))\n",
        "model_bidirectional_LSTM.add(Dense(1))\n",
        "model_bidirectional_LSTM.compile(optimizer = optimizer, loss = loss)\n",
        "model_bidirectional_LSTM.fit(X_train, y_train, epochs = epochs, batch_size = batch_size)"
      ],
      "execution_count": 241,
      "outputs": [
        {
          "output_type": "stream",
          "text": [
            "Epoch 1/16\n",
            "86/86 [==============================] - 6s 16ms/step - loss: 0.0139\n",
            "Epoch 2/16\n",
            "86/86 [==============================] - 1s 15ms/step - loss: 5.9993e-04\n",
            "Epoch 3/16\n",
            "86/86 [==============================] - 1s 15ms/step - loss: 4.8910e-04\n",
            "Epoch 4/16\n",
            "86/86 [==============================] - 1s 15ms/step - loss: 4.5690e-04\n",
            "Epoch 5/16\n",
            "86/86 [==============================] - 1s 16ms/step - loss: 4.1498e-04\n",
            "Epoch 6/16\n",
            "86/86 [==============================] - 1s 15ms/step - loss: 3.0650e-04\n",
            "Epoch 7/16\n",
            "86/86 [==============================] - 1s 15ms/step - loss: 3.6597e-04\n",
            "Epoch 8/16\n",
            "86/86 [==============================] - 1s 16ms/step - loss: 3.3249e-04\n",
            "Epoch 9/16\n",
            "86/86 [==============================] - 1s 17ms/step - loss: 2.7206e-04\n",
            "Epoch 10/16\n",
            "86/86 [==============================] - 1s 17ms/step - loss: 2.5380e-04\n",
            "Epoch 11/16\n",
            "86/86 [==============================] - 1s 16ms/step - loss: 2.3072e-04\n",
            "Epoch 12/16\n",
            "86/86 [==============================] - 1s 17ms/step - loss: 2.0882e-04\n",
            "Epoch 13/16\n",
            "86/86 [==============================] - 1s 16ms/step - loss: 2.2599e-04\n",
            "Epoch 14/16\n",
            "86/86 [==============================] - 1s 15ms/step - loss: 1.9854e-04\n",
            "Epoch 15/16\n",
            "86/86 [==============================] - 1s 17ms/step - loss: 2.3814e-04\n",
            "Epoch 16/16\n",
            "86/86 [==============================] - 1s 16ms/step - loss: 2.0890e-04\n"
          ],
          "name": "stdout"
        },
        {
          "output_type": "execute_result",
          "data": {
            "text/plain": [
              "<keras.callbacks.History at 0x7ffab0e73410>"
            ]
          },
          "metadata": {
            "tags": []
          },
          "execution_count": 241
        }
      ]
    },
    {
      "cell_type": "code",
      "metadata": {
        "id": "qp-1CVHSrBnJ"
      },
      "source": [
        "predicted_stock_price_birectional_LSTM = model_bidirectional_LSTM.predict(X_test)\n",
        "predicted_stock_price_birectional_LSTM = sc.inverse_transform(predicted_stock_price_birectional_LSTM) # going back from normalizing"
      ],
      "execution_count": 242,
      "outputs": []
    },
    {
      "cell_type": "code",
      "metadata": {
        "colab": {
          "base_uri": "https://localhost:8080/",
          "height": 294
        },
        "id": "Z20m4zq1rTje",
        "outputId": "6c8eb34d-483f-4b02-bda4-9a2da062073e"
      },
      "source": [
        "plt.plot(test_set, color = 'green', label = 'Deere Real Stock Price')\n",
        "plt.plot(predicted_stock_price_birectional_LSTM, color = 'blue', label = 'Deere Predicted Stock Price')\n",
        "plt.title('Stock Price Bidirectional LSTM 60 previous time steps')\n",
        "plt.xlabel('Time in Days')\n",
        "plt.ylabel('Stock Price')\n",
        "plt.legend()\n",
        "plt.show()"
      ],
      "execution_count": 243,
      "outputs": [
        {
          "output_type": "display_data",
          "data": {
            "image/png": "[encoded data removed]",
            "text/plain": [
              "<Figure size 432x288 with 1 Axes>"
            ]
          },
          "metadata": {
            "tags": [],
            "needs_background": "light"
          }
        }
      ]
    },
    {
      "cell_type": "code",
      "metadata": {
        "id": "ApIYCz9HrbSX"
      },
      "source": [
        ""
      ],
      "execution_count": null,
      "outputs": []
    }
  ]
}