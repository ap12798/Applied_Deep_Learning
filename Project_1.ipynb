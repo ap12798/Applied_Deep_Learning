{
  "nbformat": 4,
  "nbformat_minor": 0,
  "metadata": {
    "colab": {
      "name": "Project_1.ipynb",
      "provenance": [],
      "collapsed_sections": [],
      "toc_visible": true,
      "authorship_tag": "ABX9TyOkGlu7Tlk0TJ9LlnT129wT",
      "include_colab_link": true
    },
    "kernelspec": {
      "name": "python3",
      "display_name": "Python 3"
    },
    "language_info": {
      "name": "python"
    }
  },
  "cells": [
    {
      "cell_type": "markdown",
      "metadata": {
        "id": "view-in-github",
        "colab_type": "text"
      },
      "source": [
        "<a href=\"https://colab.research.google.com/github/ap12798/Applied_Deep_Learning/blob/main/Project_1.ipynb\" target=\"_parent\"><img src=\"https://colab.research.google.com/assets/colab-badge.svg\" alt=\"Open In Colab\"/></a>"
      ]
    },
    {
      "cell_type": "markdown",
      "metadata": {
        "id": "EGDex4-BA1EE"
      },
      "source": [
        "This Applied Deep Learning Project will be to determine the stock trend of Deere (stock abrev DE) for the beginning of 2021. The notebook will make use of the library yfinance to access Deere's beginning day stock price for the past 10 years.  "
      ]
    },
    {
      "cell_type": "code",
      "metadata": {
        "id": "MvM4LJuDWP9Q",
        "colab": {
          "base_uri": "https://localhost:8080/"
        },
        "outputId": "db83e01f-1275-40a1-c136-8b960b0b6c06"
      },
      "source": [
        "!pip install yfinance"
      ],
      "execution_count": 1,
      "outputs": [
        {
          "output_type": "stream",
          "text": [
            "Collecting yfinance\n",
            "  Downloading yfinance-0.1.63.tar.gz (26 kB)\n",
            "Requirement already satisfied: pandas>=0.24 in /usr/local/lib/python3.7/dist-packages (from yfinance) (1.1.5)\n",
            "Requirement already satisfied: numpy>=1.15 in /usr/local/lib/python3.7/dist-packages (from yfinance) (1.19.5)\n",
            "Requirement already satisfied: requests>=2.20 in /usr/local/lib/python3.7/dist-packages (from yfinance) (2.23.0)\n",
            "Requirement already satisfied: multitasking>=0.0.7 in /usr/local/lib/python3.7/dist-packages (from yfinance) (0.0.9)\n",
            "Collecting lxml>=4.5.1\n",
            "  Downloading lxml-4.6.3-cp37-cp37m-manylinux2014_x86_64.whl (6.3 MB)\n",
            "\u001b[K     |████████████████████████████████| 6.3 MB 21.8 MB/s \n",
            "\u001b[?25hRequirement already satisfied: python-dateutil>=2.7.3 in /usr/local/lib/python3.7/dist-packages (from pandas>=0.24->yfinance) (2.8.1)\n",
            "Requirement already satisfied: pytz>=2017.2 in /usr/local/lib/python3.7/dist-packages (from pandas>=0.24->yfinance) (2018.9)\n",
            "Requirement already satisfied: six>=1.5 in /usr/local/lib/python3.7/dist-packages (from python-dateutil>=2.7.3->pandas>=0.24->yfinance) (1.15.0)\n",
            "Requirement already satisfied: urllib3!=1.25.0,!=1.25.1,<1.26,>=1.21.1 in /usr/local/lib/python3.7/dist-packages (from requests>=2.20->yfinance) (1.24.3)\n",
            "Requirement already satisfied: idna<3,>=2.5 in /usr/local/lib/python3.7/dist-packages (from requests>=2.20->yfinance) (2.10)\n",
            "Requirement already satisfied: certifi>=2017.4.17 in /usr/local/lib/python3.7/dist-packages (from requests>=2.20->yfinance) (2021.5.30)\n",
            "Requirement already satisfied: chardet<4,>=3.0.2 in /usr/local/lib/python3.7/dist-packages (from requests>=2.20->yfinance) (3.0.4)\n",
            "Building wheels for collected packages: yfinance\n",
            "  Building wheel for yfinance (setup.py) ... \u001b[?25l\u001b[?25hdone\n",
            "  Created wheel for yfinance: filename=yfinance-0.1.63-py2.py3-none-any.whl size=23919 sha256=87851a602c2af7b915094cd64b46f6f4ec3903162f0c3a78534be62485111529\n",
            "  Stored in directory: /root/.cache/pip/wheels/fe/87/8b/7ec24486e001d3926537f5f7801f57a74d181be25b11157983\n",
            "Successfully built yfinance\n",
            "Installing collected packages: lxml, yfinance\n",
            "  Attempting uninstall: lxml\n",
            "    Found existing installation: lxml 4.2.6\n",
            "    Uninstalling lxml-4.2.6:\n",
            "      Successfully uninstalled lxml-4.2.6\n",
            "Successfully installed lxml-4.6.3 yfinance-0.1.63\n"
          ],
          "name": "stdout"
        }
      ]
    },
    {
      "cell_type": "code",
      "metadata": {
        "id": "8iMqkH9_mFUU"
      },
      "source": [
        "import numpy as np\n",
        "import matplotlib.pyplot as plt\n",
        "import pandas as pd\n",
        "import datetime\n",
        "import time\n",
        "import yfinance as yf"
      ],
      "execution_count": 3,
      "outputs": []
    },
    {
      "cell_type": "code",
      "metadata": {
        "colab": {
          "base_uri": "https://localhost:8080/"
        },
        "id": "gF90oH2ems-e",
        "outputId": "ef75e2e7-3700-4040-d51a-9e00a46b2277"
      },
      "source": [
        "data_train = yf.download(\"DE\", start=\"2010-01-01\", end=\"2020-12-31\") # defaults to one price per day\n",
        "data_test = yf.download(\"DE\", start=\"2021-01-01\", end=\"2021-05-31\")"
      ],
      "execution_count": 4,
      "outputs": [
        {
          "output_type": "stream",
          "text": [
            "[*********************100%***********************]  1 of 1 completed\n",
            "[*********************100%***********************]  1 of 1 completed\n"
          ],
          "name": "stdout"
        }
      ]
    },
    {
      "cell_type": "code",
      "metadata": {
        "colab": {
          "base_uri": "https://localhost:8080/",
          "height": 235
        },
        "id": "Zu0K_GQrEQih",
        "outputId": "6ef83946-dc52-4f26-b01b-c0c86128d876"
      },
      "source": [
        "data_train.head()"
      ],
      "execution_count": 45,
      "outputs": [
        {
          "output_type": "execute_result",
          "data": {
            "text/html": [
              "<div>\n",
              "<style scoped>\n",
              "    .dataframe tbody tr th:only-of-type {\n",
              "        vertical-align: middle;\n",
              "    }\n",
              "\n",
              "    .dataframe tbody tr th {\n",
              "        vertical-align: top;\n",
              "    }\n",
              "\n",
              "    .dataframe thead th {\n",
              "        text-align: right;\n",
              "    }\n",
              "</style>\n",
              "<table border=\"1\" class=\"dataframe\">\n",
              "  <thead>\n",
              "    <tr style=\"text-align: right;\">\n",
              "      <th></th>\n",
              "      <th>Open</th>\n",
              "      <th>High</th>\n",
              "      <th>Low</th>\n",
              "      <th>Close</th>\n",
              "      <th>Adj Close</th>\n",
              "      <th>Volume</th>\n",
              "    </tr>\n",
              "    <tr>\n",
              "      <th>Date</th>\n",
              "      <th></th>\n",
              "      <th></th>\n",
              "      <th></th>\n",
              "      <th></th>\n",
              "      <th></th>\n",
              "      <th></th>\n",
              "    </tr>\n",
              "  </thead>\n",
              "  <tbody>\n",
              "    <tr>\n",
              "      <th>2010-01-04</th>\n",
              "      <td>54.740002</td>\n",
              "      <td>56.200001</td>\n",
              "      <td>54.340000</td>\n",
              "      <td>56.060001</td>\n",
              "      <td>43.838268</td>\n",
              "      <td>3974600</td>\n",
              "    </tr>\n",
              "    <tr>\n",
              "      <th>2010-01-05</th>\n",
              "      <td>56.189999</td>\n",
              "      <td>56.560001</td>\n",
              "      <td>55.599998</td>\n",
              "      <td>55.849998</td>\n",
              "      <td>43.674049</td>\n",
              "      <td>3007400</td>\n",
              "    </tr>\n",
              "    <tr>\n",
              "      <th>2010-01-06</th>\n",
              "      <td>55.570000</td>\n",
              "      <td>56.040001</td>\n",
              "      <td>55.220001</td>\n",
              "      <td>55.700001</td>\n",
              "      <td>43.556759</td>\n",
              "      <td>2854500</td>\n",
              "    </tr>\n",
              "    <tr>\n",
              "      <th>2010-01-07</th>\n",
              "      <td>55.380001</td>\n",
              "      <td>56.130001</td>\n",
              "      <td>55.169998</td>\n",
              "      <td>56.099998</td>\n",
              "      <td>43.869537</td>\n",
              "      <td>2694000</td>\n",
              "    </tr>\n",
              "    <tr>\n",
              "      <th>2010-01-08</th>\n",
              "      <td>55.779999</td>\n",
              "      <td>57.750000</td>\n",
              "      <td>55.299999</td>\n",
              "      <td>57.630001</td>\n",
              "      <td>45.065994</td>\n",
              "      <td>4165500</td>\n",
              "    </tr>\n",
              "  </tbody>\n",
              "</table>\n",
              "</div>"
            ],
            "text/plain": [
              "                 Open       High        Low      Close  Adj Close   Volume\n",
              "Date                                                                      \n",
              "2010-01-04  54.740002  56.200001  54.340000  56.060001  43.838268  3974600\n",
              "2010-01-05  56.189999  56.560001  55.599998  55.849998  43.674049  3007400\n",
              "2010-01-06  55.570000  56.040001  55.220001  55.700001  43.556759  2854500\n",
              "2010-01-07  55.380001  56.130001  55.169998  56.099998  43.869537  2694000\n",
              "2010-01-08  55.779999  57.750000  55.299999  57.630001  45.065994  4165500"
            ]
          },
          "metadata": {
            "tags": []
          },
          "execution_count": 45
        }
      ]
    },
    {
      "cell_type": "code",
      "metadata": {
        "colab": {
          "base_uri": "https://localhost:8080/"
        },
        "id": "HkNuTfEjsRth",
        "outputId": "397c6643-deb6-4c14-b671-192ecbb27298"
      },
      "source": [
        "data_train.shape, data_test.shape"
      ],
      "execution_count": 5,
      "outputs": [
        {
          "output_type": "execute_result",
          "data": {
            "text/plain": [
              "((2768, 6), (102, 6))"
            ]
          },
          "metadata": {
            "tags": []
          },
          "execution_count": 5
        }
      ]
    },
    {
      "cell_type": "code",
      "metadata": {
        "id": "c5Ftj4RPvt4a"
      },
      "source": [
        "train_set = data_train.iloc[:, 1:2].values #grabbing just the stock open price\n",
        "test_set = data_test.iloc[:, 1:2].values"
      ],
      "execution_count": 6,
      "outputs": []
    },
    {
      "cell_type": "code",
      "metadata": {
        "colab": {
          "base_uri": "https://localhost:8080/"
        },
        "id": "WT62QzTkEEbK",
        "outputId": "b6d04f29-15e4-4477-80e3-44d25e145846"
      },
      "source": [
        "train_set"
      ],
      "execution_count": 44,
      "outputs": [
        {
          "output_type": "execute_result",
          "data": {
            "text/plain": [
              "array([[ 56.20000076],\n",
              "       [ 56.56000137],\n",
              "       [ 56.04000092],\n",
              "       ...,\n",
              "       [273.55999756],\n",
              "       [269.54000854],\n",
              "       [268.35998535]])"
            ]
          },
          "metadata": {
            "tags": []
          },
          "execution_count": 44
        }
      ]
    },
    {
      "cell_type": "code",
      "metadata": {
        "colab": {
          "base_uri": "https://localhost:8080/"
        },
        "id": "fjPwETU3wje9",
        "outputId": "219bb0ae-99ec-48a2-def6-afc97586faef"
      },
      "source": [
        "train_set.shape, test_set.shape"
      ],
      "execution_count": 7,
      "outputs": [
        {
          "output_type": "execute_result",
          "data": {
            "text/plain": [
              "((2768, 1), (102, 1))"
            ]
          },
          "metadata": {
            "tags": []
          },
          "execution_count": 7
        }
      ]
    },
    {
      "cell_type": "code",
      "metadata": {
        "colab": {
          "base_uri": "https://localhost:8080/"
        },
        "id": "JQsBbeiEwqFA",
        "outputId": "600a2aac-036b-4b8d-8e92-131348e797d0"
      },
      "source": [
        "train_set"
      ],
      "execution_count": 8,
      "outputs": [
        {
          "output_type": "execute_result",
          "data": {
            "text/plain": [
              "array([[ 56.20000076],\n",
              "       [ 56.56000137],\n",
              "       [ 56.04000092],\n",
              "       ...,\n",
              "       [273.55999756],\n",
              "       [269.54000854],\n",
              "       [268.35998535]])"
            ]
          },
          "metadata": {
            "tags": []
          },
          "execution_count": 8
        }
      ]
    },
    {
      "cell_type": "code",
      "metadata": {
        "id": "8vrW6LLZwxWU"
      },
      "source": [
        "# normalizing the test data\n",
        "from sklearn.preprocessing import MinMaxScaler\n",
        "sc = MinMaxScaler()\n",
        "train_set_scaled = sc.fit_transform(train_set)"
      ],
      "execution_count": 9,
      "outputs": []
    },
    {
      "cell_type": "code",
      "metadata": {
        "id": "DOCFkm4abi76",
        "colab": {
          "base_uri": "https://localhost:8080/"
        },
        "outputId": "c0f35789-a5a6-4a92-c367-0eb24ede576a"
      },
      "source": [
        "train_set_scaled"
      ],
      "execution_count": 10,
      "outputs": [
        {
          "output_type": "execute_result",
          "data": {
            "text/plain": [
              "array([[0.02699316],\n",
              "       [0.0286047 ],\n",
              "       [0.02627693],\n",
              "       ...,\n",
              "       [1.        ],\n",
              "       [0.98200462],\n",
              "       [0.97672227]])"
            ]
          },
          "metadata": {
            "tags": []
          },
          "execution_count": 10
        }
      ]
    },
    {
      "cell_type": "code",
      "metadata": {
        "id": "WafMBykWUTRt"
      },
      "source": [
        "# timestep of 60 and 1 output, so using the previous 60 days to help understand what happens the 61st day"
      ],
      "execution_count": null,
      "outputs": []
    },
    {
      "cell_type": "code",
      "metadata": {
        "id": "7NJkKA3hVDTV"
      },
      "source": [
        "X_train = []\n",
        "y_train = []\n",
        "for i in range(60, 2768):\n",
        "  X_train.append(train_set_scaled[i-60:i, 0])\n",
        "  y_train.append(train_set_scaled[i,0])\n",
        "X_train = np.array(X_train)\n",
        "y_train = np.array(y_train)"
      ],
      "execution_count": 11,
      "outputs": []
    },
    {
      "cell_type": "code",
      "metadata": {
        "colab": {
          "base_uri": "https://localhost:8080/"
        },
        "id": "Of78Pk-vWKDP",
        "outputId": "9f739224-f25d-48c5-86e1-dc5cd8450f8c"
      },
      "source": [
        "# reshaping the data\n",
        "X_train.shape"
      ],
      "execution_count": 12,
      "outputs": [
        {
          "output_type": "execute_result",
          "data": {
            "text/plain": [
              "(2708, 60)"
            ]
          },
          "metadata": {
            "tags": []
          },
          "execution_count": 12
        }
      ]
    },
    {
      "cell_type": "code",
      "metadata": {
        "id": "h4cnGTeDXdos"
      },
      "source": [
        "X_train = np.reshape(X_train, (X_train.shape[0], X_train.shape[1],1))"
      ],
      "execution_count": 13,
      "outputs": []
    },
    {
      "cell_type": "code",
      "metadata": {
        "colab": {
          "base_uri": "https://localhost:8080/"
        },
        "id": "UYo7EBEYZsLz",
        "outputId": "4b9924fe-a672-42da-f1f8-259d61364aa5"
      },
      "source": [
        "X_train.shape"
      ],
      "execution_count": null,
      "outputs": [
        {
          "output_type": "execute_result",
          "data": {
            "text/plain": [
              "(2708, 60, 1)"
            ]
          },
          "metadata": {
            "tags": []
          },
          "execution_count": 16
        }
      ]
    },
    {
      "cell_type": "code",
      "metadata": {
        "id": "C77SUpbpZthu"
      },
      "source": [
        "from keras.models import Sequential\n",
        "from keras.layers import Dense\n",
        "from keras.layers import LSTM\n",
        "from keras.layers import Dropout"
      ],
      "execution_count": 14,
      "outputs": []
    },
    {
      "cell_type": "code",
      "metadata": {
        "id": "ANS4EFJZ2yqi"
      },
      "source": [
        "# hyperparameters\n",
        "dropout = 0.2\n",
        "neurons = 128\n",
        "epochs = 16 # tried 50 and mean square error didn't do much after 16\n",
        "batch_size = 32\n",
        "optimizer = 'adam'\n",
        "loss = 'mean_squared_error'"
      ],
      "execution_count": 30,
      "outputs": []
    },
    {
      "cell_type": "code",
      "metadata": {
        "id": "EwHbR2WacDtX"
      },
      "source": [
        "model = Sequential()\n",
        "model.add(LSTM(units = neurons, return_sequences = True, input_shape = (X_train.shape[1], 1)))\n",
        "# model.add(LSTM(X_train.shape[2],input_shape = (X_train.shape[1],X_train.shape[2]),return_sequences = True,\n",
        "                   # activation = 'relu')) for multivariate\n",
        "model.add(Dropout(dropout))\n",
        "model.add(LSTM(units = neurons, return_sequences = True))\n",
        "model.add(Dropout(dropout))\n",
        "model.add(LSTM(units = neurons, return_sequences = True))\n",
        "model.add(Dropout(dropout))\n",
        "model.add(LSTM(units = neurons))\n",
        "model.add(Dropout(dropout))\n",
        "model.add(Dense(1))"
      ],
      "execution_count": 31,
      "outputs": []
    },
    {
      "cell_type": "code",
      "metadata": {
        "id": "v1W3_lkua7LO"
      },
      "source": [
        "model.compile(optimizer = optimizer, loss = loss)"
      ],
      "execution_count": 32,
      "outputs": []
    },
    {
      "cell_type": "code",
      "metadata": {
        "colab": {
          "base_uri": "https://localhost:8080/"
        },
        "id": "jH3vboUubOGV",
        "outputId": "175a4139-3c1b-4338-ad98-9a624ec05bec"
      },
      "source": [
        "model.fit(X_train, y_train, epochs = epochs, batch_size = batch_size)"
      ],
      "execution_count": 33,
      "outputs": [
        {
          "output_type": "stream",
          "text": [
            "Epoch 1/16\n",
            "85/85 [==============================] - 23s 204ms/step - loss: 0.0187\n",
            "Epoch 2/16\n",
            "85/85 [==============================] - 17s 204ms/step - loss: 0.0014\n",
            "Epoch 3/16\n",
            "85/85 [==============================] - 17s 201ms/step - loss: 0.0012\n",
            "Epoch 4/16\n",
            "85/85 [==============================] - 18s 207ms/step - loss: 0.0014\n",
            "Epoch 5/16\n",
            "85/85 [==============================] - 17s 205ms/step - loss: 0.0012\n",
            "Epoch 6/16\n",
            "85/85 [==============================] - 17s 205ms/step - loss: 0.0011\n",
            "Epoch 7/16\n",
            "85/85 [==============================] - 18s 207ms/step - loss: 0.0011\n",
            "Epoch 8/16\n",
            "85/85 [==============================] - 17s 205ms/step - loss: 8.0567e-04\n",
            "Epoch 9/16\n",
            "85/85 [==============================] - 17s 203ms/step - loss: 9.4615e-04\n",
            "Epoch 10/16\n",
            "85/85 [==============================] - 17s 203ms/step - loss: 0.0010\n",
            "Epoch 11/16\n",
            "85/85 [==============================] - 17s 205ms/step - loss: 8.3805e-04\n",
            "Epoch 12/16\n",
            "85/85 [==============================] - 18s 209ms/step - loss: 7.6408e-04\n",
            "Epoch 13/16\n",
            "85/85 [==============================] - 17s 204ms/step - loss: 6.9109e-04\n",
            "Epoch 14/16\n",
            "85/85 [==============================] - 17s 203ms/step - loss: 6.2565e-04\n",
            "Epoch 15/16\n",
            "85/85 [==============================] - 17s 202ms/step - loss: 7.9028e-04\n",
            "Epoch 16/16\n",
            "85/85 [==============================] - 17s 205ms/step - loss: 6.4474e-04\n"
          ],
          "name": "stdout"
        },
        {
          "output_type": "execute_result",
          "data": {
            "text/plain": [
              "<keras.callbacks.History at 0x7fc55c916c50>"
            ]
          },
          "metadata": {
            "tags": []
          },
          "execution_count": 33
        }
      ]
    },
    {
      "cell_type": "code",
      "metadata": {
        "id": "yio9NxK3eSIn"
      },
      "source": [
        "# need to get roughly 3 months (20 per month) 60 previous stock prices from the original data\n",
        "# data_set_total = yf.download(\"DE\", start = \"2010-01-01\", end = \"2021-05-31\")\n",
        "# data_set_total = data_set_total['Open']\n",
        "\n",
        "data_set_total = pd.concat((data_train['Open'], data_test['Open']), axis = 0)"
      ],
      "execution_count": 34,
      "outputs": []
    },
    {
      "cell_type": "code",
      "metadata": {
        "colab": {
          "base_uri": "https://localhost:8080/"
        },
        "id": "6eL8456_gs2F",
        "outputId": "bab70c41-5a5d-4b7c-aace-6cd3b826be56"
      },
      "source": [
        "data_test.shape"
      ],
      "execution_count": 35,
      "outputs": [
        {
          "output_type": "execute_result",
          "data": {
            "text/plain": [
              "(102, 6)"
            ]
          },
          "metadata": {
            "tags": []
          },
          "execution_count": 35
        }
      ]
    },
    {
      "cell_type": "code",
      "metadata": {
        "id": "TkalYGIAfi3n"
      },
      "source": [
        "inputs = data_set_total[len(data_set_total) - len(data_test) - 60:].values # using the previous 60 days to predict the 61st day\n",
        "inputs = inputs.reshape(-1,1)\n",
        "inputs = sc.transform(inputs) # rnn is expecting this format\n",
        "X_test = []\n",
        "for i in range(60, 162): # 60 previous inputs + length of data_test\n",
        "  X_test.append(inputs[i-60:i, 0])\n",
        "X_test = np.array(X_test)\n",
        "X_test = np.reshape(X_test, (X_test.shape[0], X_test.shape[1], 1)) # 3D structure for input"
      ],
      "execution_count": 36,
      "outputs": []
    },
    {
      "cell_type": "code",
      "metadata": {
        "id": "vZY1EyroimFn"
      },
      "source": [
        "predicted_stock_price = model.predict(X_test)\n",
        "predicted_stock_price = sc.inverse_transform(predicted_stock_price) # going back from normalizing"
      ],
      "execution_count": 37,
      "outputs": []
    },
    {
      "cell_type": "code",
      "metadata": {
        "colab": {
          "base_uri": "https://localhost:8080/"
        },
        "id": "bsAwux0Yi7F4",
        "outputId": "481c5218-b1aa-4bde-f402-6eadc80fd633"
      },
      "source": [
        "predicted_stock_price.shape"
      ],
      "execution_count": 38,
      "outputs": [
        {
          "output_type": "execute_result",
          "data": {
            "text/plain": [
              "(102, 1)"
            ]
          },
          "metadata": {
            "tags": []
          },
          "execution_count": 38
        }
      ]
    },
    {
      "cell_type": "code",
      "metadata": {
        "id": "6SFDZwYOGrqm"
      },
      "source": [
        "test_set"
      ],
      "execution_count": null,
      "outputs": []
    },
    {
      "cell_type": "code",
      "metadata": {
        "colab": {
          "base_uri": "https://localhost:8080/"
        },
        "id": "ryv3ZRCSl17v",
        "outputId": "67538d0d-17b1-4ab6-d0b9-dc5656c289d3"
      },
      "source": [
        "data_test.shape"
      ],
      "execution_count": 24,
      "outputs": [
        {
          "output_type": "execute_result",
          "data": {
            "text/plain": [
              "(102, 6)"
            ]
          },
          "metadata": {
            "tags": []
          },
          "execution_count": 24
        }
      ]
    },
    {
      "cell_type": "code",
      "metadata": {
        "colab": {
          "base_uri": "https://localhost:8080/",
          "height": 295
        },
        "id": "ImHMM0iei9SN",
        "outputId": "07259c9c-902b-4433-bf8c-2e04664dfea9"
      },
      "source": [
        "plt.plot(test_set, color = 'green', label = 'Deere Real Stock Price')\n",
        "plt.plot(predicted_stock_price, color = 'yellow', label = 'Deere Predicted Stock Price')\n",
        "plt.title('Stock Price Prediction')\n",
        "plt.xlabel('Time in Days')\n",
        "plt.ylabel('Stock Price')\n",
        "plt.legend()\n",
        "plt.show()"
      ],
      "execution_count": 39,
      "outputs": [
        {
          "output_type": "display_data",
          "data": {
            "image/png": "[encoded data removed]",
            "text/plain": [
              "<Figure size 432x288 with 1 Axes>"
            ]
          },
          "metadata": {
            "tags": [],
            "needs_background": "light"
          }
        }
      ]
    },
    {
      "cell_type": "code",
      "metadata": {
        "id": "d16nQCT9kDRH",
        "colab": {
          "base_uri": "https://localhost:8080/"
        },
        "outputId": "14ed0d5b-b2f4-49c6-ea17-a14d690be593"
      },
      "source": [
        "predicted_stock_price[20], test_set[20] # with 64 neurons"
      ],
      "execution_count": 29,
      "outputs": [
        {
          "output_type": "execute_result",
          "data": {
            "text/plain": [
              "(array([289.62225], dtype=float32), array([304.22000122]))"
            ]
          },
          "metadata": {
            "tags": []
          },
          "execution_count": 29
        }
      ]
    },
    {
      "cell_type": "code",
      "metadata": {
        "colab": {
          "base_uri": "https://localhost:8080/"
        },
        "id": "hPboD-GB_cVY",
        "outputId": "f42cbb00-b06d-4164-c812-1c2731762402"
      },
      "source": [
        "predicted_stock_price[20], test_set[20] # with 128 neurons"
      ],
      "execution_count": 40,
      "outputs": [
        {
          "output_type": "execute_result",
          "data": {
            "text/plain": [
              "(array([302.81778], dtype=float32), array([304.22000122]))"
            ]
          },
          "metadata": {
            "tags": []
          },
          "execution_count": 40
        }
      ]
    },
    {
      "cell_type": "code",
      "metadata": {
        "colab": {
          "base_uri": "https://localhost:8080/"
        },
        "id": "bzkxwBrPCXgE",
        "outputId": "df0a3ead-7660-4e9e-f5e6-6c751d626170"
      },
      "source": [
        "predicted_stock_price[55], test_set[55] # with 128 neurons"
      ],
      "execution_count": 41,
      "outputs": [
        {
          "output_type": "execute_result",
          "data": {
            "text/plain": [
              "(array([378.5379], dtype=float32), array([368.]))"
            ]
          },
          "metadata": {
            "tags": []
          },
          "execution_count": 41
        }
      ]
    },
    {
      "cell_type": "code",
      "metadata": {
        "id": "qESyki8DDq00"
      },
      "source": [
        ""
      ],
      "execution_count": null,
      "outputs": []
    }
  ]
}