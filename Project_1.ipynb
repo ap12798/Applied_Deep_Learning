{
  "nbformat": 4,
  "nbformat_minor": 0,
  "metadata": {
    "colab": {
      "name": "Project_1.ipynb",
      "provenance": [],
      "collapsed_sections": [],
      "toc_visible": true,
      "authorship_tag": "ABX9TyOnZio9qpLhzhXvzz5+wLqk",
      "include_colab_link": true
    },
    "kernelspec": {
      "name": "python3",
      "display_name": "Python 3"
    },
    "language_info": {
      "name": "python"
    }
  },
  "cells": [
    {
      "cell_type": "markdown",
      "metadata": {
        "id": "view-in-github",
        "colab_type": "text"
      },
      "source": [
        "<a href=\"https://colab.research.google.com/github/ap12798/Applied_Deep_Learning/blob/main/Project_1.ipynb\" target=\"_parent\"><img src=\"https://colab.research.google.com/assets/colab-badge.svg\" alt=\"Open In Colab\"/></a>"
      ]
    },
    {
      "cell_type": "markdown",
      "metadata": {
        "id": "EGDex4-BA1EE"
      },
      "source": [
        "**This Applied Deep Learning Project will be to determine the stock trend of Deere (stock abrev DE) for the beginning of 2021. The notebook will make use of the library yfinance to access Deere's beginning day stock price for the past 10 years. Stacked LSTM, dropout, optimizers from**"
      ]
    },
    {
      "cell_type": "code",
      "metadata": {
        "id": "MvM4LJuDWP9Q",
        "colab": {
          "base_uri": "https://localhost:8080/"
        },
        "outputId": "5c8fcddb-2e39-4659-a21c-0665e68c51a1"
      },
      "source": [
        "!pip install yfinance"
      ],
      "execution_count": null,
      "outputs": [
        {
          "output_type": "stream",
          "text": [
            "Collecting yfinance\n",
            "  Downloading yfinance-0.1.63.tar.gz (26 kB)\n",
            "Requirement already satisfied: pandas>=0.24 in /usr/local/lib/python3.7/dist-packages (from yfinance) (1.1.5)\n",
            "Requirement already satisfied: numpy>=1.15 in /usr/local/lib/python3.7/dist-packages (from yfinance) (1.19.5)\n",
            "Requirement already satisfied: requests>=2.20 in /usr/local/lib/python3.7/dist-packages (from yfinance) (2.23.0)\n",
            "Requirement already satisfied: multitasking>=0.0.7 in /usr/local/lib/python3.7/dist-packages (from yfinance) (0.0.9)\n",
            "Collecting lxml>=4.5.1\n",
            "  Downloading lxml-4.6.3-cp37-cp37m-manylinux2014_x86_64.whl (6.3 MB)\n",
            "\u001b[K     |████████████████████████████████| 6.3 MB 7.7 MB/s \n",
            "\u001b[?25hRequirement already satisfied: pytz>=2017.2 in /usr/local/lib/python3.7/dist-packages (from pandas>=0.24->yfinance) (2018.9)\n",
            "Requirement already satisfied: python-dateutil>=2.7.3 in /usr/local/lib/python3.7/dist-packages (from pandas>=0.24->yfinance) (2.8.1)\n",
            "Requirement already satisfied: six>=1.5 in /usr/local/lib/python3.7/dist-packages (from python-dateutil>=2.7.3->pandas>=0.24->yfinance) (1.15.0)\n",
            "Requirement already satisfied: idna<3,>=2.5 in /usr/local/lib/python3.7/dist-packages (from requests>=2.20->yfinance) (2.10)\n",
            "Requirement already satisfied: certifi>=2017.4.17 in /usr/local/lib/python3.7/dist-packages (from requests>=2.20->yfinance) (2021.5.30)\n",
            "Requirement already satisfied: urllib3!=1.25.0,!=1.25.1,<1.26,>=1.21.1 in /usr/local/lib/python3.7/dist-packages (from requests>=2.20->yfinance) (1.24.3)\n",
            "Requirement already satisfied: chardet<4,>=3.0.2 in /usr/local/lib/python3.7/dist-packages (from requests>=2.20->yfinance) (3.0.4)\n",
            "Building wheels for collected packages: yfinance\n",
            "  Building wheel for yfinance (setup.py) ... \u001b[?25l\u001b[?25hdone\n",
            "  Created wheel for yfinance: filename=yfinance-0.1.63-py2.py3-none-any.whl size=23919 sha256=27864f469eb9282b0eed03ea2e9ec82ccb783192b8511d29325f4ced790f075a\n",
            "  Stored in directory: /root/.cache/pip/wheels/fe/87/8b/7ec24486e001d3926537f5f7801f57a74d181be25b11157983\n",
            "Successfully built yfinance\n",
            "Installing collected packages: lxml, yfinance\n",
            "  Attempting uninstall: lxml\n",
            "    Found existing installation: lxml 4.2.6\n",
            "    Uninstalling lxml-4.2.6:\n",
            "      Successfully uninstalled lxml-4.2.6\n",
            "Successfully installed lxml-4.6.3 yfinance-0.1.63\n"
          ],
          "name": "stdout"
        }
      ]
    },
    {
      "cell_type": "code",
      "metadata": {
        "id": "8iMqkH9_mFUU"
      },
      "source": [
        "import numpy as np\n",
        "import matplotlib.pyplot as plt\n",
        "import pandas as pd\n",
        "import datetime\n",
        "import time\n",
        "import yfinance as yf\n",
        "from sklearn.preprocessing import MinMaxScaler\n",
        "import statistics"
      ],
      "execution_count": null,
      "outputs": []
    },
    {
      "cell_type": "markdown",
      "metadata": {
        "id": "5d4vmDU3pqpx"
      },
      "source": [
        "Training Set and Test set. Test set isn't used until later."
      ]
    },
    {
      "cell_type": "code",
      "metadata": {
        "colab": {
          "base_uri": "https://localhost:8080/"
        },
        "id": "gF90oH2ems-e",
        "outputId": "234009f6-0011-422a-f006-ca544da84e32"
      },
      "source": [
        "data_train = yf.download(\"DE\", start=\"2010-01-01\", end=\"2020-12-31\") # defaults to one price per day\n",
        "data_test = yf.download(\"DE\", start=\"2021-01-01\", end=\"2021-05-31\")"
      ],
      "execution_count": null,
      "outputs": [
        {
          "output_type": "stream",
          "text": [
            "[*********************100%***********************]  1 of 1 completed\n",
            "[*********************100%***********************]  1 of 1 completed\n"
          ],
          "name": "stdout"
        }
      ]
    },
    {
      "cell_type": "markdown",
      "metadata": {
        "id": "vuLggLIIqEti"
      },
      "source": [
        "**Looking at the pandas output complete from yahoo, will trim down to just open price**"
      ]
    },
    {
      "cell_type": "code",
      "metadata": {
        "colab": {
          "base_uri": "https://localhost:8080/",
          "height": 235
        },
        "id": "Zu0K_GQrEQih",
        "outputId": "7597c5e4-604e-4b68-fabb-b02a91b00d19"
      },
      "source": [
        "data_train.head()"
      ],
      "execution_count": null,
      "outputs": [
        {
          "output_type": "execute_result",
          "data": {
            "text/html": [
              "<div>\n",
              "<style scoped>\n",
              "    .dataframe tbody tr th:only-of-type {\n",
              "        vertical-align: middle;\n",
              "    }\n",
              "\n",
              "    .dataframe tbody tr th {\n",
              "        vertical-align: top;\n",
              "    }\n",
              "\n",
              "    .dataframe thead th {\n",
              "        text-align: right;\n",
              "    }\n",
              "</style>\n",
              "<table border=\"1\" class=\"dataframe\">\n",
              "  <thead>\n",
              "    <tr style=\"text-align: right;\">\n",
              "      <th></th>\n",
              "      <th>Open</th>\n",
              "      <th>High</th>\n",
              "      <th>Low</th>\n",
              "      <th>Close</th>\n",
              "      <th>Adj Close</th>\n",
              "      <th>Volume</th>\n",
              "    </tr>\n",
              "    <tr>\n",
              "      <th>Date</th>\n",
              "      <th></th>\n",
              "      <th></th>\n",
              "      <th></th>\n",
              "      <th></th>\n",
              "      <th></th>\n",
              "      <th></th>\n",
              "    </tr>\n",
              "  </thead>\n",
              "  <tbody>\n",
              "    <tr>\n",
              "      <th>2010-01-04</th>\n",
              "      <td>54.740002</td>\n",
              "      <td>56.200001</td>\n",
              "      <td>54.340000</td>\n",
              "      <td>56.060001</td>\n",
              "      <td>43.838268</td>\n",
              "      <td>3974600</td>\n",
              "    </tr>\n",
              "    <tr>\n",
              "      <th>2010-01-05</th>\n",
              "      <td>56.189999</td>\n",
              "      <td>56.560001</td>\n",
              "      <td>55.599998</td>\n",
              "      <td>55.849998</td>\n",
              "      <td>43.674049</td>\n",
              "      <td>3007400</td>\n",
              "    </tr>\n",
              "    <tr>\n",
              "      <th>2010-01-06</th>\n",
              "      <td>55.570000</td>\n",
              "      <td>56.040001</td>\n",
              "      <td>55.220001</td>\n",
              "      <td>55.700001</td>\n",
              "      <td>43.556759</td>\n",
              "      <td>2854500</td>\n",
              "    </tr>\n",
              "    <tr>\n",
              "      <th>2010-01-07</th>\n",
              "      <td>55.380001</td>\n",
              "      <td>56.130001</td>\n",
              "      <td>55.169998</td>\n",
              "      <td>56.099998</td>\n",
              "      <td>43.869537</td>\n",
              "      <td>2694000</td>\n",
              "    </tr>\n",
              "    <tr>\n",
              "      <th>2010-01-08</th>\n",
              "      <td>55.779999</td>\n",
              "      <td>57.750000</td>\n",
              "      <td>55.299999</td>\n",
              "      <td>57.630001</td>\n",
              "      <td>45.065994</td>\n",
              "      <td>4165500</td>\n",
              "    </tr>\n",
              "  </tbody>\n",
              "</table>\n",
              "</div>"
            ],
            "text/plain": [
              "                 Open       High        Low      Close  Adj Close   Volume\n",
              "Date                                                                      \n",
              "2010-01-04  54.740002  56.200001  54.340000  56.060001  43.838268  3974600\n",
              "2010-01-05  56.189999  56.560001  55.599998  55.849998  43.674049  3007400\n",
              "2010-01-06  55.570000  56.040001  55.220001  55.700001  43.556759  2854500\n",
              "2010-01-07  55.380001  56.130001  55.169998  56.099998  43.869537  2694000\n",
              "2010-01-08  55.779999  57.750000  55.299999  57.630001  45.065994  4165500"
            ]
          },
          "metadata": {
            "tags": []
          },
          "execution_count": 110
        }
      ]
    },
    {
      "cell_type": "code",
      "metadata": {
        "colab": {
          "base_uri": "https://localhost:8080/"
        },
        "id": "HkNuTfEjsRth",
        "outputId": "624d5e90-037d-4493-a1ff-c01543b295a3"
      },
      "source": [
        "data_train.shape, data_test.shape "
      ],
      "execution_count": null,
      "outputs": [
        {
          "output_type": "execute_result",
          "data": {
            "text/plain": [
              "((2768, 6), (102, 6))"
            ]
          },
          "metadata": {
            "tags": []
          },
          "execution_count": 12
        }
      ]
    },
    {
      "cell_type": "code",
      "metadata": {
        "id": "c5Ftj4RPvt4a"
      },
      "source": [
        "train_set = data_train.iloc[:, 1:2].values # grabbing just the stock open price, iloc used to get right index for opening (creating a numpy array)\n",
        "test_set = data_test.iloc[:, 1:2].values"
      ],
      "execution_count": null,
      "outputs": []
    },
    {
      "cell_type": "code",
      "metadata": {
        "colab": {
          "base_uri": "https://localhost:8080/"
        },
        "id": "WT62QzTkEEbK",
        "outputId": "a73be496-31ff-4a54-8533-ad37fa461e32"
      },
      "source": [
        "train_set"
      ],
      "execution_count": null,
      "outputs": [
        {
          "output_type": "execute_result",
          "data": {
            "text/plain": [
              "array([[ 56.20000076],\n",
              "       [ 56.56000137],\n",
              "       [ 56.04000092],\n",
              "       ...,\n",
              "       [273.55999756],\n",
              "       [269.54000854],\n",
              "       [268.35998535]])"
            ]
          },
          "metadata": {
            "tags": []
          },
          "execution_count": 14
        }
      ]
    },
    {
      "cell_type": "code",
      "metadata": {
        "colab": {
          "base_uri": "https://localhost:8080/"
        },
        "id": "fjPwETU3wje9",
        "outputId": "d5f9afe0-8f19-423f-a223-79207398a81e"
      },
      "source": [
        "train_set.shape, test_set.shape"
      ],
      "execution_count": null,
      "outputs": [
        {
          "output_type": "execute_result",
          "data": {
            "text/plain": [
              "((2768, 1), (102, 1))"
            ]
          },
          "metadata": {
            "tags": []
          },
          "execution_count": 73
        }
      ]
    },
    {
      "cell_type": "code",
      "metadata": {
        "colab": {
          "base_uri": "https://localhost:8080/",
          "height": 312
        },
        "id": "VVrM6nANpFdn",
        "outputId": "364a7056-9a5e-4f24-d09a-4e46b90abbbf"
      },
      "source": [
        "plt.plot(train_set, color = 'green')\n",
        "plt.title('Stock Price')\n",
        "plt.xlabel('Time in Days')\n",
        "plt.ylabel('Stock Price')\n",
        "plt.legend()\n",
        "plt.show()"
      ],
      "execution_count": null,
      "outputs": [
        {
          "output_type": "stream",
          "text": [
            "No handles with labels found to put in legend.\n"
          ],
          "name": "stderr"
        },
        {
          "output_type": "display_data",
          "data": {
            "image/png": "[encoded data removed]",
            "text/plain": [
              "<Figure size 432x288 with 1 Axes>"
            ]
          },
          "metadata": {
            "tags": [],
            "needs_background": "light"
          }
        }
      ]
    },
    {
      "cell_type": "code",
      "metadata": {
        "id": "8vrW6LLZwxWU"
      },
      "source": [
        "# normalizing the test data\n",
        "sc = MinMaxScaler() # defaults to zero and one\n",
        "train_set_scaled = sc.fit_transform(train_set) # applying fit transform method to sc"
      ],
      "execution_count": null,
      "outputs": []
    },
    {
      "cell_type": "markdown",
      "metadata": {
        "id": "_1aOU3OnrSyP"
      },
      "source": [
        "**Taking a look at our new training set that is normalized from zero to one. Makes sense that the later values are closer to one after looking at the upward trend from above graph.**"
      ]
    },
    {
      "cell_type": "code",
      "metadata": {
        "id": "DOCFkm4abi76",
        "colab": {
          "base_uri": "https://localhost:8080/"
        },
        "outputId": "5cf697c0-bcec-440e-ed6f-cb87646168b0"
      },
      "source": [
        "train_set_scaled"
      ],
      "execution_count": null,
      "outputs": [
        {
          "output_type": "execute_result",
          "data": {
            "text/plain": [
              "array([[0.02699316],\n",
              "       [0.0286047 ],\n",
              "       [0.02627693],\n",
              "       ...,\n",
              "       [1.        ],\n",
              "       [0.98200462],\n",
              "       [0.97672227]])"
            ]
          },
          "metadata": {
            "tags": []
          },
          "execution_count": 76
        }
      ]
    },
    {
      "cell_type": "markdown",
      "metadata": {
        "id": "tLXw9Tf4rii8"
      },
      "source": [
        "**At each time 't' the RNN will look at the 60 previous stock prices before time 't' and time 't' and based on the trend, try to predict the best output at t+1**\n",
        "\n",
        "*Tried 30 timesteps and 90 timesteps and landed on 60 (3 months)being the best based on output**\n"
      ]
    },
    {
      "cell_type": "code",
      "metadata": {
        "colab": {
          "base_uri": "https://localhost:8080/"
        },
        "id": "DSVbl6Ertj3s",
        "outputId": "96bb7fc9-b159-4d9d-b52d-6afdfd4baafd"
      },
      "source": [
        "len(train_set)"
      ],
      "execution_count": null,
      "outputs": [
        {
          "output_type": "execute_result",
          "data": {
            "text/plain": [
              "2768"
            ]
          },
          "metadata": {
            "tags": []
          },
          "execution_count": 129
        }
      ]
    },
    {
      "cell_type": "code",
      "metadata": {
        "id": "7NJkKA3hVDTV"
      },
      "source": [
        "X_train = [] # empty list that will be populated with the 60 previous stock prices and the next one\n",
        "y_train = [] \n",
        "for i in range(60, 2768): #l en(train_set) # need to start at the 60th \n",
        "  X_train.append(train_set_scaled[i-60:i, 0]) # adding data to X_train (60 previous stock price before i'th day)\n",
        "  y_train.append(train_set_scaled[i,0]) # adding data to y_train (time at t+1) - i because indexes start at zero\n",
        "X_train = np.array(X_train) # convert list to numpy array\n",
        "y_train = np.array(y_train) # convert list to numpy array"
      ],
      "execution_count": null,
      "outputs": []
    },
    {
      "cell_type": "code",
      "metadata": {
        "colab": {
          "base_uri": "https://localhost:8080/"
        },
        "id": "Of78Pk-vWKDP",
        "outputId": "3a7fd7d4-af36-4a86-c813-a72b7ece34f0"
      },
      "source": [
        "X_train.shape"
      ],
      "execution_count": null,
      "outputs": [
        {
          "output_type": "execute_result",
          "data": {
            "text/plain": [
              "(2708, 60)"
            ]
          },
          "metadata": {
            "tags": []
          },
          "execution_count": 79
        }
      ]
    },
    {
      "cell_type": "code",
      "metadata": {
        "id": "h4cnGTeDXdos"
      },
      "source": [
        "X_train = np.reshape(X_train, (X_train.shape[0], X_train.shape[1], 1)) # reshaping data"
      ],
      "execution_count": null,
      "outputs": []
    },
    {
      "cell_type": "code",
      "metadata": {
        "colab": {
          "base_uri": "https://localhost:8080/"
        },
        "id": "UYo7EBEYZsLz",
        "outputId": "f1ad7ab6-03d2-4745-cef8-7b1dcdfe792d"
      },
      "source": [
        "X_train.shape"
      ],
      "execution_count": null,
      "outputs": [
        {
          "output_type": "execute_result",
          "data": {
            "text/plain": [
              "(2708, 60, 1)"
            ]
          },
          "metadata": {
            "tags": []
          },
          "execution_count": 81
        }
      ]
    },
    {
      "cell_type": "code",
      "metadata": {
        "id": "C77SUpbpZthu"
      },
      "source": [
        "from keras.models import Sequential\n",
        "from keras.layers import Dense\n",
        "from keras.layers import LSTM\n",
        "from keras.layers import Dropout"
      ],
      "execution_count": null,
      "outputs": []
    },
    {
      "cell_type": "code",
      "metadata": {
        "id": "ANS4EFJZ2yqi"
      },
      "source": [
        "# hyperparameters\n",
        "dropout = 0.2\n",
        "neurons = 128\n",
        "epochs = 16 # tried 50 and mean square error didn't do much after 16\n",
        "batch_size = 32\n",
        "optimizer = 'adam'\n",
        "loss = 'mean_squared_error'"
      ],
      "execution_count": null,
      "outputs": []
    },
    {
      "cell_type": "code",
      "metadata": {
        "id": "EwHbR2WacDtX"
      },
      "source": [
        "model = Sequential()\n",
        "model.add(LSTM(units = neurons, return_sequences = True, input_shape = (X_train.shape[1], 1)))\n",
        "# model.add(LSTM(X_train.shape[2],input_shape = (X_train.shape[1],X_train.shape[2]),return_sequences = True,\n",
        "                   # activation = 'relu')) for multivariate\n",
        "model.add(Dropout(dropout))\n",
        "model.add(LSTM(units = neurons, return_sequences = True))\n",
        "model.add(Dropout(dropout))\n",
        "model.add(LSTM(units = neurons, return_sequences = True))\n",
        "model.add(Dropout(dropout))\n",
        "model.add(LSTM(units = neurons))\n",
        "model.add(Dropout(dropout))\n",
        "model.add(Dense(1))"
      ],
      "execution_count": null,
      "outputs": []
    },
    {
      "cell_type": "code",
      "metadata": {
        "id": "v1W3_lkua7LO"
      },
      "source": [
        "model.compile(optimizer = optimizer, loss = loss)"
      ],
      "execution_count": null,
      "outputs": []
    },
    {
      "cell_type": "code",
      "metadata": {
        "colab": {
          "base_uri": "https://localhost:8080/"
        },
        "id": "jH3vboUubOGV",
        "outputId": "0c6d76c5-cc15-4807-d4e4-dbe82ef659df"
      },
      "source": [
        "model.fit(X_train, y_train, epochs = epochs, batch_size = batch_size)"
      ],
      "execution_count": null,
      "outputs": [
        {
          "output_type": "stream",
          "text": [
            "Epoch 1/16\n",
            "85/85 [==============================] - 32s 287ms/step - loss: 0.0237\n",
            "Epoch 2/16\n",
            "85/85 [==============================] - 24s 285ms/step - loss: 0.0012\n",
            "Epoch 3/16\n",
            "85/85 [==============================] - 24s 284ms/step - loss: 0.0016\n",
            "Epoch 4/16\n",
            "85/85 [==============================] - 24s 287ms/step - loss: 0.0013\n",
            "Epoch 5/16\n",
            "85/85 [==============================] - 24s 287ms/step - loss: 0.0011\n",
            "Epoch 6/16\n",
            "85/85 [==============================] - 25s 289ms/step - loss: 0.0012\n",
            "Epoch 7/16\n",
            "85/85 [==============================] - 25s 289ms/step - loss: 0.0011\n",
            "Epoch 8/16\n",
            "85/85 [==============================] - 24s 285ms/step - loss: 0.0011\n",
            "Epoch 9/16\n",
            "85/85 [==============================] - 25s 288ms/step - loss: 0.0012\n",
            "Epoch 10/16\n",
            "85/85 [==============================] - 24s 286ms/step - loss: 9.6589e-04\n",
            "Epoch 11/16\n",
            "85/85 [==============================] - 25s 289ms/step - loss: 0.0011\n",
            "Epoch 12/16\n",
            "85/85 [==============================] - 25s 293ms/step - loss: 9.2049e-04\n",
            "Epoch 13/16\n",
            "85/85 [==============================] - 25s 288ms/step - loss: 9.2958e-04\n",
            "Epoch 14/16\n",
            "85/85 [==============================] - 24s 287ms/step - loss: 6.6680e-04\n",
            "Epoch 15/16\n",
            "85/85 [==============================] - 24s 286ms/step - loss: 8.6820e-04\n",
            "Epoch 16/16\n",
            "85/85 [==============================] - 24s 285ms/step - loss: 7.7441e-04\n"
          ],
          "name": "stdout"
        },
        {
          "output_type": "execute_result",
          "data": {
            "text/plain": [
              "<keras.callbacks.History at 0x7f51080c5610>"
            ]
          },
          "metadata": {
            "tags": []
          },
          "execution_count": 86
        }
      ]
    },
    {
      "cell_type": "code",
      "metadata": {
        "id": "yio9NxK3eSIn"
      },
      "source": [
        "# need to get roughly 3 months (20 per month) 60 previous stock prices from the original data\n",
        "# data_set_total = yf.download(\"DE\", start = \"2010-01-01\", end = \"2021-05-31\")\n",
        "# data_set_total = data_set_total['Open']\n",
        "\n",
        "data_set_total = pd.concat((data_train['Open'], data_test['Open']), axis = 0)"
      ],
      "execution_count": null,
      "outputs": []
    },
    {
      "cell_type": "code",
      "metadata": {
        "colab": {
          "base_uri": "https://localhost:8080/"
        },
        "id": "6eL8456_gs2F",
        "outputId": "f76c7bdd-5d2e-4ad5-83d3-25ce6edf39e3"
      },
      "source": [
        "data_test.shape"
      ],
      "execution_count": null,
      "outputs": [
        {
          "output_type": "execute_result",
          "data": {
            "text/plain": [
              "(102, 6)"
            ]
          },
          "metadata": {
            "tags": []
          },
          "execution_count": 88
        }
      ]
    },
    {
      "cell_type": "code",
      "metadata": {
        "id": "TkalYGIAfi3n"
      },
      "source": [
        "inputs = data_set_total[len(data_set_total) - len(data_test) - 60:].values # using the previous 60 days to predict the 61st day\n",
        "inputs = inputs.reshape(-1,1)\n",
        "inputs = sc.transform(inputs) # rnn is expecting this format\n",
        "X_test = []\n",
        "for i in range(60, 162): # 60 previous inputs + length of data_test (was 162 when 60)\n",
        "  X_test.append(inputs[i-60:i, 0])\n",
        "X_test = np.array(X_test)\n",
        "X_test = np.reshape(X_test, (X_test.shape[0], X_test.shape[1], 1)) # 3D structure for input"
      ],
      "execution_count": null,
      "outputs": []
    },
    {
      "cell_type": "code",
      "metadata": {
        "id": "vZY1EyroimFn"
      },
      "source": [
        "predicted_stock_price = model.predict(X_test)\n",
        "predicted_stock_price = sc.inverse_transform(predicted_stock_price) # going back from normalizing"
      ],
      "execution_count": null,
      "outputs": []
    },
    {
      "cell_type": "code",
      "metadata": {
        "colab": {
          "base_uri": "https://localhost:8080/"
        },
        "id": "bsAwux0Yi7F4",
        "outputId": "7a66a41a-f5cf-45b3-c76b-fcb6a32a7bc1"
      },
      "source": [
        "predicted_stock_price.shape"
      ],
      "execution_count": null,
      "outputs": [
        {
          "output_type": "execute_result",
          "data": {
            "text/plain": [
              "(102, 1)"
            ]
          },
          "metadata": {
            "tags": []
          },
          "execution_count": 36
        }
      ]
    },
    {
      "cell_type": "code",
      "metadata": {
        "colab": {
          "base_uri": "https://localhost:8080/"
        },
        "id": "ryv3ZRCSl17v",
        "outputId": "c3cfbeac-2dd9-40de-9d64-05a2c12a7e41"
      },
      "source": [
        "data_test.shape"
      ],
      "execution_count": null,
      "outputs": [
        {
          "output_type": "execute_result",
          "data": {
            "text/plain": [
              "(102, 6)"
            ]
          },
          "metadata": {
            "tags": []
          },
          "execution_count": 93
        }
      ]
    },
    {
      "cell_type": "markdown",
      "metadata": {
        "id": "aySkuPt9paKB"
      },
      "source": [
        "Chart below shows the actual stock price in green and predicted stock price in blue. No training data is displayed here."
      ]
    },
    {
      "cell_type": "code",
      "metadata": {
        "colab": {
          "base_uri": "https://localhost:8080/",
          "height": 294
        },
        "id": "ImHMM0iei9SN",
        "outputId": "a35574f6-ed1b-402f-9e0a-76b30264c63e"
      },
      "source": [
        "plt.plot(test_set, color = 'green', label = 'Deere Real Stock Price')\n",
        "plt.plot(predicted_stock_price, color = 'blue', label = 'Deere Predicted Stock Price')\n",
        "plt.title('Stock Price Prediction 60 previous time steps')\n",
        "plt.xlabel('Time in Days')\n",
        "plt.ylabel('Stock Price')\n",
        "plt.legend()\n",
        "plt.show()"
      ],
      "execution_count": null,
      "outputs": [
        {
          "output_type": "display_data",
          "data": {
            "image/png": "[encoded data removed]",
            "text/plain": [
              "<Figure size 432x288 with 1 Axes>"
            ]
          },
          "metadata": {
            "tags": [],
            "needs_background": "light"
          }
        }
      ]
    },
    {
      "cell_type": "code",
      "metadata": {
        "id": "Ps6Jh434vkMg"
      },
      "source": [
        "# Function to calculate the percentage\n",
        "def percent_error(a, b) :\n",
        " \n",
        "    result = int(((b - a) * 100) / a)\n",
        " \n",
        "    return result"
      ],
      "execution_count": null,
      "outputs": []
    },
    {
      "cell_type": "code",
      "metadata": {
        "colab": {
          "base_uri": "https://localhost:8080/"
        },
        "id": "q1B38PFAxeiy",
        "outputId": "b3e7e3ee-795b-48aa-f82a-eb9e2c39c80a"
      },
      "source": [
        "print(percent_error(predicted_stock_price[20],test_set[20]), \"%\")"
      ],
      "execution_count": null,
      "outputs": [
        {
          "output_type": "stream",
          "text": [
            "6 %\n"
          ],
          "name": "stdout"
        }
      ]
    },
    {
      "cell_type": "code",
      "metadata": {
        "colab": {
          "base_uri": "https://localhost:8080/"
        },
        "id": "hPboD-GB_cVY",
        "outputId": "3603df8e-ca44-4b62-a263-eada142237de"
      },
      "source": [
        "print(percent_error(predicted_stock_price[50],test_set[50]), \"%\")"
      ],
      "execution_count": null,
      "outputs": [
        {
          "output_type": "stream",
          "text": [
            "9 %\n"
          ],
          "name": "stdout"
        }
      ]
    },
    {
      "cell_type": "code",
      "metadata": {
        "id": "qESyki8DDq00",
        "colab": {
          "base_uri": "https://localhost:8080/"
        },
        "outputId": "bb9809f7-0326-4ad8-ef73-f5f80b323524"
      },
      "source": [
        "c = [abs(i-j)/i*100 for i,j in zip(predicted_stock_price,test_set)]\n",
        "(sum(c)/len(c))[0]"
      ],
      "execution_count": null,
      "outputs": [
        {
          "output_type": "execute_result",
          "data": {
            "text/plain": [
              "5.824508422303811"
            ]
          },
          "metadata": {
            "tags": []
          },
          "execution_count": 102
        }
      ]
    },
    {
      "cell_type": "code",
      "metadata": {
        "id": "pUyWg5tR2CPN"
      },
      "source": [
        ""
      ],
      "execution_count": null,
      "outputs": []
    },
    {
      "cell_type": "markdown",
      "metadata": {
        "id": "Yz0AeqtD2kNm"
      },
      "source": [
        "**Below are simulations with different time steps**"
      ]
    },
    {
      "cell_type": "markdown",
      "metadata": {
        "id": "16bvPbvr2HR1"
      },
      "source": [
        "* 30 time steps loss: 6.4616e-04\n",
        "* 30 time steps accuracy: 17.2%\n",
        "* 60 time steps loss: 7.7441e-04\n",
        "* 60 time steps accuracy: 5.8%\n",
        "* 90 time steps loss: 5.6209e-04\n",
        "* 90 time steps accuracy: 8.2%\n"
      ]
    },
    {
      "cell_type": "code",
      "metadata": {
        "id": "vOamk5D1yK-D"
      },
      "source": [
        "X_train = [] # empty list that will be populated with the 60 previous stock prices and the next one\n",
        "y_train = [] \n",
        "for i in range(30, 2768): #len(train_set) # need to start at the 60th \n",
        "  X_train.append(train_set_scaled[i-30:i, 0])\n",
        "  y_train.append(train_set_scaled[i,0])\n",
        "X_train = np.array(X_train)\n",
        "y_train = np.array(y_train)"
      ],
      "execution_count": null,
      "outputs": []
    },
    {
      "cell_type": "code",
      "metadata": {
        "id": "KLSmTau720wM"
      },
      "source": [
        "X_train = np.reshape(X_train, (X_train.shape[0], X_train.shape[1],1))"
      ],
      "execution_count": null,
      "outputs": []
    },
    {
      "cell_type": "code",
      "metadata": {
        "id": "cjXOIE1y22QN"
      },
      "source": [
        "# hyperparameters\n",
        "dropout = 0.2\n",
        "neurons = 128\n",
        "epochs = 16 # tried 50 and mean square error didn't do much after 16\n",
        "batch_size = 32\n",
        "optimizer = 'adam'\n",
        "loss = 'mean_squared_error'"
      ],
      "execution_count": null,
      "outputs": []
    },
    {
      "cell_type": "code",
      "metadata": {
        "id": "SkecDwM0237f"
      },
      "source": [
        "model = Sequential()\n",
        "model.add(LSTM(units = neurons, return_sequences = True, input_shape = (X_train.shape[1], 1)))\n",
        "# model.add(LSTM(X_train.shape[2],input_shape = (X_train.shape[1],X_train.shape[2]),return_sequences = True,\n",
        "                   # activation = 'relu')) for multivariate\n",
        "model.add(Dropout(dropout))\n",
        "model.add(LSTM(units = neurons, return_sequences = True))\n",
        "model.add(Dropout(dropout))\n",
        "model.add(LSTM(units = neurons, return_sequences = True))\n",
        "model.add(Dropout(dropout))\n",
        "model.add(LSTM(units = neurons))\n",
        "model.add(Dropout(dropout))\n",
        "model.add(Dense(1))"
      ],
      "execution_count": null,
      "outputs": []
    },
    {
      "cell_type": "code",
      "metadata": {
        "id": "e7950gCt3BWw"
      },
      "source": [
        "model.compile(optimizer = optimizer, loss = loss)"
      ],
      "execution_count": null,
      "outputs": []
    },
    {
      "cell_type": "code",
      "metadata": {
        "colab": {
          "base_uri": "https://localhost:8080/"
        },
        "id": "utva_AeR3Dc2",
        "outputId": "a0bc11b7-d85a-4b28-8b34-580848ff14c0"
      },
      "source": [
        "model.fit(X_train, y_train, epochs = epochs, batch_size = batch_size)\n",
        "data_set_total = pd.concat((data_train['Open'], data_test['Open']), axis = 0)"
      ],
      "execution_count": null,
      "outputs": [
        {
          "output_type": "stream",
          "text": [
            "Epoch 1/16\n",
            "86/86 [==============================] - 21s 156ms/step - loss: 0.0148\n",
            "Epoch 2/16\n",
            "86/86 [==============================] - 13s 155ms/step - loss: 0.0012\n",
            "Epoch 3/16\n",
            "86/86 [==============================] - 13s 152ms/step - loss: 0.0014\n",
            "Epoch 4/16\n",
            "86/86 [==============================] - 13s 154ms/step - loss: 0.0022\n",
            "Epoch 5/16\n",
            "86/86 [==============================] - 13s 154ms/step - loss: 0.0012\n",
            "Epoch 6/16\n",
            "86/86 [==============================] - 14s 161ms/step - loss: 0.0012\n",
            "Epoch 7/16\n",
            "86/86 [==============================] - 13s 155ms/step - loss: 0.0013\n",
            "Epoch 8/16\n",
            "86/86 [==============================] - 13s 153ms/step - loss: 0.0011\n",
            "Epoch 9/16\n",
            "86/86 [==============================] - 13s 155ms/step - loss: 9.1952e-04\n",
            "Epoch 10/16\n",
            "86/86 [==============================] - 13s 154ms/step - loss: 7.5290e-04\n",
            "Epoch 11/16\n",
            "86/86 [==============================] - 13s 154ms/step - loss: 7.2668e-04\n",
            "Epoch 12/16\n",
            "86/86 [==============================] - 13s 155ms/step - loss: 7.8254e-04\n",
            "Epoch 13/16\n",
            "86/86 [==============================] - 13s 155ms/step - loss: 6.4409e-04\n",
            "Epoch 14/16\n",
            "86/86 [==============================] - 13s 156ms/step - loss: 6.8020e-04\n",
            "Epoch 15/16\n",
            "86/86 [==============================] - 14s 157ms/step - loss: 8.0174e-04\n",
            "Epoch 16/16\n",
            "86/86 [==============================] - 13s 154ms/step - loss: 6.4616e-04\n"
          ],
          "name": "stdout"
        }
      ]
    },
    {
      "cell_type": "code",
      "metadata": {
        "id": "eVQeN85O3GR2"
      },
      "source": [
        "inputs = data_set_total[len(data_set_total) - len(data_test) - 30:].values # using the previous 60 days to predict the 61st day\n",
        "inputs = inputs.reshape(-1,1)\n",
        "inputs = sc.transform(inputs) # rnn is expecting this format\n",
        "X_test = []\n",
        "for i in range(30, 132): # 30 previous inputs + length of data_test (was 162 when 60)\n",
        "  X_test.append(inputs[i-30:i, 0])\n",
        "X_test = np.array(X_test)\n",
        "X_test = np.reshape(X_test, (X_test.shape[0], X_test.shape[1], 1)) # 3D structure for input"
      ],
      "execution_count": null,
      "outputs": []
    },
    {
      "cell_type": "code",
      "metadata": {
        "id": "HmNTR9o33H-W"
      },
      "source": [
        "predicted_stock_price = model.predict(X_test)\n",
        "predicted_stock_price = sc.inverse_transform(predicted_stock_price) # going back from normalizing"
      ],
      "execution_count": null,
      "outputs": []
    },
    {
      "cell_type": "code",
      "metadata": {
        "colab": {
          "base_uri": "https://localhost:8080/",
          "height": 294
        },
        "id": "-E8_Wc9E3JLj",
        "outputId": "5a9d9b67-2889-4c3b-8562-c41b7898b4ba"
      },
      "source": [
        "plt.plot(test_set, color = 'green', label = 'Deere Real Stock Price')\n",
        "plt.plot(predicted_stock_price, color = 'blue', label = 'Deere Predicted Stock Price')\n",
        "plt.title('Stock Price Prediction 30 previous time steps')\n",
        "plt.xlabel('Time in Days')\n",
        "plt.ylabel('Stock Price')\n",
        "plt.legend()\n",
        "plt.show()"
      ],
      "execution_count": null,
      "outputs": [
        {
          "output_type": "display_data",
          "data": {
            "image/png": "[encoded data removed]",
            "text/plain": [
              "<Figure size 432x288 with 1 Axes>"
            ]
          },
          "metadata": {
            "tags": [],
            "needs_background": "light"
          }
        }
      ]
    },
    {
      "cell_type": "code",
      "metadata": {
        "colab": {
          "base_uri": "https://localhost:8080/"
        },
        "id": "VOaWDiTU3ZII",
        "outputId": "ab66d0c2-0e9b-42b6-fea3-e82689604cd5"
      },
      "source": [
        "print(percent_error(predicted_stock_price[20],test_set[20]), \"%\")"
      ],
      "execution_count": null,
      "outputs": [
        {
          "output_type": "stream",
          "text": [
            "19 %\n"
          ],
          "name": "stdout"
        }
      ]
    },
    {
      "cell_type": "code",
      "metadata": {
        "colab": {
          "base_uri": "https://localhost:8080/"
        },
        "id": "j4LNtOTm3avG",
        "outputId": "54f9c064-5cda-4150-e8dd-277ba9156893"
      },
      "source": [
        "print(percent_error(predicted_stock_price[50],test_set[50]), \"%\")"
      ],
      "execution_count": null,
      "outputs": [
        {
          "output_type": "stream",
          "text": [
            "32 %\n"
          ],
          "name": "stdout"
        }
      ]
    },
    {
      "cell_type": "code",
      "metadata": {
        "colab": {
          "base_uri": "https://localhost:8080/"
        },
        "id": "yO_cHv393cV-",
        "outputId": "8b53467b-9463-4a33-e047-be2cd72139a4"
      },
      "source": [
        "c = [abs(i-j)/i*100 for i,j in zip(predicted_stock_price,test_set)]\n",
        "(sum(c)/len(c))[0]"
      ],
      "execution_count": null,
      "outputs": [
        {
          "output_type": "execute_result",
          "data": {
            "text/plain": [
              "17.19789783066628"
            ]
          },
          "metadata": {
            "tags": []
          },
          "execution_count": 124
        }
      ]
    },
    {
      "cell_type": "code",
      "metadata": {
        "id": "RawamKBy5wyL"
      },
      "source": [
        "X_train = [] # empty list that will be populated with the 60 previous stock prices and the next one\n",
        "y_train = [] \n",
        "for i in range(90, 2768): #len(train_set) # need to start at the 60th \n",
        "  X_train.append(train_set_scaled[i-90:i, 0])\n",
        "  y_train.append(train_set_scaled[i,0])\n",
        "X_train = np.array(X_train)\n",
        "y_train = np.array(y_train)"
      ],
      "execution_count": null,
      "outputs": []
    },
    {
      "cell_type": "code",
      "metadata": {
        "id": "qBz5XOQ36wrF"
      },
      "source": [
        "X_train = np.reshape(X_train, (X_train.shape[0], X_train.shape[1], 1)) # reshaping data"
      ],
      "execution_count": null,
      "outputs": []
    },
    {
      "cell_type": "code",
      "metadata": {
        "id": "z_m3YXuF50nN"
      },
      "source": [
        "model = Sequential()\n",
        "model.add(LSTM(units = neurons, return_sequences = True, input_shape = (X_train.shape[1], 1)))\n",
        "# model.add(LSTM(X_train.shape[2],input_shape = (X_train.shape[1],X_train.shape[2]),return_sequences = True,\n",
        "                   # activation = 'relu')) for multivariate\n",
        "model.add(Dropout(dropout))\n",
        "model.add(LSTM(units = neurons, return_sequences = True))\n",
        "model.add(Dropout(dropout))\n",
        "model.add(LSTM(units = neurons, return_sequences = True))\n",
        "model.add(Dropout(dropout))\n",
        "model.add(LSTM(units = neurons))\n",
        "model.add(Dropout(dropout))\n",
        "model.add(Dense(1))"
      ],
      "execution_count": null,
      "outputs": []
    },
    {
      "cell_type": "code",
      "metadata": {
        "id": "suEdgefH50lD"
      },
      "source": [
        "model.compile(optimizer = optimizer, loss = loss)"
      ],
      "execution_count": null,
      "outputs": []
    },
    {
      "cell_type": "code",
      "metadata": {
        "colab": {
          "base_uri": "https://localhost:8080/"
        },
        "id": "AwT912Jx50iX",
        "outputId": "84a2f438-abed-4c5e-abbe-020a6576cb94"
      },
      "source": [
        "model.fit(X_train, y_train, epochs = epochs, batch_size = batch_size)\n",
        "data_set_total = pd.concat((data_train['Open'], data_test['Open']), axis = 0)"
      ],
      "execution_count": null,
      "outputs": [
        {
          "output_type": "stream",
          "text": [
            "Epoch 1/16\n",
            "84/84 [==============================] - 43s 429ms/step - loss: 0.0091\n",
            "Epoch 2/16\n",
            "84/84 [==============================] - 36s 428ms/step - loss: 0.0017\n",
            "Epoch 3/16\n",
            "84/84 [==============================] - 36s 432ms/step - loss: 0.0012\n",
            "Epoch 4/16\n",
            "84/84 [==============================] - 36s 427ms/step - loss: 0.0012\n",
            "Epoch 5/16\n",
            "84/84 [==============================] - 36s 426ms/step - loss: 0.0011\n",
            "Epoch 6/16\n",
            "84/84 [==============================] - 36s 429ms/step - loss: 0.0014\n",
            "Epoch 7/16\n",
            "84/84 [==============================] - 36s 428ms/step - loss: 0.0011\n",
            "Epoch 8/16\n",
            "84/84 [==============================] - 36s 432ms/step - loss: 0.0011\n",
            "Epoch 9/16\n",
            "84/84 [==============================] - 36s 427ms/step - loss: 0.0011\n",
            "Epoch 10/16\n",
            "84/84 [==============================] - 36s 426ms/step - loss: 7.6376e-04\n",
            "Epoch 11/16\n",
            "84/84 [==============================] - 36s 428ms/step - loss: 0.0010\n",
            "Epoch 12/16\n",
            "84/84 [==============================] - 36s 423ms/step - loss: 7.4130e-04\n",
            "Epoch 13/16\n",
            "84/84 [==============================] - 36s 428ms/step - loss: 7.1478e-04\n",
            "Epoch 14/16\n",
            "84/84 [==============================] - 36s 423ms/step - loss: 6.7756e-04\n",
            "Epoch 15/16\n",
            "84/84 [==============================] - 35s 422ms/step - loss: 5.6209e-04\n",
            "Epoch 16/16\n",
            "84/84 [==============================] - 36s 424ms/step - loss: 6.5962e-04\n"
          ],
          "name": "stdout"
        }
      ]
    },
    {
      "cell_type": "code",
      "metadata": {
        "id": "4EUaC3iq50gO"
      },
      "source": [
        "inputs = data_set_total[len(data_set_total) - len(data_test) - 90:].values # using the previous 60 days to predict the 61st day\n",
        "inputs = inputs.reshape(-1,1)\n",
        "inputs = sc.transform(inputs) # rnn is expecting this format\n",
        "X_test = []\n",
        "for i in range(90, 192): # 30 previous inputs + length of data_test (was 162 when 60)\n",
        "  X_test.append(inputs[i-90:i, 0])\n",
        "X_test = np.array(X_test)\n",
        "X_test = np.reshape(X_test, (X_test.shape[0], X_test.shape[1], 1)) # 3D structure for input"
      ],
      "execution_count": null,
      "outputs": []
    },
    {
      "cell_type": "code",
      "metadata": {
        "id": "Z0E55aEc50dX"
      },
      "source": [
        "predicted_stock_price = model.predict(X_test)\n",
        "predicted_stock_price = sc.inverse_transform(predicted_stock_price) # going back from normalizing"
      ],
      "execution_count": null,
      "outputs": []
    },
    {
      "cell_type": "code",
      "metadata": {
        "colab": {
          "base_uri": "https://localhost:8080/",
          "height": 294
        },
        "id": "7uXusT6X50Vk",
        "outputId": "ecf84a43-8b46-4b5f-ec18-03971c1da976"
      },
      "source": [
        "plt.plot(test_set, color = 'green', label = 'Deere Real Stock Price')\n",
        "plt.plot(predicted_stock_price, color = 'blue', label = 'Deere Predicted Stock Price')\n",
        "plt.title('Stock Price Prediction 90 previous time steps')\n",
        "plt.xlabel('Time in Days')\n",
        "plt.ylabel('Stock Price')\n",
        "plt.legend()\n",
        "plt.show()"
      ],
      "execution_count": null,
      "outputs": [
        {
          "output_type": "display_data",
          "data": {
            "image/png": "[encoded data removed]",
            "text/plain": [
              "<Figure size 432x288 with 1 Axes>"
            ]
          },
          "metadata": {
            "tags": [],
            "needs_background": "light"
          }
        }
      ]
    },
    {
      "cell_type": "code",
      "metadata": {
        "colab": {
          "base_uri": "https://localhost:8080/"
        },
        "id": "GhbYwhqP9ls1",
        "outputId": "4cb933ec-8867-4d24-d1e5-cd9257b162be"
      },
      "source": [
        "print(percent_error(predicted_stock_price[20],test_set[20]), \"%\")"
      ],
      "execution_count": null,
      "outputs": [
        {
          "output_type": "stream",
          "text": [
            "9 %\n"
          ],
          "name": "stdout"
        }
      ]
    },
    {
      "cell_type": "code",
      "metadata": {
        "colab": {
          "base_uri": "https://localhost:8080/"
        },
        "id": "Uc0tTXpW9pCk",
        "outputId": "6493a274-4371-4a81-d30b-47f84062271c"
      },
      "source": [
        "print(percent_error(predicted_stock_price[50],test_set[50]), \"%\")"
      ],
      "execution_count": null,
      "outputs": [
        {
          "output_type": "stream",
          "text": [
            "11 %\n"
          ],
          "name": "stdout"
        }
      ]
    },
    {
      "cell_type": "code",
      "metadata": {
        "colab": {
          "base_uri": "https://localhost:8080/"
        },
        "id": "tuxhvS6E9qtc",
        "outputId": "c6361b26-673f-4e90-fdd1-d823197151bf"
      },
      "source": [
        "c = [abs(i-j)/i*100 for i,j in zip(predicted_stock_price,test_set)]\n",
        "(sum(c)/len(c))[0]"
      ],
      "execution_count": null,
      "outputs": [
        {
          "output_type": "execute_result",
          "data": {
            "text/plain": [
              "8.234717692181485"
            ]
          },
          "metadata": {
            "tags": []
          },
          "execution_count": 144
        }
      ]
    },
    {
      "cell_type": "code",
      "metadata": {
        "id": "64BKW1Lo9tpz"
      },
      "source": [
        ""
      ],
      "execution_count": null,
      "outputs": []
    }
  ]
}