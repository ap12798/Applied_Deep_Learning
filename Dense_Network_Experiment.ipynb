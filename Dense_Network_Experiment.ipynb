{
  "nbformat": 4,
  "nbformat_minor": 0,
  "metadata": {
    "colab": {
      "name": "Dense_Network_Experiment.ipynb",
      "provenance": [],
      "collapsed_sections": [],
      "include_colab_link": true
    },
    "kernelspec": {
      "name": "python3",
      "display_name": "Python 3"
    },
    "language_info": {
      "name": "python"
    }
  },
  "cells": [
    {
      "cell_type": "markdown",
      "metadata": {
        "id": "view-in-github",
        "colab_type": "text"
      },
      "source": [
        "<a href=\"https://colab.research.google.com/github/ap12798/Applied_Deep_Learning/blob/main/Dense_Network_Experiment.ipynb\" target=\"_parent\"><img src=\"https://colab.research.google.com/assets/colab-badge.svg\" alt=\"Open In Colab\"/></a>"
      ]
    },
    {
      "cell_type": "code",
      "metadata": {
        "id": "v59huRLzkPxX"
      },
      "source": [
        "import keras\n",
        "import pandas as pd\n",
        "import numpy as np\n",
        "\n",
        "from keras.datasets import mnist\n",
        "from keras.models import Sequential\n",
        "from keras.layers import Dense\n",
        "from keras.optimizers import SGD"
      ],
      "execution_count": 1,
      "outputs": []
    },
    {
      "cell_type": "code",
      "metadata": {
        "colab": {
          "base_uri": "https://localhost:8080/",
          "height": 195
        },
        "id": "RPxwxKlvRaji",
        "outputId": "9ccbb66e-39c5-4423-852d-929d6b0a1597"
      },
      "source": [
        "from seaborn import load_dataset\n",
        "iris_df = load_dataset(\"iris\")\n",
        "iris_df.species = pd.Categorical(iris_df.species, categories=['setosa','versicolor','virginica'])\n",
        "iris_df.head()"
      ],
      "execution_count": null,
      "outputs": [
        {
          "output_type": "execute_result",
          "data": {
            "text/html": [
              "<div>\n",
              "<style scoped>\n",
              "    .dataframe tbody tr th:only-of-type {\n",
              "        vertical-align: middle;\n",
              "    }\n",
              "\n",
              "    .dataframe tbody tr th {\n",
              "        vertical-align: top;\n",
              "    }\n",
              "\n",
              "    .dataframe thead th {\n",
              "        text-align: right;\n",
              "    }\n",
              "</style>\n",
              "<table border=\"1\" class=\"dataframe\">\n",
              "  <thead>\n",
              "    <tr style=\"text-align: right;\">\n",
              "      <th></th>\n",
              "      <th>sepal_length</th>\n",
              "      <th>sepal_width</th>\n",
              "      <th>petal_length</th>\n",
              "      <th>petal_width</th>\n",
              "      <th>species</th>\n",
              "    </tr>\n",
              "  </thead>\n",
              "  <tbody>\n",
              "    <tr>\n",
              "      <th>0</th>\n",
              "      <td>5.1</td>\n",
              "      <td>3.5</td>\n",
              "      <td>1.4</td>\n",
              "      <td>0.2</td>\n",
              "      <td>setosa</td>\n",
              "    </tr>\n",
              "    <tr>\n",
              "      <th>1</th>\n",
              "      <td>4.9</td>\n",
              "      <td>3.0</td>\n",
              "      <td>1.4</td>\n",
              "      <td>0.2</td>\n",
              "      <td>setosa</td>\n",
              "    </tr>\n",
              "    <tr>\n",
              "      <th>2</th>\n",
              "      <td>4.7</td>\n",
              "      <td>3.2</td>\n",
              "      <td>1.3</td>\n",
              "      <td>0.2</td>\n",
              "      <td>setosa</td>\n",
              "    </tr>\n",
              "    <tr>\n",
              "      <th>3</th>\n",
              "      <td>4.6</td>\n",
              "      <td>3.1</td>\n",
              "      <td>1.5</td>\n",
              "      <td>0.2</td>\n",
              "      <td>setosa</td>\n",
              "    </tr>\n",
              "    <tr>\n",
              "      <th>4</th>\n",
              "      <td>5.0</td>\n",
              "      <td>3.6</td>\n",
              "      <td>1.4</td>\n",
              "      <td>0.2</td>\n",
              "      <td>setosa</td>\n",
              "    </tr>\n",
              "  </tbody>\n",
              "</table>\n",
              "</div>"
            ],
            "text/plain": [
              "   sepal_length  sepal_width  petal_length  petal_width species\n",
              "0           5.1          3.5           1.4          0.2  setosa\n",
              "1           4.9          3.0           1.4          0.2  setosa\n",
              "2           4.7          3.2           1.3          0.2  setosa\n",
              "3           4.6          3.1           1.5          0.2  setosa\n",
              "4           5.0          3.6           1.4          0.2  setosa"
            ]
          },
          "metadata": {
            "tags": []
          },
          "execution_count": 27
        }
      ]
    },
    {
      "cell_type": "code",
      "metadata": {
        "colab": {
          "base_uri": "https://localhost:8080/",
          "height": 195
        },
        "id": "Pa01oddPnioT",
        "outputId": "21bd81f8-6aec-4a56-84f6-f72828e1ad29"
      },
      "source": [
        "iris_df.tail()"
      ],
      "execution_count": null,
      "outputs": [
        {
          "output_type": "execute_result",
          "data": {
            "text/html": [
              "<div>\n",
              "<style scoped>\n",
              "    .dataframe tbody tr th:only-of-type {\n",
              "        vertical-align: middle;\n",
              "    }\n",
              "\n",
              "    .dataframe tbody tr th {\n",
              "        vertical-align: top;\n",
              "    }\n",
              "\n",
              "    .dataframe thead th {\n",
              "        text-align: right;\n",
              "    }\n",
              "</style>\n",
              "<table border=\"1\" class=\"dataframe\">\n",
              "  <thead>\n",
              "    <tr style=\"text-align: right;\">\n",
              "      <th></th>\n",
              "      <th>sepal_length</th>\n",
              "      <th>sepal_width</th>\n",
              "      <th>petal_length</th>\n",
              "      <th>petal_width</th>\n",
              "      <th>species</th>\n",
              "    </tr>\n",
              "  </thead>\n",
              "  <tbody>\n",
              "    <tr>\n",
              "      <th>145</th>\n",
              "      <td>6.7</td>\n",
              "      <td>3.0</td>\n",
              "      <td>5.2</td>\n",
              "      <td>2.3</td>\n",
              "      <td>virginica</td>\n",
              "    </tr>\n",
              "    <tr>\n",
              "      <th>146</th>\n",
              "      <td>6.3</td>\n",
              "      <td>2.5</td>\n",
              "      <td>5.0</td>\n",
              "      <td>1.9</td>\n",
              "      <td>virginica</td>\n",
              "    </tr>\n",
              "    <tr>\n",
              "      <th>147</th>\n",
              "      <td>6.5</td>\n",
              "      <td>3.0</td>\n",
              "      <td>5.2</td>\n",
              "      <td>2.0</td>\n",
              "      <td>virginica</td>\n",
              "    </tr>\n",
              "    <tr>\n",
              "      <th>148</th>\n",
              "      <td>6.2</td>\n",
              "      <td>3.4</td>\n",
              "      <td>5.4</td>\n",
              "      <td>2.3</td>\n",
              "      <td>virginica</td>\n",
              "    </tr>\n",
              "    <tr>\n",
              "      <th>149</th>\n",
              "      <td>5.9</td>\n",
              "      <td>3.0</td>\n",
              "      <td>5.1</td>\n",
              "      <td>1.8</td>\n",
              "      <td>virginica</td>\n",
              "    </tr>\n",
              "  </tbody>\n",
              "</table>\n",
              "</div>"
            ],
            "text/plain": [
              "     sepal_length  sepal_width  petal_length  petal_width    species\n",
              "145           6.7          3.0           5.2          2.3  virginica\n",
              "146           6.3          2.5           5.0          1.9  virginica\n",
              "147           6.5          3.0           5.2          2.0  virginica\n",
              "148           6.2          3.4           5.4          2.3  virginica\n",
              "149           5.9          3.0           5.1          1.8  virginica"
            ]
          },
          "metadata": {
            "tags": []
          },
          "execution_count": 28
        }
      ]
    },
    {
      "cell_type": "code",
      "metadata": {
        "colab": {
          "base_uri": "https://localhost:8080/"
        },
        "id": "C1otbuPPRpJb",
        "outputId": "534120d4-dece-4d03-eab6-1dd72f8521f3"
      },
      "source": [
        "iris_df.species.value_counts()"
      ],
      "execution_count": null,
      "outputs": [
        {
          "output_type": "execute_result",
          "data": {
            "text/plain": [
              "virginica     50\n",
              "versicolor    50\n",
              "setosa        50\n",
              "Name: species, dtype: int64"
            ]
          },
          "metadata": {
            "tags": []
          },
          "execution_count": 29
        }
      ]
    },
    {
      "cell_type": "code",
      "metadata": {
        "colab": {
          "base_uri": "https://localhost:8080/"
        },
        "id": "spFPi5OvmNLN",
        "outputId": "6642f564-e13e-4a98-d3db-955e3ac2b027"
      },
      "source": [
        "iris_df.species.cat.codes.value_counts()"
      ],
      "execution_count": null,
      "outputs": [
        {
          "output_type": "execute_result",
          "data": {
            "text/plain": [
              "2    50\n",
              "1    50\n",
              "0    50\n",
              "dtype: int64"
            ]
          },
          "metadata": {
            "tags": []
          },
          "execution_count": 30
        }
      ]
    },
    {
      "cell_type": "code",
      "metadata": {
        "colab": {
          "base_uri": "https://localhost:8080/",
          "height": 106
        },
        "id": "hmdGXStxiX9T",
        "outputId": "8cf1db98-d3ad-4430-dd1a-b8679d192999"
      },
      "source": [
        "X = iris_df.drop('species', axis=1)\n",
        "X.head(2)"
      ],
      "execution_count": null,
      "outputs": [
        {
          "output_type": "execute_result",
          "data": {
            "text/html": [
              "<div>\n",
              "<style scoped>\n",
              "    .dataframe tbody tr th:only-of-type {\n",
              "        vertical-align: middle;\n",
              "    }\n",
              "\n",
              "    .dataframe tbody tr th {\n",
              "        vertical-align: top;\n",
              "    }\n",
              "\n",
              "    .dataframe thead th {\n",
              "        text-align: right;\n",
              "    }\n",
              "</style>\n",
              "<table border=\"1\" class=\"dataframe\">\n",
              "  <thead>\n",
              "    <tr style=\"text-align: right;\">\n",
              "      <th></th>\n",
              "      <th>sepal_length</th>\n",
              "      <th>sepal_width</th>\n",
              "      <th>petal_length</th>\n",
              "      <th>petal_width</th>\n",
              "    </tr>\n",
              "  </thead>\n",
              "  <tbody>\n",
              "    <tr>\n",
              "      <th>0</th>\n",
              "      <td>5.1</td>\n",
              "      <td>3.5</td>\n",
              "      <td>1.4</td>\n",
              "      <td>0.2</td>\n",
              "    </tr>\n",
              "    <tr>\n",
              "      <th>1</th>\n",
              "      <td>4.9</td>\n",
              "      <td>3.0</td>\n",
              "      <td>1.4</td>\n",
              "      <td>0.2</td>\n",
              "    </tr>\n",
              "  </tbody>\n",
              "</table>\n",
              "</div>"
            ],
            "text/plain": [
              "   sepal_length  sepal_width  petal_length  petal_width\n",
              "0           5.1          3.5           1.4          0.2\n",
              "1           4.9          3.0           1.4          0.2"
            ]
          },
          "metadata": {
            "tags": []
          },
          "execution_count": 31
        }
      ]
    },
    {
      "cell_type": "code",
      "metadata": {
        "colab": {
          "base_uri": "https://localhost:8080/"
        },
        "id": "oFHwv2SopDEj",
        "outputId": "48c943a9-83c4-4253-87a9-d65bb0d92ead"
      },
      "source": [
        "X=X.values\n",
        "X.shape"
      ],
      "execution_count": null,
      "outputs": [
        {
          "output_type": "execute_result",
          "data": {
            "text/plain": [
              "(150, 4)"
            ]
          },
          "metadata": {
            "tags": []
          },
          "execution_count": 32
        }
      ]
    },
    {
      "cell_type": "code",
      "metadata": {
        "colab": {
          "base_uri": "https://localhost:8080/"
        },
        "id": "pK8Z8qi4iw2G",
        "outputId": "45ce75e8-63c7-4c9f-e764-32d3040fb4da"
      },
      "source": [
        "y = iris_df.species.cat.codes\n",
        "y.head()"
      ],
      "execution_count": null,
      "outputs": [
        {
          "output_type": "execute_result",
          "data": {
            "text/plain": [
              "0    0\n",
              "1    0\n",
              "2    0\n",
              "3    0\n",
              "4    0\n",
              "dtype: int8"
            ]
          },
          "metadata": {
            "tags": []
          },
          "execution_count": 33
        }
      ]
    },
    {
      "cell_type": "code",
      "metadata": {
        "colab": {
          "base_uri": "https://localhost:8080/"
        },
        "id": "xRseTKX9nu4U",
        "outputId": "9c8c52eb-77b9-44e7-9622-83f9afd12908"
      },
      "source": [
        "y.tail()"
      ],
      "execution_count": null,
      "outputs": [
        {
          "output_type": "execute_result",
          "data": {
            "text/plain": [
              "145    2\n",
              "146    2\n",
              "147    2\n",
              "148    2\n",
              "149    2\n",
              "dtype: int8"
            ]
          },
          "metadata": {
            "tags": []
          },
          "execution_count": 34
        }
      ]
    },
    {
      "cell_type": "code",
      "metadata": {
        "colab": {
          "base_uri": "https://localhost:8080/"
        },
        "id": "euNsBv9hpYwE",
        "outputId": "bb2ee816-5e21-4054-a26e-43d2f20e16f3"
      },
      "source": [
        "y=y.values\n",
        "y.shape"
      ],
      "execution_count": null,
      "outputs": [
        {
          "output_type": "execute_result",
          "data": {
            "text/plain": [
              "(150,)"
            ]
          },
          "metadata": {
            "tags": []
          },
          "execution_count": 35
        }
      ]
    },
    {
      "cell_type": "code",
      "metadata": {
        "colab": {
          "base_uri": "https://localhost:8080/"
        },
        "id": "YHN8Ttcch3Vd",
        "outputId": "9af7a90a-3301-4378-a7c7-d0f5885689fe"
      },
      "source": [
        "from sklearn.model_selection import train_test_split\n",
        "\n",
        "X_train, X_valid, y_train, y_valid = train_test_split(X, y, test_size=0.25, random_state=0, stratify=y)\n",
        "\n",
        "X_train.shape, X_valid.shape, y_train.shape, y_valid.shape"
      ],
      "execution_count": null,
      "outputs": [
        {
          "output_type": "execute_result",
          "data": {
            "text/plain": [
              "((112, 4), (38, 4), (112,), (38,))"
            ]
          },
          "metadata": {
            "tags": []
          },
          "execution_count": 36
        }
      ]
    },
    {
      "cell_type": "code",
      "metadata": {
        "colab": {
          "base_uri": "https://localhost:8080/"
        },
        "id": "e_pjpi70ocMt",
        "outputId": "fd3fc03b-b8c9-43c6-d89d-df220db3c1c0"
      },
      "source": [
        "y_train[0]"
      ],
      "execution_count": null,
      "outputs": [
        {
          "output_type": "execute_result",
          "data": {
            "text/plain": [
              "1"
            ]
          },
          "metadata": {
            "tags": []
          },
          "execution_count": 37
        }
      ]
    },
    {
      "cell_type": "code",
      "metadata": {
        "id": "Kdk1yPxIjtp8"
      },
      "source": [
        "from tensorflow.keras.utils import to_categorical\n",
        "n_classes = 3\n",
        "y_train = to_categorical(y_train, n_classes)\n",
        "y_valid = to_categorical(y_valid, n_classes)"
      ],
      "execution_count": null,
      "outputs": []
    },
    {
      "cell_type": "code",
      "metadata": {
        "colab": {
          "base_uri": "https://localhost:8080/"
        },
        "id": "nUob46tIoGIj",
        "outputId": "5b666335-b2e7-47b3-bc0c-b131076508b3"
      },
      "source": [
        "y_train.shape, y_valid.shape"
      ],
      "execution_count": null,
      "outputs": [
        {
          "output_type": "execute_result",
          "data": {
            "text/plain": [
              "((112, 3), (38, 3))"
            ]
          },
          "metadata": {
            "tags": []
          },
          "execution_count": 39
        }
      ]
    },
    {
      "cell_type": "code",
      "metadata": {
        "colab": {
          "base_uri": "https://localhost:8080/"
        },
        "id": "zg8VxpmwoSAd",
        "outputId": "3d4011b0-6332-40ba-cf76-458b9ecb800c"
      },
      "source": [
        "y_train[0]"
      ],
      "execution_count": null,
      "outputs": [
        {
          "output_type": "execute_result",
          "data": {
            "text/plain": [
              "array([0., 1., 0.], dtype=float32)"
            ]
          },
          "metadata": {
            "tags": []
          },
          "execution_count": 40
        }
      ]
    },
    {
      "cell_type": "code",
      "metadata": {
        "id": "FlXbhArAggRk"
      },
      "source": [
        "model = Sequential()\n",
        "model.add(Dense(units=10, activation='relu', input_shape=(4,))) #input layer and hidden layer, so total of 3\n",
        "model.add(Dense(units=8, activation='relu'))\n",
        "model.add(Dense(units=6, activation='relu'))\n",
        "model.add(Dense(units=3, activation='softmax'))"
      ],
      "execution_count": null,
      "outputs": []
    },
    {
      "cell_type": "code",
      "metadata": {
        "colab": {
          "base_uri": "https://localhost:8080/"
        },
        "id": "MiOeeUfZh1Rb",
        "outputId": "ff3e7902-bda5-4487-85dc-404e756416b8"
      },
      "source": [
        "model.summary()"
      ],
      "execution_count": null,
      "outputs": [
        {
          "output_type": "stream",
          "text": [
            "Model: \"sequential_2\"\n",
            "_________________________________________________________________\n",
            "Layer (type)                 Output Shape              Param #   \n",
            "=================================================================\n",
            "dense_8 (Dense)              (None, 10)                50        \n",
            "_________________________________________________________________\n",
            "dense_9 (Dense)              (None, 8)                 88        \n",
            "_________________________________________________________________\n",
            "dense_10 (Dense)             (None, 6)                 54        \n",
            "_________________________________________________________________\n",
            "dense_11 (Dense)             (None, 3)                 21        \n",
            "=================================================================\n",
            "Total params: 213\n",
            "Trainable params: 213\n",
            "Non-trainable params: 0\n",
            "_________________________________________________________________\n"
          ],
          "name": "stdout"
        }
      ]
    },
    {
      "cell_type": "code",
      "metadata": {
        "id": "Mv8Qe4JBh9v8",
        "colab": {
          "base_uri": "https://localhost:8080/"
        },
        "outputId": "c095e7fb-9cc8-4d1d-c45f-10b0a15137bd"
      },
      "source": [
        "model.compile(loss='mean_squared_error', optimizer=SGD(lr=0.01), metrics=['accuracy'])"
      ],
      "execution_count": null,
      "outputs": [
        {
          "output_type": "stream",
          "text": [
            "/usr/local/lib/python3.7/dist-packages/tensorflow/python/keras/optimizer_v2/optimizer_v2.py:375: UserWarning: The `lr` argument is deprecated, use `learning_rate` instead.\n",
            "  \"The `lr` argument is deprecated, use `learning_rate` instead.\")\n"
          ],
          "name": "stderr"
        }
      ]
    },
    {
      "cell_type": "code",
      "metadata": {
        "id": "yJk9XLf7iEKy",
        "colab": {
          "base_uri": "https://localhost:8080/"
        },
        "outputId": "627b6d87-44fb-41b9-b22b-81526dabf0d2"
      },
      "source": [
        "model.fit(X_train, y_train, batch_size=1, epochs=50, verbose=1, validation_data=(X_valid, y_valid))"
      ],
      "execution_count": null,
      "outputs": [
        {
          "output_type": "stream",
          "text": [
            "Epoch 1/50\n",
            "112/112 [==============================] - 14s 6ms/step - loss: 0.2160 - accuracy: 0.4985 - val_loss: 0.1813 - val_accuracy: 0.8684\n",
            "Epoch 2/50\n",
            "112/112 [==============================] - 0s 2ms/step - loss: 0.1804 - accuracy: 0.7127 - val_loss: 0.1627 - val_accuracy: 0.8947\n",
            "Epoch 3/50\n",
            "112/112 [==============================] - 0s 2ms/step - loss: 0.1629 - accuracy: 0.6758 - val_loss: 0.1518 - val_accuracy: 0.8421\n",
            "Epoch 4/50\n",
            "112/112 [==============================] - 0s 2ms/step - loss: 0.1578 - accuracy: 0.7029 - val_loss: 0.1407 - val_accuracy: 0.7105\n",
            "Epoch 5/50\n",
            "112/112 [==============================] - 0s 2ms/step - loss: 0.1527 - accuracy: 0.6913 - val_loss: 0.1334 - val_accuracy: 0.6842\n",
            "Epoch 6/50\n",
            "112/112 [==============================] - 0s 2ms/step - loss: 0.1287 - accuracy: 0.7392 - val_loss: 0.1267 - val_accuracy: 0.6842\n",
            "Epoch 7/50\n",
            "112/112 [==============================] - 0s 2ms/step - loss: 0.1216 - accuracy: 0.7380 - val_loss: 0.1218 - val_accuracy: 0.9474\n",
            "Epoch 8/50\n",
            "112/112 [==============================] - 0s 2ms/step - loss: 0.1406 - accuracy: 0.7668 - val_loss: 0.1173 - val_accuracy: 0.9737\n",
            "Epoch 9/50\n",
            "112/112 [==============================] - 0s 2ms/step - loss: 0.1086 - accuracy: 0.8939 - val_loss: 0.1169 - val_accuracy: 0.6842\n",
            "Epoch 10/50\n",
            "112/112 [==============================] - 0s 2ms/step - loss: 0.1211 - accuracy: 0.7643 - val_loss: 0.1016 - val_accuracy: 0.8684\n",
            "Epoch 11/50\n",
            "112/112 [==============================] - 0s 1ms/step - loss: 0.1026 - accuracy: 0.8675 - val_loss: 0.0955 - val_accuracy: 0.9211\n",
            "Epoch 12/50\n",
            "112/112 [==============================] - 0s 2ms/step - loss: 0.1125 - accuracy: 0.8671 - val_loss: 0.0974 - val_accuracy: 0.7105\n",
            "Epoch 13/50\n",
            "112/112 [==============================] - 0s 2ms/step - loss: 0.1077 - accuracy: 0.7902 - val_loss: 0.0880 - val_accuracy: 1.0000\n",
            "Epoch 14/50\n",
            "112/112 [==============================] - 0s 1ms/step - loss: 0.0983 - accuracy: 0.8880 - val_loss: 0.0805 - val_accuracy: 0.8947\n",
            "Epoch 15/50\n",
            "112/112 [==============================] - 0s 2ms/step - loss: 0.0774 - accuracy: 0.8731 - val_loss: 0.0746 - val_accuracy: 1.0000\n",
            "Epoch 16/50\n",
            "112/112 [==============================] - 0s 2ms/step - loss: 0.0834 - accuracy: 0.9307 - val_loss: 0.0831 - val_accuracy: 0.7368\n",
            "Epoch 17/50\n",
            "112/112 [==============================] - 0s 1ms/step - loss: 0.0889 - accuracy: 0.8312 - val_loss: 0.0710 - val_accuracy: 1.0000\n",
            "Epoch 18/50\n",
            "112/112 [==============================] - 0s 2ms/step - loss: 0.0898 - accuracy: 0.9217 - val_loss: 0.0613 - val_accuracy: 1.0000\n",
            "Epoch 19/50\n",
            "112/112 [==============================] - 0s 2ms/step - loss: 0.0818 - accuracy: 0.9124 - val_loss: 0.0562 - val_accuracy: 0.9211\n",
            "Epoch 20/50\n",
            "112/112 [==============================] - 0s 1ms/step - loss: 0.0630 - accuracy: 0.9269 - val_loss: 0.0531 - val_accuracy: 0.9211\n",
            "Epoch 21/50\n",
            "112/112 [==============================] - 0s 2ms/step - loss: 0.0683 - accuracy: 0.9134 - val_loss: 0.0614 - val_accuracy: 0.9737\n",
            "Epoch 22/50\n",
            "112/112 [==============================] - 0s 1ms/step - loss: 0.0691 - accuracy: 0.9309 - val_loss: 0.0583 - val_accuracy: 0.8947\n",
            "Epoch 23/50\n",
            "112/112 [==============================] - 0s 1ms/step - loss: 0.0590 - accuracy: 0.9370 - val_loss: 0.0549 - val_accuracy: 0.9737\n",
            "Epoch 24/50\n",
            "112/112 [==============================] - 0s 2ms/step - loss: 0.0752 - accuracy: 0.8922 - val_loss: 0.0421 - val_accuracy: 1.0000\n",
            "Epoch 25/50\n",
            "112/112 [==============================] - 0s 2ms/step - loss: 0.0607 - accuracy: 0.9444 - val_loss: 0.0518 - val_accuracy: 0.8947\n",
            "Epoch 26/50\n",
            "112/112 [==============================] - 0s 1ms/step - loss: 0.0509 - accuracy: 0.9620 - val_loss: 0.0604 - val_accuracy: 0.9474\n",
            "Epoch 27/50\n",
            "112/112 [==============================] - 0s 2ms/step - loss: 0.0560 - accuracy: 0.9227 - val_loss: 0.0487 - val_accuracy: 0.9737\n",
            "Epoch 28/50\n",
            "112/112 [==============================] - 0s 2ms/step - loss: 0.0504 - accuracy: 0.9248 - val_loss: 0.0381 - val_accuracy: 0.9474\n",
            "Epoch 29/50\n",
            "112/112 [==============================] - 0s 2ms/step - loss: 0.0690 - accuracy: 0.8448 - val_loss: 0.0347 - val_accuracy: 1.0000\n",
            "Epoch 30/50\n",
            "112/112 [==============================] - 0s 2ms/step - loss: 0.0549 - accuracy: 0.9268 - val_loss: 0.0315 - val_accuracy: 1.0000\n",
            "Epoch 31/50\n",
            "112/112 [==============================] - 0s 2ms/step - loss: 0.0466 - accuracy: 0.9606 - val_loss: 0.0484 - val_accuracy: 0.9474\n",
            "Epoch 32/50\n",
            "112/112 [==============================] - 0s 1ms/step - loss: 0.0567 - accuracy: 0.9059 - val_loss: 0.0399 - val_accuracy: 0.9211\n",
            "Epoch 33/50\n",
            "112/112 [==============================] - 0s 2ms/step - loss: 0.0509 - accuracy: 0.9499 - val_loss: 0.0278 - val_accuracy: 1.0000\n",
            "Epoch 34/50\n",
            "112/112 [==============================] - 0s 2ms/step - loss: 0.0468 - accuracy: 0.9386 - val_loss: 0.0564 - val_accuracy: 0.8947\n",
            "Epoch 35/50\n",
            "112/112 [==============================] - 0s 2ms/step - loss: 0.0697 - accuracy: 0.8434 - val_loss: 0.0263 - val_accuracy: 1.0000\n",
            "Epoch 36/50\n",
            "112/112 [==============================] - 0s 1ms/step - loss: 0.0336 - accuracy: 0.9753 - val_loss: 0.0367 - val_accuracy: 0.9474\n",
            "Epoch 37/50\n",
            "112/112 [==============================] - 0s 2ms/step - loss: 0.0499 - accuracy: 0.9420 - val_loss: 0.0321 - val_accuracy: 0.9474\n",
            "Epoch 38/50\n",
            "112/112 [==============================] - 0s 2ms/step - loss: 0.0502 - accuracy: 0.9269 - val_loss: 0.0327 - val_accuracy: 0.9474\n",
            "Epoch 39/50\n",
            "112/112 [==============================] - 0s 1ms/step - loss: 0.0568 - accuracy: 0.9064 - val_loss: 0.0241 - val_accuracy: 0.9737\n",
            "Epoch 40/50\n",
            "112/112 [==============================] - 0s 2ms/step - loss: 0.0385 - accuracy: 0.9596 - val_loss: 0.0339 - val_accuracy: 0.9474\n",
            "Epoch 41/50\n",
            "112/112 [==============================] - 0s 2ms/step - loss: 0.0457 - accuracy: 0.9307 - val_loss: 0.0348 - val_accuracy: 0.9474\n",
            "Epoch 42/50\n",
            "112/112 [==============================] - 0s 2ms/step - loss: 0.0401 - accuracy: 0.9306 - val_loss: 0.0258 - val_accuracy: 0.9737\n",
            "Epoch 43/50\n",
            "112/112 [==============================] - 0s 2ms/step - loss: 0.0340 - accuracy: 0.9671 - val_loss: 0.0321 - val_accuracy: 0.9474\n",
            "Epoch 44/50\n",
            "112/112 [==============================] - 0s 1ms/step - loss: 0.0288 - accuracy: 0.9758 - val_loss: 0.0219 - val_accuracy: 1.0000\n",
            "Epoch 45/50\n",
            "112/112 [==============================] - 0s 1ms/step - loss: 0.0435 - accuracy: 0.9605 - val_loss: 0.0203 - val_accuracy: 1.0000\n",
            "Epoch 46/50\n",
            "112/112 [==============================] - 0s 2ms/step - loss: 0.0408 - accuracy: 0.9237 - val_loss: 0.0266 - val_accuracy: 0.9474\n",
            "Epoch 47/50\n",
            "112/112 [==============================] - 0s 2ms/step - loss: 0.0308 - accuracy: 0.9642 - val_loss: 0.0150 - val_accuracy: 1.0000\n",
            "Epoch 48/50\n",
            "112/112 [==============================] - 0s 2ms/step - loss: 0.0329 - accuracy: 0.9652 - val_loss: 0.0141 - val_accuracy: 1.0000\n",
            "Epoch 49/50\n",
            "112/112 [==============================] - 0s 1ms/step - loss: 0.0218 - accuracy: 0.9818 - val_loss: 0.0460 - val_accuracy: 0.8947\n",
            "Epoch 50/50\n",
            "112/112 [==============================] - 0s 2ms/step - loss: 0.0426 - accuracy: 0.9013 - val_loss: 0.0135 - val_accuracy: 1.0000\n"
          ],
          "name": "stdout"
        },
        {
          "output_type": "execute_result",
          "data": {
            "text/plain": [
              "<keras.callbacks.History at 0x7f490d9895d0>"
            ]
          },
          "metadata": {
            "tags": []
          },
          "execution_count": 44
        }
      ]
    },
    {
      "cell_type": "code",
      "metadata": {
        "colab": {
          "base_uri": "https://localhost:8080/"
        },
        "id": "sAzh-6qxmdW6",
        "outputId": "669f7de9-0403-413f-b9ea-76877cfe4952"
      },
      "source": [
        "model.evaluate(X_valid, y_valid)"
      ],
      "execution_count": null,
      "outputs": [
        {
          "output_type": "stream",
          "text": [
            "2/2 [==============================] - 0s 8ms/step - loss: 0.1051 - accuracy: 0.6579\n"
          ],
          "name": "stdout"
        },
        {
          "output_type": "execute_result",
          "data": {
            "text/plain": [
              "[0.10511653125286102, 0.6578947305679321]"
            ]
          },
          "metadata": {
            "tags": []
          },
          "execution_count": 44
        }
      ]
    },
    {
      "cell_type": "code",
      "metadata": {
        "colab": {
          "base_uri": "https://localhost:8080/"
        },
        "id": "giycrSg-kuRM",
        "outputId": "4a193d63-14f4-4b23-9f87-a308b4916037"
      },
      "source": [
        "y_valid[0]"
      ],
      "execution_count": null,
      "outputs": [
        {
          "output_type": "execute_result",
          "data": {
            "text/plain": [
              "array([1., 0., 0.], dtype=float32)"
            ]
          },
          "metadata": {
            "tags": []
          },
          "execution_count": 45
        }
      ]
    },
    {
      "cell_type": "code",
      "metadata": {
        "colab": {
          "base_uri": "https://localhost:8080/"
        },
        "id": "FfBL_RqYkbc6",
        "outputId": "7014fedd-3ee9-4321-cff3-e278ce0072cf"
      },
      "source": [
        "model.predict(X_valid[0].reshape(1,-1))"
      ],
      "execution_count": null,
      "outputs": [
        {
          "output_type": "execute_result",
          "data": {
            "text/plain": [
              "array([[9.8301882e-01, 1.6975494e-02, 5.5904120e-06]], dtype=float32)"
            ]
          },
          "metadata": {
            "tags": []
          },
          "execution_count": 46
        }
      ]
    },
    {
      "cell_type": "markdown",
      "metadata": {
        "id": "PO0jHtgrWJCH"
      },
      "source": [
        "##Your Turn\n",
        "- Build a Dense Network using continuous features to predict customer churn\n",
        "- Experiment with different size layers and different activation functions\n",
        "- Think about what activation makes sense for the output layer "
      ]
    },
    {
      "cell_type": "code",
      "metadata": {
        "colab": {
          "resources": {
            "http://localhost:8080/nbextensions/google.colab/files.js": {
              "data": "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",
              "ok": true,
              "headers": [
                [
                  "content-type",
                  "application/javascript"
                ]
              ],
              "status": 200,
              "status_text": "OK"
            }
          },
          "base_uri": "https://localhost:8080/",
          "height": 90
        },
        "id": "7cJkGNqhUEdw",
        "outputId": "9908641a-6f5a-49f3-cc17-5b2b13b2b607"
      },
      "source": [
        "from google.colab import files\n",
        "\n",
        "uploaded = files.upload()\n",
        "\n",
        "for fn in uploaded.keys():\n",
        "  print('User uploaded file \"{name}\" with length {length} bytes'.format(\n",
        "      name=fn, length=len(uploaded[fn])))"
      ],
      "execution_count": 2,
      "outputs": [
        {
          "output_type": "display_data",
          "data": {
            "text/html": [
              "\n",
              "     <input type=\"file\" id=\"files-a55899e4-516e-4627-851e-cc11f1b65f28\" name=\"files[]\" multiple disabled\n",
              "        style=\"border:none\" />\n",
              "     <output id=\"result-a55899e4-516e-4627-851e-cc11f1b65f28\">\n",
              "      Upload widget is only available when the cell has been executed in the\n",
              "      current browser session. Please rerun this cell to enable.\n",
              "      </output>\n",
              "      <script src=\"/nbextensions/google.colab/files.js\"></script> "
            ],
            "text/plain": [
              "<IPython.core.display.HTML object>"
            ]
          },
          "metadata": {
            "tags": []
          }
        },
        {
          "output_type": "stream",
          "text": [
            "Saving churn.csv to churn.csv\n",
            "User uploaded file \"churn.csv\" with length 720409 bytes\n"
          ],
          "name": "stdout"
        }
      ]
    },
    {
      "cell_type": "code",
      "metadata": {
        "colab": {
          "base_uri": "https://localhost:8080/",
          "height": 296
        },
        "id": "1eah8pZ4UZ4_",
        "outputId": "724cccf5-bfe4-405a-f02b-9a0e10638852"
      },
      "source": [
        "import pandas as pd\n",
        "churn_df = pd.read_csv('churn.csv')\n",
        "churn_df.head()"
      ],
      "execution_count": 3,
      "outputs": [
        {
          "output_type": "execute_result",
          "data": {
            "text/html": [
              "<div>\n",
              "<style scoped>\n",
              "    .dataframe tbody tr th:only-of-type {\n",
              "        vertical-align: middle;\n",
              "    }\n",
              "\n",
              "    .dataframe tbody tr th {\n",
              "        vertical-align: top;\n",
              "    }\n",
              "\n",
              "    .dataframe thead th {\n",
              "        text-align: right;\n",
              "    }\n",
              "</style>\n",
              "<table border=\"1\" class=\"dataframe\">\n",
              "  <thead>\n",
              "    <tr style=\"text-align: right;\">\n",
              "      <th></th>\n",
              "      <th>State</th>\n",
              "      <th>Account Length</th>\n",
              "      <th>Area Code</th>\n",
              "      <th>Phone</th>\n",
              "      <th>Int'l Plan</th>\n",
              "      <th>VMail Plan</th>\n",
              "      <th>VMail Message</th>\n",
              "      <th>Day Mins</th>\n",
              "      <th>Day Calls</th>\n",
              "      <th>Day Charge</th>\n",
              "      <th>Eve Mins</th>\n",
              "      <th>Eve Calls</th>\n",
              "      <th>Eve Charge</th>\n",
              "      <th>Night Mins</th>\n",
              "      <th>Night Calls</th>\n",
              "      <th>Night Charge</th>\n",
              "      <th>Intl Mins</th>\n",
              "      <th>Intl Calls</th>\n",
              "      <th>Intl Charge</th>\n",
              "      <th>CustServ Calls</th>\n",
              "      <th>Churn?</th>\n",
              "    </tr>\n",
              "  </thead>\n",
              "  <tbody>\n",
              "    <tr>\n",
              "      <th>0</th>\n",
              "      <td>PA</td>\n",
              "      <td>163</td>\n",
              "      <td>806</td>\n",
              "      <td>403-2562</td>\n",
              "      <td>no</td>\n",
              "      <td>yes</td>\n",
              "      <td>300</td>\n",
              "      <td>8.162204</td>\n",
              "      <td>3</td>\n",
              "      <td>7.579174</td>\n",
              "      <td>3.933035</td>\n",
              "      <td>4</td>\n",
              "      <td>6.508639</td>\n",
              "      <td>4.065759</td>\n",
              "      <td>100</td>\n",
              "      <td>5.111624</td>\n",
              "      <td>4.928160</td>\n",
              "      <td>6</td>\n",
              "      <td>5.673203</td>\n",
              "      <td>3</td>\n",
              "      <td>True.</td>\n",
              "    </tr>\n",
              "    <tr>\n",
              "      <th>1</th>\n",
              "      <td>SC</td>\n",
              "      <td>15</td>\n",
              "      <td>836</td>\n",
              "      <td>158-8416</td>\n",
              "      <td>yes</td>\n",
              "      <td>no</td>\n",
              "      <td>0</td>\n",
              "      <td>10.018993</td>\n",
              "      <td>4</td>\n",
              "      <td>4.226289</td>\n",
              "      <td>2.325005</td>\n",
              "      <td>0</td>\n",
              "      <td>9.972592</td>\n",
              "      <td>7.141040</td>\n",
              "      <td>200</td>\n",
              "      <td>6.436188</td>\n",
              "      <td>3.221748</td>\n",
              "      <td>6</td>\n",
              "      <td>2.559749</td>\n",
              "      <td>8</td>\n",
              "      <td>False.</td>\n",
              "    </tr>\n",
              "    <tr>\n",
              "      <th>2</th>\n",
              "      <td>MO</td>\n",
              "      <td>131</td>\n",
              "      <td>777</td>\n",
              "      <td>896-6253</td>\n",
              "      <td>no</td>\n",
              "      <td>yes</td>\n",
              "      <td>300</td>\n",
              "      <td>4.708490</td>\n",
              "      <td>3</td>\n",
              "      <td>4.768160</td>\n",
              "      <td>4.537466</td>\n",
              "      <td>3</td>\n",
              "      <td>4.566715</td>\n",
              "      <td>5.363235</td>\n",
              "      <td>100</td>\n",
              "      <td>5.142451</td>\n",
              "      <td>7.139023</td>\n",
              "      <td>2</td>\n",
              "      <td>6.254157</td>\n",
              "      <td>4</td>\n",
              "      <td>False.</td>\n",
              "    </tr>\n",
              "    <tr>\n",
              "      <th>3</th>\n",
              "      <td>WY</td>\n",
              "      <td>75</td>\n",
              "      <td>878</td>\n",
              "      <td>817-5729</td>\n",
              "      <td>yes</td>\n",
              "      <td>yes</td>\n",
              "      <td>700</td>\n",
              "      <td>1.268734</td>\n",
              "      <td>3</td>\n",
              "      <td>2.567642</td>\n",
              "      <td>2.528748</td>\n",
              "      <td>5</td>\n",
              "      <td>2.333624</td>\n",
              "      <td>3.773586</td>\n",
              "      <td>450</td>\n",
              "      <td>3.814413</td>\n",
              "      <td>2.245779</td>\n",
              "      <td>6</td>\n",
              "      <td>1.080692</td>\n",
              "      <td>6</td>\n",
              "      <td>False.</td>\n",
              "    </tr>\n",
              "    <tr>\n",
              "      <th>4</th>\n",
              "      <td>WY</td>\n",
              "      <td>146</td>\n",
              "      <td>878</td>\n",
              "      <td>450-4942</td>\n",
              "      <td>yes</td>\n",
              "      <td>no</td>\n",
              "      <td>0</td>\n",
              "      <td>2.696177</td>\n",
              "      <td>3</td>\n",
              "      <td>5.908916</td>\n",
              "      <td>6.015337</td>\n",
              "      <td>3</td>\n",
              "      <td>3.670408</td>\n",
              "      <td>3.751673</td>\n",
              "      <td>250</td>\n",
              "      <td>2.796812</td>\n",
              "      <td>6.905545</td>\n",
              "      <td>4</td>\n",
              "      <td>7.134343</td>\n",
              "      <td>6</td>\n",
              "      <td>True.</td>\n",
              "    </tr>\n",
              "  </tbody>\n",
              "</table>\n",
              "</div>"
            ],
            "text/plain": [
              "  State  Account Length  Area Code  ... Intl Charge CustServ Calls  Churn?\n",
              "0    PA             163        806  ...    5.673203              3   True.\n",
              "1    SC              15        836  ...    2.559749              8  False.\n",
              "2    MO             131        777  ...    6.254157              4  False.\n",
              "3    WY              75        878  ...    1.080692              6  False.\n",
              "4    WY             146        878  ...    7.134343              6   True.\n",
              "\n",
              "[5 rows x 21 columns]"
            ]
          },
          "metadata": {
            "tags": []
          },
          "execution_count": 3
        }
      ]
    },
    {
      "cell_type": "code",
      "metadata": {
        "id": "fRZmVS7uZYXB",
        "colab": {
          "base_uri": "https://localhost:8080/"
        },
        "outputId": "d9d2a8d0-3975-4d8c-f8bf-d35925274ef2"
      },
      "source": [
        "churn_df.info()"
      ],
      "execution_count": null,
      "outputs": [
        {
          "output_type": "stream",
          "text": [
            "<class 'pandas.core.frame.DataFrame'>\n",
            "RangeIndex: 5000 entries, 0 to 4999\n",
            "Data columns (total 21 columns):\n",
            " #   Column          Non-Null Count  Dtype  \n",
            "---  ------          --------------  -----  \n",
            " 0   State           5000 non-null   object \n",
            " 1   Account Length  5000 non-null   int64  \n",
            " 2   Area Code       5000 non-null   int64  \n",
            " 3   Phone           5000 non-null   object \n",
            " 4   Int'l Plan      5000 non-null   object \n",
            " 5   VMail Plan      5000 non-null   object \n",
            " 6   VMail Message   5000 non-null   int64  \n",
            " 7   Day Mins        5000 non-null   float64\n",
            " 8   Day Calls       5000 non-null   int64  \n",
            " 9   Day Charge      5000 non-null   float64\n",
            " 10  Eve Mins        5000 non-null   float64\n",
            " 11  Eve Calls       5000 non-null   int64  \n",
            " 12  Eve Charge      5000 non-null   float64\n",
            " 13  Night Mins      5000 non-null   float64\n",
            " 14  Night Calls     5000 non-null   int64  \n",
            " 15  Night Charge    5000 non-null   float64\n",
            " 16  Intl Mins       5000 non-null   float64\n",
            " 17  Intl Calls      5000 non-null   int64  \n",
            " 18  Intl Charge     5000 non-null   float64\n",
            " 19  CustServ Calls  5000 non-null   int64  \n",
            " 20  Churn?          5000 non-null   object \n",
            "dtypes: float64(8), int64(8), object(5)\n",
            "memory usage: 820.4+ KB\n"
          ],
          "name": "stdout"
        }
      ]
    },
    {
      "cell_type": "code",
      "metadata": {
        "colab": {
          "base_uri": "https://localhost:8080/",
          "height": 195
        },
        "id": "G_REgN8WX4TL",
        "outputId": "9906cbbe-c4a2-4a18-d613-afcb12b19094"
      },
      "source": [
        "import numpy as np\n",
        "\n",
        "cols = ['Day Mins', 'Day Charge', 'Eve Mins', 'Eve Charge', 'Night Mins', 'Night Charge', 'Intl Mins', 'Intl Charge', 'CustServ Calls', 'Churn?']\n",
        "churn_data = churn_df[cols].copy()\n",
        "churn_data['Churn'] = np.where(churn_data['Churn?'] =='True.', 1, 0)\n",
        "churn_data.head()"
      ],
      "execution_count": 53,
      "outputs": [
        {
          "output_type": "execute_result",
          "data": {
            "text/html": [
              "<div>\n",
              "<style scoped>\n",
              "    .dataframe tbody tr th:only-of-type {\n",
              "        vertical-align: middle;\n",
              "    }\n",
              "\n",
              "    .dataframe tbody tr th {\n",
              "        vertical-align: top;\n",
              "    }\n",
              "\n",
              "    .dataframe thead th {\n",
              "        text-align: right;\n",
              "    }\n",
              "</style>\n",
              "<table border=\"1\" class=\"dataframe\">\n",
              "  <thead>\n",
              "    <tr style=\"text-align: right;\">\n",
              "      <th></th>\n",
              "      <th>Day Mins</th>\n",
              "      <th>Day Charge</th>\n",
              "      <th>Eve Mins</th>\n",
              "      <th>Eve Charge</th>\n",
              "      <th>Night Mins</th>\n",
              "      <th>Night Charge</th>\n",
              "      <th>Intl Mins</th>\n",
              "      <th>Intl Charge</th>\n",
              "      <th>CustServ Calls</th>\n",
              "      <th>Churn?</th>\n",
              "      <th>Churn</th>\n",
              "    </tr>\n",
              "  </thead>\n",
              "  <tbody>\n",
              "    <tr>\n",
              "      <th>0</th>\n",
              "      <td>8.162204</td>\n",
              "      <td>7.579174</td>\n",
              "      <td>3.933035</td>\n",
              "      <td>6.508639</td>\n",
              "      <td>4.065759</td>\n",
              "      <td>5.111624</td>\n",
              "      <td>4.928160</td>\n",
              "      <td>5.673203</td>\n",
              "      <td>3</td>\n",
              "      <td>True.</td>\n",
              "      <td>1</td>\n",
              "    </tr>\n",
              "    <tr>\n",
              "      <th>1</th>\n",
              "      <td>10.018993</td>\n",
              "      <td>4.226289</td>\n",
              "      <td>2.325005</td>\n",
              "      <td>9.972592</td>\n",
              "      <td>7.141040</td>\n",
              "      <td>6.436188</td>\n",
              "      <td>3.221748</td>\n",
              "      <td>2.559749</td>\n",
              "      <td>8</td>\n",
              "      <td>False.</td>\n",
              "      <td>0</td>\n",
              "    </tr>\n",
              "    <tr>\n",
              "      <th>2</th>\n",
              "      <td>4.708490</td>\n",
              "      <td>4.768160</td>\n",
              "      <td>4.537466</td>\n",
              "      <td>4.566715</td>\n",
              "      <td>5.363235</td>\n",
              "      <td>5.142451</td>\n",
              "      <td>7.139023</td>\n",
              "      <td>6.254157</td>\n",
              "      <td>4</td>\n",
              "      <td>False.</td>\n",
              "      <td>0</td>\n",
              "    </tr>\n",
              "    <tr>\n",
              "      <th>3</th>\n",
              "      <td>1.268734</td>\n",
              "      <td>2.567642</td>\n",
              "      <td>2.528748</td>\n",
              "      <td>2.333624</td>\n",
              "      <td>3.773586</td>\n",
              "      <td>3.814413</td>\n",
              "      <td>2.245779</td>\n",
              "      <td>1.080692</td>\n",
              "      <td>6</td>\n",
              "      <td>False.</td>\n",
              "      <td>0</td>\n",
              "    </tr>\n",
              "    <tr>\n",
              "      <th>4</th>\n",
              "      <td>2.696177</td>\n",
              "      <td>5.908916</td>\n",
              "      <td>6.015337</td>\n",
              "      <td>3.670408</td>\n",
              "      <td>3.751673</td>\n",
              "      <td>2.796812</td>\n",
              "      <td>6.905545</td>\n",
              "      <td>7.134343</td>\n",
              "      <td>6</td>\n",
              "      <td>True.</td>\n",
              "      <td>1</td>\n",
              "    </tr>\n",
              "  </tbody>\n",
              "</table>\n",
              "</div>"
            ],
            "text/plain": [
              "    Day Mins  Day Charge  Eve Mins  ...  CustServ Calls  Churn?  Churn\n",
              "0   8.162204    7.579174  3.933035  ...               3   True.      1\n",
              "1  10.018993    4.226289  2.325005  ...               8  False.      0\n",
              "2   4.708490    4.768160  4.537466  ...               4  False.      0\n",
              "3   1.268734    2.567642  2.528748  ...               6  False.      0\n",
              "4   2.696177    5.908916  6.015337  ...               6   True.      1\n",
              "\n",
              "[5 rows x 11 columns]"
            ]
          },
          "metadata": {
            "tags": []
          },
          "execution_count": 53
        }
      ]
    },
    {
      "cell_type": "code",
      "metadata": {
        "colab": {
          "base_uri": "https://localhost:8080/"
        },
        "id": "LZ0SrFGWcAmV",
        "outputId": "6cb19106-f569-48d2-a3b3-4d1f521df12c"
      },
      "source": [
        "churn_data['Churn'].value_counts()"
      ],
      "execution_count": 5,
      "outputs": [
        {
          "output_type": "execute_result",
          "data": {
            "text/plain": [
              "0    2502\n",
              "1    2498\n",
              "Name: Churn, dtype: int64"
            ]
          },
          "metadata": {
            "tags": []
          },
          "execution_count": 5
        }
      ]
    },
    {
      "cell_type": "code",
      "metadata": {
        "colab": {
          "base_uri": "https://localhost:8080/"
        },
        "id": "J9VZJu35bD5N",
        "outputId": "4d73ae1b-cbd0-4349-d30c-e6aacea7f1b1"
      },
      "source": [
        "features = ['Day Mins', 'Day Charge', 'Eve Mins', 'Eve Charge', 'Night Mins', 'Night Charge', 'Intl Mins', 'Intl Charge', 'CustServ Calls']\n",
        "target = 'Churn'\n",
        "\n",
        "X = churn_data[features].values\n",
        "y = churn_data[target].values\n",
        "X.shape, y.shape"
      ],
      "execution_count": 54,
      "outputs": [
        {
          "output_type": "execute_result",
          "data": {
            "text/plain": [
              "((5000, 9), (5000,))"
            ]
          },
          "metadata": {
            "tags": []
          },
          "execution_count": 54
        }
      ]
    },
    {
      "cell_type": "code",
      "metadata": {
        "colab": {
          "base_uri": "https://localhost:8080/"
        },
        "id": "rnkjk7SieiU6",
        "outputId": "b5b5cbb6-7150-434a-ae68-a4fd7123c74a"
      },
      "source": [
        "from sklearn.model_selection import train_test_split\n",
        "\n",
        "X_train, X_valid, y_train, y_valid = train_test_split(X, y, test_size=0.25, random_state=0)\n",
        "\n",
        "X_train.shape, X_valid.shape, y_train.shape, y_valid.shape"
      ],
      "execution_count": 55,
      "outputs": [
        {
          "output_type": "execute_result",
          "data": {
            "text/plain": [
              "((3750, 9), (1250, 9), (3750,), (1250,))"
            ]
          },
          "metadata": {
            "tags": []
          },
          "execution_count": 55
        }
      ]
    },
    {
      "cell_type": "code",
      "metadata": {
        "colab": {
          "base_uri": "https://localhost:8080/"
        },
        "id": "lkR8HIEghGrq",
        "outputId": "24f821ae-d83b-4461-d2b8-6803a1fa0fe3"
      },
      "source": [
        "X_train"
      ],
      "execution_count": null,
      "outputs": [
        {
          "output_type": "execute_result",
          "data": {
            "text/plain": [
              "array([[13.23664371, 11.00768366,  5.54973717, ...,  6.12155121,\n",
              "         3.12411923,  3.        ],\n",
              "       [ 3.64623966,  4.11254353,  2.83378984, ...,  5.58227412,\n",
              "         2.96599581,  7.        ],\n",
              "       [ 0.53955568,  3.66313094,  0.08811626, ...,  4.46893939,\n",
              "         1.29072559,  4.        ],\n",
              "       ...,\n",
              "       [10.40811761,  6.20244068,  7.00614012, ...,  4.32914583,\n",
              "         4.21910436,  3.        ],\n",
              "       [10.0109857 ,  7.35504399,  6.7736002 , ...,  3.69210465,\n",
              "         6.18139625,  4.        ],\n",
              "       [ 1.65060626,  4.23125228,  4.88634033, ...,  6.5126707 ,\n",
              "         3.49669159,  5.        ]])"
            ]
          },
          "metadata": {
            "tags": []
          },
          "execution_count": 56
        }
      ]
    },
    {
      "cell_type": "code",
      "metadata": {
        "colab": {
          "base_uri": "https://localhost:8080/"
        },
        "id": "KjtKtLGYhJpu",
        "outputId": "dfda019d-76a8-42a9-b246-a1e791155378"
      },
      "source": [
        "y_train"
      ],
      "execution_count": null,
      "outputs": [
        {
          "output_type": "execute_result",
          "data": {
            "text/plain": [
              "array([1, 0, 0, ..., 1, 1, 0])"
            ]
          },
          "metadata": {
            "tags": []
          },
          "execution_count": 57
        }
      ]
    },
    {
      "cell_type": "markdown",
      "metadata": {
        "id": "1BXUSmc4qz12"
      },
      "source": [
        "Consider whether you should normalize using:\n",
        "https://keras.io/api/utils/python_utils/#normalize-function"
      ]
    },
    {
      "cell_type": "code",
      "metadata": {
        "colab": {
          "base_uri": "https://localhost:8080/"
        },
        "id": "XmUFFrOCqZ29",
        "outputId": "226e5df2-60c5-41a0-8d5c-4a1baaa2bf14"
      },
      "source": [
        "from tensorflow.keras.utils import normalize\n",
        "\n",
        "normalize(X_train)"
      ],
      "execution_count": 35,
      "outputs": [
        {
          "output_type": "execute_result",
          "data": {
            "text/plain": [
              "array([[0.89374987, 0.26289441, 0.2186248 , ..., 0.12158079, 0.06204847,\n",
              "        0.05958332],\n",
              "       [0.98711802, 0.04284844, 0.04832816, ..., 0.06559956, 0.03485462,\n",
              "        0.08225984],\n",
              "       [0.99738028, 0.00407683, 0.02767829, ..., 0.03376691, 0.00975261,\n",
              "        0.03022364],\n",
              "       ...,\n",
              "       [0.99223733, 0.06884882, 0.04102862, ..., 0.02863693, 0.02790902,\n",
              "        0.01984475],\n",
              "       [0.99503734, 0.05134693, 0.03772445, ..., 0.01893702, 0.03170474,\n",
              "        0.02051623],\n",
              "       [0.99143599, 0.01818301, 0.04661129, ..., 0.07174329, 0.0385194 ,\n",
              "        0.05507978]])"
            ]
          },
          "metadata": {
            "tags": []
          },
          "execution_count": 35
        }
      ]
    },
    {
      "cell_type": "code",
      "metadata": {
        "id": "sP5M7fxyQq-g"
      },
      "source": [
        "model = Sequential()\n",
        "model.add(Dense(units=10, activation='relu', input_shape=(9,))) #input layer and hidden layer, so total of 3\n",
        "model.add(Dense(units=8, activation='tanh'))\n",
        "# model.add(Dense(units=6, activation='relu'))\n",
        "model.add(Dense(units=1, activation='sigmoid'))"
      ],
      "execution_count": 56,
      "outputs": []
    },
    {
      "cell_type": "code",
      "metadata": {
        "colab": {
          "base_uri": "https://localhost:8080/"
        },
        "id": "WdcTQAbiRC9v",
        "outputId": "3460d7e7-5511-4d85-bc58-cab79ffe2ddf"
      },
      "source": [
        "model.summary()"
      ],
      "execution_count": 50,
      "outputs": [
        {
          "output_type": "stream",
          "text": [
            "Model: \"sequential_4\"\n",
            "_________________________________________________________________\n",
            "Layer (type)                 Output Shape              Param #   \n",
            "=================================================================\n",
            "dense_14 (Dense)             (None, 10)                110       \n",
            "_________________________________________________________________\n",
            "dense_15 (Dense)             (None, 8)                 88        \n",
            "_________________________________________________________________\n",
            "dense_16 (Dense)             (None, 1)                 9         \n",
            "=================================================================\n",
            "Total params: 207\n",
            "Trainable params: 207\n",
            "Non-trainable params: 0\n",
            "_________________________________________________________________\n"
          ],
          "name": "stdout"
        }
      ]
    },
    {
      "cell_type": "code",
      "metadata": {
        "id": "mdz4PLGzRNng"
      },
      "source": [
        "model.compile(loss='mean_squared_error', optimizer=SGD(learning_rate=0.01), metrics=['accuracy'])"
      ],
      "execution_count": 57,
      "outputs": []
    },
    {
      "cell_type": "code",
      "metadata": {
        "colab": {
          "base_uri": "https://localhost:8080/"
        },
        "id": "tbhe3T-4RPPX",
        "outputId": "2a669b0f-df07-4f1e-ae3e-2ad5db9e4f2b"
      },
      "source": [
        "model.fit(X_train, y_train, batch_size=1, epochs=10, verbose=1, validation_data=(X_valid, y_valid))"
      ],
      "execution_count": 58,
      "outputs": [
        {
          "output_type": "stream",
          "text": [
            "Epoch 1/10\n",
            "3750/3750 [==============================] - 7s 2ms/step - loss: 0.1725 - accuracy: 0.7536 - val_loss: 0.1314 - val_accuracy: 0.8184\n",
            "Epoch 2/10\n",
            "3750/3750 [==============================] - 5s 1ms/step - loss: 0.1270 - accuracy: 0.8270 - val_loss: 0.1082 - val_accuracy: 0.8608\n",
            "Epoch 3/10\n",
            "3750/3750 [==============================] - 5s 1ms/step - loss: 0.1097 - accuracy: 0.8529 - val_loss: 0.1035 - val_accuracy: 0.8608\n",
            "Epoch 4/10\n",
            "3750/3750 [==============================] - 5s 1ms/step - loss: 0.0971 - accuracy: 0.8598 - val_loss: 0.1236 - val_accuracy: 0.8184\n",
            "Epoch 5/10\n",
            "3750/3750 [==============================] - 5s 1ms/step - loss: 0.0962 - accuracy: 0.8718 - val_loss: 0.0857 - val_accuracy: 0.8888\n",
            "Epoch 6/10\n",
            "3750/3750 [==============================] - 6s 1ms/step - loss: 0.0884 - accuracy: 0.8729 - val_loss: 0.0878 - val_accuracy: 0.8848\n",
            "Epoch 7/10\n",
            "3750/3750 [==============================] - 5s 1ms/step - loss: 0.0858 - accuracy: 0.8800 - val_loss: 0.0844 - val_accuracy: 0.8824\n",
            "Epoch 8/10\n",
            "3750/3750 [==============================] - 5s 1ms/step - loss: 0.0801 - accuracy: 0.8916 - val_loss: 0.0938 - val_accuracy: 0.8720\n",
            "Epoch 9/10\n",
            "3750/3750 [==============================] - 5s 1ms/step - loss: 0.0914 - accuracy: 0.8779 - val_loss: 0.0912 - val_accuracy: 0.8776\n",
            "Epoch 10/10\n",
            "3750/3750 [==============================] - 5s 1ms/step - loss: 0.0827 - accuracy: 0.8882 - val_loss: 0.0968 - val_accuracy: 0.8632\n"
          ],
          "name": "stdout"
        },
        {
          "output_type": "execute_result",
          "data": {
            "text/plain": [
              "<keras.callbacks.History at 0x7f72a5ae6510>"
            ]
          },
          "metadata": {
            "tags": []
          },
          "execution_count": 58
        }
      ]
    },
    {
      "cell_type": "code",
      "metadata": {
        "colab": {
          "base_uri": "https://localhost:8080/"
        },
        "id": "C9Um7uFXRRzF",
        "outputId": "cc6d78a1-ed9a-4831-fdca-7d94182848d4"
      },
      "source": [
        "model.evaluate(X_valid, y_valid)"
      ],
      "execution_count": 59,
      "outputs": [
        {
          "output_type": "stream",
          "text": [
            "40/40 [==============================] - 0s 2ms/step - loss: 0.0968 - accuracy: 0.8632\n"
          ],
          "name": "stdout"
        },
        {
          "output_type": "execute_result",
          "data": {
            "text/plain": [
              "[0.09679380059242249, 0.8632000088691711]"
            ]
          },
          "metadata": {
            "tags": []
          },
          "execution_count": 59
        }
      ]
    },
    {
      "cell_type": "code",
      "metadata": {
        "colab": {
          "base_uri": "https://localhost:8080/"
        },
        "id": "rbiOVth8STXb",
        "outputId": "00f9aeb5-211b-4bf5-d967-08cdf28cc70a"
      },
      "source": [
        "y_valid[0:10]"
      ],
      "execution_count": 60,
      "outputs": [
        {
          "output_type": "execute_result",
          "data": {
            "text/plain": [
              "array([0, 1, 1, 0, 0, 0, 1, 0, 1, 1])"
            ]
          },
          "metadata": {
            "tags": []
          },
          "execution_count": 60
        }
      ]
    },
    {
      "cell_type": "code",
      "metadata": {
        "colab": {
          "base_uri": "https://localhost:8080/"
        },
        "id": "5rOO6il8SbWB",
        "outputId": "b17c12dd-97f0-45b5-db75-415bbf501770"
      },
      "source": [
        "# model.predict(X_valid[10].reshape(1,-1))"
      ],
      "execution_count": 23,
      "outputs": [
        {
          "output_type": "execute_result",
          "data": {
            "text/plain": [
              "array([[0.87091994]], dtype=float32)"
            ]
          },
          "metadata": {
            "tags": []
          },
          "execution_count": 23
        }
      ]
    },
    {
      "cell_type": "code",
      "metadata": {
        "id": "Wod04O45Sc-D",
        "colab": {
          "base_uri": "https://localhost:8080/"
        },
        "outputId": "1c68b781-5344-4e7e-f069-611aaee33573"
      },
      "source": [
        "y_pred = model.predict(X_valid)\n",
        "y_pred[:10]"
      ],
      "execution_count": 61,
      "outputs": [
        {
          "output_type": "execute_result",
          "data": {
            "text/plain": [
              "array([[0.00619647],\n",
              "       [0.8637851 ],\n",
              "       [0.94904685],\n",
              "       [0.0483596 ],\n",
              "       [0.13259804],\n",
              "       [0.13195819],\n",
              "       [0.9603261 ],\n",
              "       [0.01169142],\n",
              "       [0.69872326],\n",
              "       [0.9527961 ]], dtype=float32)"
            ]
          },
          "metadata": {
            "tags": []
          },
          "execution_count": 61
        }
      ]
    },
    {
      "cell_type": "code",
      "metadata": {
        "id": "y6EJgcq0JFM1"
      },
      "source": [
        ""
      ],
      "execution_count": null,
      "outputs": []
    }
  ]
}